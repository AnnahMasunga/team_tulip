{
 "cells": [
  {
   "cell_type": "markdown",
   "id": "75f6b5d2",
   "metadata": {},
   "source": [
    "# Retail Chain Sales Exploratory Data Analysis\n",
    "\n",
    "![Assorted Drinks](./assets/images/kenny-eliason-SvhXD3kPSTY-unsplash.jpg)\n",
    "\n",
    "Photo by <a href=\"https://unsplash.com/@neonbrand?utm_source=unsplash&utm_medium=referral&utm_content=creditCopyText\">Kenny Eliason</a> on <a href=\"https://unsplash.com/photos/SvhXD3kPSTY?utm_source=unsplash&utm_medium=referral&utm_content=creditCopyText\">Unsplash</a>\n",
    "  "
   ]
  },
  {
   "cell_type": "markdown",
   "id": "2eb1a572",
   "metadata": {},
   "source": [
    "## 1. Business Understanding\n",
    "\n",
    "We are embarking on an Exploratory Data Analysis (EDA) journey with a rich supermarket dataset, and our collective focus lies in formulating a comprehensive problem statement. Firstly, we aim to unravel the intricate patterns within sales data, aiming to discern the key factors influencing them. Our group endeavors to identify the top-selling product categories, investigate seasonal variations, and scrutinize the potential correlations between Payment Method and sales performance. Moreover, we're eager to understand if specific days of the week or particular times of day witness increased foot traffic and/or higher sales, as this can greatly inform our decisions regarding staffing and inventory management.\n",
    "\n",
    "Additionally, we are committed to delving into the intricacies of customer segmentation and behavior analysis. Our objective is to uncover who our most frequent customers are, along with their demographic profiles and preferred product choices. We are also excited to unearth any discernible purchasing patterns among our customers. Such insights will be pivotal in designing targeted marketing strategies and optimizing product placement strategies throughout the store.\n",
    "\n",
    "Lastly, we are intrigued by the geographical and demographic factors that influence our store's performance. Our collective efforts will focus on analyzing the supermarket's location in relation to residential areas, competitors, and transportation hubs. We are also keen on understanding the income levels and preferences of the local population, as this information will enable us to tailor our product offerings and marketing campaigns to maximize sales and profitability.\n",
    "\n",
    "In summary, our group is committed to conducting an EDA on this supermarket dataset with the ultimate goal of providing actionable insights. By addressing these various aspects in our analysis, we aim to improve the supermarket's operations, enhance customer satisfaction, and ultimately drive the growth of our business."
   ]
  },
  {
   "cell_type": "markdown",
   "id": "7c5c41a3",
   "metadata": {},
   "source": [
    "## 2. Data Understanding\n",
    "\n",
    "The dataset is contained in a CSV(comma separated Values) file, and is stored in the data/ folder in the current folder.\n",
    "It is one of the historical sales of supermarket company which has recorded in 3 different branches for 3 months data.\n",
    "Our dataset contains 1000 rows and 17 columns giving details about each datapoint.\n",
    "Data Dictionary\n",
    "\n",
    "* **Invoice id:** Computer generated sales slip invoice identification number\n",
    "* **Branch:** Branch of supercenter (3 branches are available identified by A, B and C).\n",
    "* **City:** Location of supercenters\n",
    "* **Customer type:** Type of customers, recorded by Members for customers using member card and Normal for without member card.\n",
    "* **Gender:** Gender type of customer\n",
    "* **Product line:** General item categorization groups - Electronic accessories, Fashion accessories, Food and beverages, Health and beauty, Home and lifestyle, Sports and travel\n",
    "* **Unit price:** Price of each product in USD\n",
    "* **Quantity:** Number of products purchased by customer\n",
    "* **Tax:** 5% tax fee for customer buying\n",
    "* **Total:** Total price including tax\n",
    "* **Date:** Date of purchase (Record available from January 2019 to March 2019)\n",
    "* **Time:** Purchase time (10am to 9pm)\n",
    "* **Payment:** Payment used by customer for purchase (3 methods are available – Cash, Credit card and Ewallet)\n",
    "* **COGS:** Cost of goods sold\n",
    "* **Gross margin percentage:** Gross margin percentage\n",
    "* **Gross income:** Gross income\n",
    "* **Rating:** Customer stratification rating on their overall shopping experience (On a scale of 1 to 10)\n"
   ]
  },
  {
   "cell_type": "markdown",
   "id": "f9e14e17",
   "metadata": {},
   "source": [
    "## 3. Data Cleaning"
   ]
  },
  {
   "cell_type": "code",
<<<<<<< HEAD
   "execution_count": 1,
=======
   "execution_count": 32,
>>>>>>> 3a02bc2bd8140609b12dc3ae5eee29ec06e4eb0a
   "id": "50db3f54",
   "metadata": {},
   "outputs": [],
   "source": [
    "# imports\n",
    "import pandas as pd\n",
    "import numpy as np\n",
    "import matplotlib.pyplot as plt\n",
    "import plotly.express as px\n",
    "import seaborn as sns"
   ]
  },
  {
   "cell_type": "code",
   "execution_count": 33,
   "id": "06ff7bd6",
   "metadata": {},
   "outputs": [
    {
     "data": {
      "text/html": [
       "<div>\n",
       "<style scoped>\n",
       "    .dataframe tbody tr th:only-of-type {\n",
       "        vertical-align: middle;\n",
       "    }\n",
       "\n",
       "    .dataframe tbody tr th {\n",
       "        vertical-align: top;\n",
       "    }\n",
       "\n",
       "    .dataframe thead th {\n",
       "        text-align: right;\n",
       "    }\n",
       "</style>\n",
       "<table border=\"1\" class=\"dataframe\">\n",
       "  <thead>\n",
       "    <tr style=\"text-align: right;\">\n",
       "      <th></th>\n",
       "      <th>Invoice ID</th>\n",
       "      <th>Branch</th>\n",
       "      <th>City</th>\n",
       "      <th>Customer type</th>\n",
       "      <th>Gender</th>\n",
       "      <th>Product line</th>\n",
       "      <th>Unit price</th>\n",
       "      <th>Quantity</th>\n",
       "      <th>Tax 5%</th>\n",
       "      <th>Total</th>\n",
       "      <th>Date</th>\n",
       "      <th>Time</th>\n",
       "      <th>Payment</th>\n",
       "      <th>cogs</th>\n",
       "      <th>gross margin percentage</th>\n",
       "      <th>gross income</th>\n",
       "      <th>Rating</th>\n",
       "    </tr>\n",
       "  </thead>\n",
       "  <tbody>\n",
       "    <tr>\n",
       "      <th>0</th>\n",
       "      <td>750-67-8428</td>\n",
       "      <td>A</td>\n",
       "      <td>Yangon</td>\n",
       "      <td>Member</td>\n",
       "      <td>Female</td>\n",
       "      <td>Health and beauty</td>\n",
       "      <td>74.69</td>\n",
       "      <td>7</td>\n",
       "      <td>26.1415</td>\n",
       "      <td>548.9715</td>\n",
       "      <td>1/5/2019</td>\n",
       "      <td>13:08</td>\n",
       "      <td>Ewallet</td>\n",
       "      <td>522.83</td>\n",
       "      <td>4.761905</td>\n",
       "      <td>26.1415</td>\n",
       "      <td>9.1</td>\n",
       "    </tr>\n",
       "    <tr>\n",
       "      <th>1</th>\n",
       "      <td>226-31-3081</td>\n",
       "      <td>C</td>\n",
       "      <td>Naypyitaw</td>\n",
       "      <td>Normal</td>\n",
       "      <td>Female</td>\n",
       "      <td>Electronic accessories</td>\n",
       "      <td>15.28</td>\n",
       "      <td>5</td>\n",
       "      <td>3.8200</td>\n",
       "      <td>80.2200</td>\n",
       "      <td>3/8/2019</td>\n",
       "      <td>10:29</td>\n",
       "      <td>Cash</td>\n",
       "      <td>76.40</td>\n",
       "      <td>4.761905</td>\n",
       "      <td>3.8200</td>\n",
       "      <td>9.6</td>\n",
       "    </tr>\n",
       "    <tr>\n",
       "      <th>2</th>\n",
       "      <td>631-41-3108</td>\n",
       "      <td>A</td>\n",
       "      <td>Yangon</td>\n",
       "      <td>Normal</td>\n",
       "      <td>Male</td>\n",
       "      <td>Home and lifestyle</td>\n",
       "      <td>46.33</td>\n",
       "      <td>7</td>\n",
       "      <td>16.2155</td>\n",
       "      <td>340.5255</td>\n",
       "      <td>3/3/2019</td>\n",
       "      <td>13:23</td>\n",
       "      <td>Credit card</td>\n",
       "      <td>324.31</td>\n",
       "      <td>4.761905</td>\n",
       "      <td>16.2155</td>\n",
       "      <td>7.4</td>\n",
       "    </tr>\n",
       "    <tr>\n",
       "      <th>3</th>\n",
       "      <td>123-19-1176</td>\n",
       "      <td>A</td>\n",
       "      <td>Yangon</td>\n",
       "      <td>Member</td>\n",
       "      <td>Male</td>\n",
       "      <td>Health and beauty</td>\n",
       "      <td>58.22</td>\n",
       "      <td>8</td>\n",
       "      <td>23.2880</td>\n",
       "      <td>489.0480</td>\n",
       "      <td>1/27/2019</td>\n",
       "      <td>20:33</td>\n",
       "      <td>Ewallet</td>\n",
       "      <td>465.76</td>\n",
       "      <td>4.761905</td>\n",
       "      <td>23.2880</td>\n",
       "      <td>8.4</td>\n",
       "    </tr>\n",
       "    <tr>\n",
       "      <th>4</th>\n",
       "      <td>373-73-7910</td>\n",
       "      <td>A</td>\n",
       "      <td>Yangon</td>\n",
       "      <td>Normal</td>\n",
       "      <td>Male</td>\n",
       "      <td>Sports and travel</td>\n",
       "      <td>86.31</td>\n",
       "      <td>7</td>\n",
       "      <td>30.2085</td>\n",
       "      <td>634.3785</td>\n",
       "      <td>2/8/2019</td>\n",
       "      <td>10:37</td>\n",
       "      <td>Ewallet</td>\n",
       "      <td>604.17</td>\n",
       "      <td>4.761905</td>\n",
       "      <td>30.2085</td>\n",
       "      <td>5.3</td>\n",
       "    </tr>\n",
       "  </tbody>\n",
       "</table>\n",
       "</div>"
      ],
      "text/plain": [
       "    Invoice ID Branch       City Customer type  Gender  \\\n",
       "0  750-67-8428      A     Yangon        Member  Female   \n",
       "1  226-31-3081      C  Naypyitaw        Normal  Female   \n",
       "2  631-41-3108      A     Yangon        Normal    Male   \n",
       "3  123-19-1176      A     Yangon        Member    Male   \n",
       "4  373-73-7910      A     Yangon        Normal    Male   \n",
       "\n",
       "             Product line  Unit price  Quantity   Tax 5%     Total       Date  \\\n",
       "0       Health and beauty       74.69         7  26.1415  548.9715   1/5/2019   \n",
       "1  Electronic accessories       15.28         5   3.8200   80.2200   3/8/2019   \n",
       "2      Home and lifestyle       46.33         7  16.2155  340.5255   3/3/2019   \n",
       "3       Health and beauty       58.22         8  23.2880  489.0480  1/27/2019   \n",
       "4       Sports and travel       86.31         7  30.2085  634.3785   2/8/2019   \n",
       "\n",
       "    Time      Payment    cogs  gross margin percentage  gross income  Rating  \n",
       "0  13:08      Ewallet  522.83                 4.761905       26.1415     9.1  \n",
       "1  10:29         Cash   76.40                 4.761905        3.8200     9.6  \n",
       "2  13:23  Credit card  324.31                 4.761905       16.2155     7.4  \n",
       "3  20:33      Ewallet  465.76                 4.761905       23.2880     8.4  \n",
       "4  10:37      Ewallet  604.17                 4.761905       30.2085     5.3  "
      ]
     },
     "execution_count": 33,
     "metadata": {},
     "output_type": "execute_result"
    }
   ],
   "source": [
    "# loading data\n",
    "df = pd.read_csv('./data/supermarket_sales.csv')\n",
    "pd.set_option('display.max_columns', None)\n",
    "df.head()"
   ]
  },
  {
   "cell_type": "code",
   "execution_count": 34,
   "id": "2940a114",
   "metadata": {},
   "outputs": [
    {
     "name": "stdout",
     "output_type": "stream",
     "text": [
      "<class 'pandas.core.frame.DataFrame'>\n",
      "RangeIndex: 1000 entries, 0 to 999\n",
      "Data columns (total 17 columns):\n",
      " #   Column                   Non-Null Count  Dtype  \n",
      "---  ------                   --------------  -----  \n",
      " 0   Invoice ID               1000 non-null   object \n",
      " 1   Branch                   1000 non-null   object \n",
      " 2   City                     1000 non-null   object \n",
      " 3   Customer type            1000 non-null   object \n",
      " 4   Gender                   1000 non-null   object \n",
      " 5   Product line             1000 non-null   object \n",
      " 6   Unit price               1000 non-null   float64\n",
      " 7   Quantity                 1000 non-null   int64  \n",
      " 8   Tax 5%                   1000 non-null   float64\n",
      " 9   Total                    1000 non-null   float64\n",
      " 10  Date                     1000 non-null   object \n",
      " 11  Time                     1000 non-null   object \n",
      " 12  Payment                  1000 non-null   object \n",
      " 13  cogs                     1000 non-null   float64\n",
      " 14  gross margin percentage  1000 non-null   float64\n",
      " 15  gross income             1000 non-null   float64\n",
      " 16  Rating                   1000 non-null   float64\n",
      "dtypes: float64(7), int64(1), object(9)\n",
      "memory usage: 132.9+ KB\n"
     ]
    }
   ],
   "source": [
    "# Get a high level overview of our dataset\n",
    "df.info()"
   ]
  },
  {
   "cell_type": "markdown",
   "id": "5f94bd80",
   "metadata": {},
   "source": [
    "From our overview, we can see that our date and time columns are of the object datatype. We'll change this to Date datatype to enable Time series analysis on the dataset, and save the result in a new datetime column.\n",
    "\n",
    "We will also change the name of Payment Column to Payment_Method to reflect the right data contained in the column.\n",
    "We'll also replace all the spaces in column name with underscores"
   ]
  },
  {
   "cell_type": "code",
   "execution_count": 35,
   "id": "4077e907",
   "metadata": {},
   "outputs": [],
   "source": [
    "# Combine 'date' and 'time' into a single datetime column\n",
    "df['Datetimestamp'] = pd.to_datetime(df['Date'] + ' ' + df['Time'])"
   ]
  },
  {
   "cell_type": "code",
   "execution_count": 36,
   "id": "0db13bca",
   "metadata": {},
   "outputs": [],
   "source": [
    "# Rename 'Payment' to 'Payment_Method'\n",
    "df.rename(columns={'Payment': 'Payment_Method'}, inplace=True)"
   ]
  },
  {
   "cell_type": "code",
   "execution_count": 37,
   "id": "cc0845e6",
   "metadata": {},
   "outputs": [],
   "source": [
    "# Replace spaces with underscores in column names\n",
    "df.columns = [col.replace(' ', '_') for col in df.columns]"
   ]
  },
  {
   "cell_type": "code",
<<<<<<< HEAD
   "execution_count": 7,
=======
   "execution_count": 38,
>>>>>>> 3a02bc2bd8140609b12dc3ae5eee29ec06e4eb0a
   "id": "7785ed0b",
   "metadata": {},
   "outputs": [
    {
     "data": {
      "text/html": [
       "<div>\n",
       "<style scoped>\n",
       "    .dataframe tbody tr th:only-of-type {\n",
       "        vertical-align: middle;\n",
       "    }\n",
       "\n",
       "    .dataframe tbody tr th {\n",
       "        vertical-align: top;\n",
       "    }\n",
       "\n",
       "    .dataframe thead th {\n",
       "        text-align: right;\n",
       "    }\n",
       "</style>\n",
       "<table border=\"1\" class=\"dataframe\">\n",
       "  <thead>\n",
       "    <tr style=\"text-align: right;\">\n",
       "      <th></th>\n",
       "      <th>Invoice_ID</th>\n",
       "      <th>Branch</th>\n",
       "      <th>City</th>\n",
       "      <th>Customer_type</th>\n",
       "      <th>Gender</th>\n",
       "      <th>Product_line</th>\n",
       "      <th>Unit_price</th>\n",
       "      <th>Quantity</th>\n",
       "      <th>Tax_5%</th>\n",
       "      <th>Total</th>\n",
       "      <th>Date</th>\n",
       "      <th>Time</th>\n",
       "      <th>Payment_Method</th>\n",
       "      <th>cogs</th>\n",
       "      <th>gross_margin_percentage</th>\n",
       "      <th>gross_income</th>\n",
       "      <th>Rating</th>\n",
       "      <th>Datetimestamp</th>\n",
       "    </tr>\n",
       "  </thead>\n",
       "  <tbody>\n",
       "    <tr>\n",
       "      <th>0</th>\n",
       "      <td>750-67-8428</td>\n",
       "      <td>A</td>\n",
       "      <td>Yangon</td>\n",
       "      <td>Member</td>\n",
       "      <td>Female</td>\n",
       "      <td>Health and beauty</td>\n",
       "      <td>74.69</td>\n",
       "      <td>7</td>\n",
       "      <td>26.1415</td>\n",
       "      <td>548.9715</td>\n",
       "      <td>1/5/2019</td>\n",
       "      <td>13:08</td>\n",
       "      <td>Ewallet</td>\n",
       "      <td>522.83</td>\n",
       "      <td>4.761905</td>\n",
       "      <td>26.1415</td>\n",
       "      <td>9.1</td>\n",
       "      <td>2019-01-05 13:08:00</td>\n",
       "    </tr>\n",
       "    <tr>\n",
       "      <th>1</th>\n",
       "      <td>226-31-3081</td>\n",
       "      <td>C</td>\n",
       "      <td>Naypyitaw</td>\n",
       "      <td>Normal</td>\n",
       "      <td>Female</td>\n",
       "      <td>Electronic accessories</td>\n",
       "      <td>15.28</td>\n",
       "      <td>5</td>\n",
       "      <td>3.8200</td>\n",
       "      <td>80.2200</td>\n",
       "      <td>3/8/2019</td>\n",
       "      <td>10:29</td>\n",
       "      <td>Cash</td>\n",
       "      <td>76.40</td>\n",
       "      <td>4.761905</td>\n",
       "      <td>3.8200</td>\n",
       "      <td>9.6</td>\n",
       "      <td>2019-03-08 10:29:00</td>\n",
       "    </tr>\n",
       "    <tr>\n",
       "      <th>2</th>\n",
       "      <td>631-41-3108</td>\n",
       "      <td>A</td>\n",
       "      <td>Yangon</td>\n",
       "      <td>Normal</td>\n",
       "      <td>Male</td>\n",
       "      <td>Home and lifestyle</td>\n",
       "      <td>46.33</td>\n",
       "      <td>7</td>\n",
       "      <td>16.2155</td>\n",
       "      <td>340.5255</td>\n",
       "      <td>3/3/2019</td>\n",
       "      <td>13:23</td>\n",
       "      <td>Credit card</td>\n",
       "      <td>324.31</td>\n",
       "      <td>4.761905</td>\n",
       "      <td>16.2155</td>\n",
       "      <td>7.4</td>\n",
       "      <td>2019-03-03 13:23:00</td>\n",
       "    </tr>\n",
       "    <tr>\n",
       "      <th>3</th>\n",
       "      <td>123-19-1176</td>\n",
       "      <td>A</td>\n",
       "      <td>Yangon</td>\n",
       "      <td>Member</td>\n",
       "      <td>Male</td>\n",
       "      <td>Health and beauty</td>\n",
       "      <td>58.22</td>\n",
       "      <td>8</td>\n",
       "      <td>23.2880</td>\n",
       "      <td>489.0480</td>\n",
       "      <td>1/27/2019</td>\n",
       "      <td>20:33</td>\n",
       "      <td>Ewallet</td>\n",
       "      <td>465.76</td>\n",
       "      <td>4.761905</td>\n",
       "      <td>23.2880</td>\n",
       "      <td>8.4</td>\n",
       "      <td>2019-01-27 20:33:00</td>\n",
       "    </tr>\n",
       "    <tr>\n",
       "      <th>4</th>\n",
       "      <td>373-73-7910</td>\n",
       "      <td>A</td>\n",
       "      <td>Yangon</td>\n",
       "      <td>Normal</td>\n",
       "      <td>Male</td>\n",
       "      <td>Sports and travel</td>\n",
       "      <td>86.31</td>\n",
       "      <td>7</td>\n",
       "      <td>30.2085</td>\n",
       "      <td>634.3785</td>\n",
       "      <td>2/8/2019</td>\n",
       "      <td>10:37</td>\n",
       "      <td>Ewallet</td>\n",
       "      <td>604.17</td>\n",
       "      <td>4.761905</td>\n",
       "      <td>30.2085</td>\n",
       "      <td>5.3</td>\n",
       "      <td>2019-02-08 10:37:00</td>\n",
       "    </tr>\n",
       "  </tbody>\n",
       "</table>\n",
       "</div>"
      ],
      "text/plain": [
       "    Invoice_ID Branch       City Customer_type  Gender  \\\n",
       "0  750-67-8428      A     Yangon        Member  Female   \n",
       "1  226-31-3081      C  Naypyitaw        Normal  Female   \n",
       "2  631-41-3108      A     Yangon        Normal    Male   \n",
       "3  123-19-1176      A     Yangon        Member    Male   \n",
       "4  373-73-7910      A     Yangon        Normal    Male   \n",
       "\n",
       "             Product_line  Unit_price  Quantity   Tax_5%     Total       Date  \\\n",
       "0       Health and beauty       74.69         7  26.1415  548.9715   1/5/2019   \n",
       "1  Electronic accessories       15.28         5   3.8200   80.2200   3/8/2019   \n",
       "2      Home and lifestyle       46.33         7  16.2155  340.5255   3/3/2019   \n",
       "3       Health and beauty       58.22         8  23.2880  489.0480  1/27/2019   \n",
       "4       Sports and travel       86.31         7  30.2085  634.3785   2/8/2019   \n",
       "\n",
       "    Time Payment_Method    cogs  gross_margin_percentage  gross_income  \\\n",
       "0  13:08        Ewallet  522.83                 4.761905       26.1415   \n",
       "1  10:29           Cash   76.40                 4.761905        3.8200   \n",
       "2  13:23    Credit card  324.31                 4.761905       16.2155   \n",
       "3  20:33        Ewallet  465.76                 4.761905       23.2880   \n",
       "4  10:37        Ewallet  604.17                 4.761905       30.2085   \n",
       "\n",
       "   Rating       Datetimestamp  \n",
       "0     9.1 2019-01-05 13:08:00  \n",
       "1     9.6 2019-03-08 10:29:00  \n",
       "2     7.4 2019-03-03 13:23:00  \n",
       "3     8.4 2019-01-27 20:33:00  \n",
       "4     5.3 2019-02-08 10:37:00  "
      ]
     },
<<<<<<< HEAD
     "execution_count": 7,
=======
     "execution_count": 38,
>>>>>>> 3a02bc2bd8140609b12dc3ae5eee29ec06e4eb0a
     "metadata": {},
     "output_type": "execute_result"
    }
   ],
   "source": [
    "# check \n",
    "df.head()"
   ]
  },
  {
   "cell_type": "code",
   "execution_count": 39,
   "id": "2134ca45",
   "metadata": {},
   "outputs": [
    {
     "name": "stdout",
     "output_type": "stream",
     "text": [
      "<class 'pandas.core.frame.DataFrame'>\n",
      "RangeIndex: 1000 entries, 0 to 999\n",
      "Data columns (total 18 columns):\n",
      " #   Column                   Non-Null Count  Dtype         \n",
      "---  ------                   --------------  -----         \n",
      " 0   Invoice_ID               1000 non-null   object        \n",
      " 1   Branch                   1000 non-null   object        \n",
      " 2   City                     1000 non-null   object        \n",
      " 3   Customer_type            1000 non-null   object        \n",
      " 4   Gender                   1000 non-null   object        \n",
      " 5   Product_line             1000 non-null   object        \n",
      " 6   Unit_price               1000 non-null   float64       \n",
      " 7   Quantity                 1000 non-null   int64         \n",
      " 8   Tax_5%                   1000 non-null   float64       \n",
      " 9   Total                    1000 non-null   float64       \n",
      " 10  Date                     1000 non-null   object        \n",
      " 11  Time                     1000 non-null   object        \n",
      " 12  Payment_Method           1000 non-null   object        \n",
      " 13  cogs                     1000 non-null   float64       \n",
      " 14  gross_margin_percentage  1000 non-null   float64       \n",
      " 15  gross_income             1000 non-null   float64       \n",
      " 16  Rating                   1000 non-null   float64       \n",
      " 17  Datetimestamp            1000 non-null   datetime64[ns]\n",
      "dtypes: datetime64[ns](1), float64(7), int64(1), object(9)\n",
      "memory usage: 140.8+ KB\n"
     ]
    }
   ],
   "source": [
    "# Check our new data set\n",
    "df.info()"
   ]
  },
  {
   "cell_type": "markdown",
   "id": "948df84a",
   "metadata": {},
   "source": [
    "We will then check for a high level statistical data description of the dataset"
   ]
  },
  {
   "cell_type": "code",
   "execution_count": 40,
   "id": "d27a3258",
   "metadata": {},
   "outputs": [
    {
     "data": {
      "text/html": [
       "<div>\n",
       "<style scoped>\n",
       "    .dataframe tbody tr th:only-of-type {\n",
       "        vertical-align: middle;\n",
       "    }\n",
       "\n",
       "    .dataframe tbody tr th {\n",
       "        vertical-align: top;\n",
       "    }\n",
       "\n",
       "    .dataframe thead th {\n",
       "        text-align: right;\n",
       "    }\n",
       "</style>\n",
       "<table border=\"1\" class=\"dataframe\">\n",
       "  <thead>\n",
       "    <tr style=\"text-align: right;\">\n",
       "      <th></th>\n",
       "      <th>Unit_price</th>\n",
       "      <th>Quantity</th>\n",
       "      <th>Tax_5%</th>\n",
       "      <th>Total</th>\n",
       "      <th>cogs</th>\n",
       "      <th>gross_margin_percentage</th>\n",
       "      <th>gross_income</th>\n",
       "      <th>Rating</th>\n",
       "    </tr>\n",
       "  </thead>\n",
       "  <tbody>\n",
       "    <tr>\n",
       "      <th>count</th>\n",
       "      <td>1000.000000</td>\n",
       "      <td>1000.000000</td>\n",
       "      <td>1000.000000</td>\n",
       "      <td>1000.000000</td>\n",
       "      <td>1000.00000</td>\n",
       "      <td>1.000000e+03</td>\n",
       "      <td>1000.000000</td>\n",
       "      <td>1000.00000</td>\n",
       "    </tr>\n",
       "    <tr>\n",
       "      <th>mean</th>\n",
       "      <td>55.672130</td>\n",
       "      <td>5.510000</td>\n",
       "      <td>15.379369</td>\n",
       "      <td>322.966749</td>\n",
       "      <td>307.58738</td>\n",
       "      <td>4.761905e+00</td>\n",
       "      <td>15.379369</td>\n",
       "      <td>6.97270</td>\n",
       "    </tr>\n",
       "    <tr>\n",
       "      <th>std</th>\n",
       "      <td>26.494628</td>\n",
       "      <td>2.923431</td>\n",
       "      <td>11.708825</td>\n",
       "      <td>245.885335</td>\n",
       "      <td>234.17651</td>\n",
       "      <td>6.131498e-14</td>\n",
       "      <td>11.708825</td>\n",
       "      <td>1.71858</td>\n",
       "    </tr>\n",
       "    <tr>\n",
       "      <th>min</th>\n",
       "      <td>10.080000</td>\n",
       "      <td>1.000000</td>\n",
       "      <td>0.508500</td>\n",
       "      <td>10.678500</td>\n",
       "      <td>10.17000</td>\n",
       "      <td>4.761905e+00</td>\n",
       "      <td>0.508500</td>\n",
       "      <td>4.00000</td>\n",
       "    </tr>\n",
       "    <tr>\n",
       "      <th>25%</th>\n",
       "      <td>32.875000</td>\n",
       "      <td>3.000000</td>\n",
       "      <td>5.924875</td>\n",
       "      <td>124.422375</td>\n",
       "      <td>118.49750</td>\n",
       "      <td>4.761905e+00</td>\n",
       "      <td>5.924875</td>\n",
       "      <td>5.50000</td>\n",
       "    </tr>\n",
       "    <tr>\n",
       "      <th>50%</th>\n",
       "      <td>55.230000</td>\n",
       "      <td>5.000000</td>\n",
       "      <td>12.088000</td>\n",
       "      <td>253.848000</td>\n",
       "      <td>241.76000</td>\n",
       "      <td>4.761905e+00</td>\n",
       "      <td>12.088000</td>\n",
       "      <td>7.00000</td>\n",
       "    </tr>\n",
       "    <tr>\n",
       "      <th>75%</th>\n",
       "      <td>77.935000</td>\n",
       "      <td>8.000000</td>\n",
       "      <td>22.445250</td>\n",
       "      <td>471.350250</td>\n",
       "      <td>448.90500</td>\n",
       "      <td>4.761905e+00</td>\n",
       "      <td>22.445250</td>\n",
       "      <td>8.50000</td>\n",
       "    </tr>\n",
       "    <tr>\n",
       "      <th>max</th>\n",
       "      <td>99.960000</td>\n",
       "      <td>10.000000</td>\n",
       "      <td>49.650000</td>\n",
       "      <td>1042.650000</td>\n",
       "      <td>993.00000</td>\n",
       "      <td>4.761905e+00</td>\n",
       "      <td>49.650000</td>\n",
       "      <td>10.00000</td>\n",
       "    </tr>\n",
       "  </tbody>\n",
       "</table>\n",
       "</div>"
      ],
      "text/plain": [
       "        Unit_price     Quantity       Tax_5%        Total        cogs  \\\n",
       "count  1000.000000  1000.000000  1000.000000  1000.000000  1000.00000   \n",
       "mean     55.672130     5.510000    15.379369   322.966749   307.58738   \n",
       "std      26.494628     2.923431    11.708825   245.885335   234.17651   \n",
       "min      10.080000     1.000000     0.508500    10.678500    10.17000   \n",
       "25%      32.875000     3.000000     5.924875   124.422375   118.49750   \n",
       "50%      55.230000     5.000000    12.088000   253.848000   241.76000   \n",
       "75%      77.935000     8.000000    22.445250   471.350250   448.90500   \n",
       "max      99.960000    10.000000    49.650000  1042.650000   993.00000   \n",
       "\n",
       "       gross_margin_percentage  gross_income      Rating  \n",
       "count             1.000000e+03   1000.000000  1000.00000  \n",
       "mean              4.761905e+00     15.379369     6.97270  \n",
       "std               6.131498e-14     11.708825     1.71858  \n",
       "min               4.761905e+00      0.508500     4.00000  \n",
       "25%               4.761905e+00      5.924875     5.50000  \n",
       "50%               4.761905e+00     12.088000     7.00000  \n",
       "75%               4.761905e+00     22.445250     8.50000  \n",
       "max               4.761905e+00     49.650000    10.00000  "
      ]
     },
     "execution_count": 40,
     "metadata": {},
     "output_type": "execute_result"
    }
   ],
   "source": [
    "# check for data statistical values\n",
    "df.describe()"
   ]
  },
  {
   "cell_type": "markdown",
   "id": "8e4fe88a",
   "metadata": {},
   "source": [
    "## 4. Exploratory Data Analysis\n",
    "\n",
    "In this section, we will conduct Exploratory Data Analysis (EDA) on the dataset. Our goal is to gain a deeper understanding of the data's properties and use these insights to inform decision-making."
   ]
  },
  {
   "cell_type": "markdown",
   "id": "2dfce1b6",
   "metadata": {},
   "source": [
    "### 4.1 What is the overall sales trend over the three-month period?\n",
    "One of the key questions we aim to answer in our EDA is: **What is the overall sales trend over the three-month period?** Understanding the sales trend is vital for a variety of reasons. It provides insights into the financial performance of the business, helps in forecasting future sales, and aids in making informed decisions related to inventory management, marketing strategies, and resource allocation."
   ]
  },
  {
   "cell_type": "code",
<<<<<<< HEAD
   "execution_count": 71,
   "id": "2fdf02c3",
   "metadata": {},
   "outputs": [
    {
     "data": {
      "text/html": [
       "<div>\n",
       "<style scoped>\n",
       "    .dataframe tbody tr th:only-of-type {\n",
       "        vertical-align: middle;\n",
       "    }\n",
       "\n",
       "    .dataframe tbody tr th {\n",
       "        vertical-align: top;\n",
       "    }\n",
       "\n",
       "    .dataframe thead th {\n",
       "        text-align: right;\n",
       "    }\n",
       "</style>\n",
       "<table border=\"1\" class=\"dataframe\">\n",
       "  <thead>\n",
       "    <tr style=\"text-align: right;\">\n",
       "      <th></th>\n",
       "      <th>Invoice_ID</th>\n",
       "      <th>Branch</th>\n",
       "      <th>City</th>\n",
       "      <th>Customer_type</th>\n",
       "      <th>Gender</th>\n",
       "      <th>Product_line</th>\n",
       "      <th>Unit_price</th>\n",
       "      <th>Quantity</th>\n",
       "      <th>Tax_5%</th>\n",
       "      <th>Total</th>\n",
       "      <th>Date</th>\n",
       "      <th>Time</th>\n",
       "      <th>Payment_Method</th>\n",
       "      <th>cogs</th>\n",
       "      <th>gross_margin_percentage</th>\n",
       "      <th>gross_income</th>\n",
       "      <th>Rating</th>\n",
       "      <th>Datetimestamp</th>\n",
       "    </tr>\n",
       "  </thead>\n",
       "  <tbody>\n",
       "    <tr>\n",
       "      <th>0</th>\n",
       "      <td>750-67-8428</td>\n",
       "      <td>A</td>\n",
       "      <td>Yangon</td>\n",
       "      <td>Member</td>\n",
       "      <td>Female</td>\n",
       "      <td>Health and beauty</td>\n",
       "      <td>74.69</td>\n",
       "      <td>7</td>\n",
       "      <td>26.1415</td>\n",
       "      <td>548.9715</td>\n",
       "      <td>1/5/2019</td>\n",
       "      <td>13:08</td>\n",
       "      <td>Ewallet</td>\n",
       "      <td>522.83</td>\n",
       "      <td>4.761905</td>\n",
       "      <td>26.1415</td>\n",
       "      <td>9.1</td>\n",
       "      <td>2019-01-05 13:08:00</td>\n",
       "    </tr>\n",
       "    <tr>\n",
       "      <th>1</th>\n",
       "      <td>226-31-3081</td>\n",
       "      <td>C</td>\n",
       "      <td>Naypyitaw</td>\n",
       "      <td>Normal</td>\n",
       "      <td>Female</td>\n",
       "      <td>Electronic accessories</td>\n",
       "      <td>15.28</td>\n",
       "      <td>5</td>\n",
       "      <td>3.8200</td>\n",
       "      <td>80.2200</td>\n",
       "      <td>3/8/2019</td>\n",
       "      <td>10:29</td>\n",
       "      <td>Cash</td>\n",
       "      <td>76.40</td>\n",
       "      <td>4.761905</td>\n",
       "      <td>3.8200</td>\n",
       "      <td>9.6</td>\n",
       "      <td>2019-03-08 10:29:00</td>\n",
       "    </tr>\n",
       "    <tr>\n",
       "      <th>2</th>\n",
       "      <td>631-41-3108</td>\n",
       "      <td>A</td>\n",
       "      <td>Yangon</td>\n",
       "      <td>Normal</td>\n",
       "      <td>Male</td>\n",
       "      <td>Home and lifestyle</td>\n",
       "      <td>46.33</td>\n",
       "      <td>7</td>\n",
       "      <td>16.2155</td>\n",
       "      <td>340.5255</td>\n",
       "      <td>3/3/2019</td>\n",
       "      <td>13:23</td>\n",
       "      <td>Credit card</td>\n",
       "      <td>324.31</td>\n",
       "      <td>4.761905</td>\n",
       "      <td>16.2155</td>\n",
       "      <td>7.4</td>\n",
       "      <td>2019-03-03 13:23:00</td>\n",
       "    </tr>\n",
       "    <tr>\n",
       "      <th>3</th>\n",
       "      <td>123-19-1176</td>\n",
       "      <td>A</td>\n",
       "      <td>Yangon</td>\n",
       "      <td>Member</td>\n",
       "      <td>Male</td>\n",
       "      <td>Health and beauty</td>\n",
       "      <td>58.22</td>\n",
       "      <td>8</td>\n",
       "      <td>23.2880</td>\n",
       "      <td>489.0480</td>\n",
       "      <td>1/27/2019</td>\n",
       "      <td>20:33</td>\n",
       "      <td>Ewallet</td>\n",
       "      <td>465.76</td>\n",
       "      <td>4.761905</td>\n",
       "      <td>23.2880</td>\n",
       "      <td>8.4</td>\n",
       "      <td>2019-01-27 20:33:00</td>\n",
       "    </tr>\n",
       "    <tr>\n",
       "      <th>4</th>\n",
       "      <td>373-73-7910</td>\n",
       "      <td>A</td>\n",
       "      <td>Yangon</td>\n",
       "      <td>Normal</td>\n",
       "      <td>Male</td>\n",
       "      <td>Sports and travel</td>\n",
       "      <td>86.31</td>\n",
       "      <td>7</td>\n",
       "      <td>30.2085</td>\n",
       "      <td>634.3785</td>\n",
       "      <td>2/8/2019</td>\n",
       "      <td>10:37</td>\n",
       "      <td>Ewallet</td>\n",
       "      <td>604.17</td>\n",
       "      <td>4.761905</td>\n",
       "      <td>30.2085</td>\n",
       "      <td>5.3</td>\n",
       "      <td>2019-02-08 10:37:00</td>\n",
       "    </tr>\n",
       "  </tbody>\n",
       "</table>\n",
       "</div>"
      ],
      "text/plain": [
       "    Invoice_ID Branch       City Customer_type  Gender  \\\n",
       "0  750-67-8428      A     Yangon        Member  Female   \n",
       "1  226-31-3081      C  Naypyitaw        Normal  Female   \n",
       "2  631-41-3108      A     Yangon        Normal    Male   \n",
       "3  123-19-1176      A     Yangon        Member    Male   \n",
       "4  373-73-7910      A     Yangon        Normal    Male   \n",
       "\n",
       "             Product_line  Unit_price  Quantity   Tax_5%     Total       Date  \\\n",
       "0       Health and beauty       74.69         7  26.1415  548.9715   1/5/2019   \n",
       "1  Electronic accessories       15.28         5   3.8200   80.2200   3/8/2019   \n",
       "2      Home and lifestyle       46.33         7  16.2155  340.5255   3/3/2019   \n",
       "3       Health and beauty       58.22         8  23.2880  489.0480  1/27/2019   \n",
       "4       Sports and travel       86.31         7  30.2085  634.3785   2/8/2019   \n",
       "\n",
       "    Time Payment_Method    cogs  gross_margin_percentage  gross_income  \\\n",
       "0  13:08        Ewallet  522.83                 4.761905       26.1415   \n",
       "1  10:29           Cash   76.40                 4.761905        3.8200   \n",
       "2  13:23    Credit card  324.31                 4.761905       16.2155   \n",
       "3  20:33        Ewallet  465.76                 4.761905       23.2880   \n",
       "4  10:37        Ewallet  604.17                 4.761905       30.2085   \n",
       "\n",
       "   Rating       Datetimestamp  \n",
       "0     9.1 2019-01-05 13:08:00  \n",
       "1     9.6 2019-03-08 10:29:00  \n",
       "2     7.4 2019-03-03 13:23:00  \n",
       "3     8.4 2019-01-27 20:33:00  \n",
       "4     5.3 2019-02-08 10:37:00  "
      ]
     },
     "execution_count": 71,
     "metadata": {},
     "output_type": "execute_result"
    }
   ],
   "source": [
    "# create a copy of the df dataset\n",
    "timeseries_df = df.copy()\n",
    "timeseries_df.head()"
   ]
  },
  {
   "cell_type": "code",
   "execution_count": 72,
   "id": "bdd614e5",
   "metadata": {},
   "outputs": [],
   "source": [
    "hourly_sales = timeseries_df['Time'].value_counts().reset_index()\n",
    "\n",
    "# The columns for daily_sales are 'Date' and 'Sales Count'\n",
    "hourly_sales.columns = ['Time', 'Sales Count']\n",
    "\n",
    "# Create a new column for the time of day\n",
    "hourly_sales['Time of Day'] = pd.to_datetime(hourly_sales['Time']).dt.hour.apply(lambda x: f\"{x}:00\")"
   ]
  },
  {
   "cell_type": "code",
   "execution_count": 73,
   "id": "67931d57",
   "metadata": {},
   "outputs": [],
   "source": [
    "# Group the data by hour\n",
    "hourly_sales_grouped = hourly_sales.groupby('Time of Day')['Sales Count'].sum()"
   ]
  },
  {
   "cell_type": "code",
   "execution_count": 74,
   "id": "5bf0eb75",
   "metadata": {},
   "outputs": [
    {
     "data": {
      "application/vnd.plotly.v1+json": {
       "config": {
        "plotlyServerURL": "https://plot.ly"
       },
       "data": [
        {
         "alignmentgroup": "True",
         "hovertemplate": "Hour: %{x}<br>Total Sales: %{y}",
         "legendgroup": "",
         "marker": {
          "color": "#636efa",
          "pattern": {
           "shape": ""
          }
         },
         "name": "",
         "offsetgroup": "",
         "orientation": "v",
         "showlegend": false,
         "textposition": "auto",
         "type": "bar",
         "x": [
          "10:00",
          "11:00",
          "12:00",
          "13:00",
          "14:00",
          "15:00",
          "16:00",
          "17:00",
          "18:00",
          "19:00",
          "20:00"
         ],
         "xaxis": "x",
         "y": [
          101,
          90,
          89,
          103,
          83,
          102,
          77,
          74,
          93,
          113,
          75
         ],
         "yaxis": "y"
        }
       ],
       "layout": {
        "barmode": "relative",
        "legend": {
         "tracegroupgap": 0
        },
        "margin": {
         "t": 60
        },
        "template": {
         "data": {
          "bar": [
           {
            "error_x": {
             "color": "#2a3f5f"
            },
            "error_y": {
             "color": "#2a3f5f"
            },
            "marker": {
             "line": {
              "color": "#E5ECF6",
              "width": 0.5
             },
             "pattern": {
              "fillmode": "overlay",
              "size": 10,
              "solidity": 0.2
             }
            },
            "type": "bar"
           }
          ],
          "barpolar": [
           {
            "marker": {
             "line": {
              "color": "#E5ECF6",
              "width": 0.5
             },
             "pattern": {
              "fillmode": "overlay",
              "size": 10,
              "solidity": 0.2
             }
            },
            "type": "barpolar"
           }
          ],
          "carpet": [
           {
            "aaxis": {
             "endlinecolor": "#2a3f5f",
             "gridcolor": "white",
             "linecolor": "white",
             "minorgridcolor": "white",
             "startlinecolor": "#2a3f5f"
            },
            "baxis": {
             "endlinecolor": "#2a3f5f",
             "gridcolor": "white",
             "linecolor": "white",
             "minorgridcolor": "white",
             "startlinecolor": "#2a3f5f"
            },
            "type": "carpet"
           }
          ],
          "choropleth": [
           {
            "colorbar": {
             "outlinewidth": 0,
             "ticks": ""
            },
            "type": "choropleth"
           }
          ],
          "contour": [
           {
            "colorbar": {
             "outlinewidth": 0,
             "ticks": ""
            },
            "colorscale": [
             [
              0,
              "#0d0887"
             ],
             [
              0.1111111111111111,
              "#46039f"
             ],
             [
              0.2222222222222222,
              "#7201a8"
             ],
             [
              0.3333333333333333,
              "#9c179e"
             ],
             [
              0.4444444444444444,
              "#bd3786"
             ],
             [
              0.5555555555555556,
              "#d8576b"
             ],
             [
              0.6666666666666666,
              "#ed7953"
             ],
             [
              0.7777777777777778,
              "#fb9f3a"
             ],
             [
              0.8888888888888888,
              "#fdca26"
             ],
             [
              1,
              "#f0f921"
             ]
            ],
            "type": "contour"
           }
          ],
          "contourcarpet": [
           {
            "colorbar": {
             "outlinewidth": 0,
             "ticks": ""
            },
            "type": "contourcarpet"
           }
          ],
          "heatmap": [
           {
            "colorbar": {
             "outlinewidth": 0,
             "ticks": ""
            },
            "colorscale": [
             [
              0,
              "#0d0887"
             ],
             [
              0.1111111111111111,
              "#46039f"
             ],
             [
              0.2222222222222222,
              "#7201a8"
             ],
             [
              0.3333333333333333,
              "#9c179e"
             ],
             [
              0.4444444444444444,
              "#bd3786"
             ],
             [
              0.5555555555555556,
              "#d8576b"
             ],
             [
              0.6666666666666666,
              "#ed7953"
             ],
             [
              0.7777777777777778,
              "#fb9f3a"
             ],
             [
              0.8888888888888888,
              "#fdca26"
             ],
             [
              1,
              "#f0f921"
             ]
            ],
            "type": "heatmap"
           }
          ],
          "heatmapgl": [
           {
            "colorbar": {
             "outlinewidth": 0,
             "ticks": ""
            },
            "colorscale": [
             [
              0,
              "#0d0887"
             ],
             [
              0.1111111111111111,
              "#46039f"
             ],
             [
              0.2222222222222222,
              "#7201a8"
             ],
             [
              0.3333333333333333,
              "#9c179e"
             ],
             [
              0.4444444444444444,
              "#bd3786"
             ],
             [
              0.5555555555555556,
              "#d8576b"
             ],
             [
              0.6666666666666666,
              "#ed7953"
             ],
             [
              0.7777777777777778,
              "#fb9f3a"
             ],
             [
              0.8888888888888888,
              "#fdca26"
             ],
             [
              1,
              "#f0f921"
             ]
            ],
            "type": "heatmapgl"
           }
          ],
          "histogram": [
           {
            "marker": {
             "pattern": {
              "fillmode": "overlay",
              "size": 10,
              "solidity": 0.2
             }
            },
            "type": "histogram"
           }
          ],
          "histogram2d": [
           {
            "colorbar": {
             "outlinewidth": 0,
             "ticks": ""
            },
            "colorscale": [
             [
              0,
              "#0d0887"
             ],
             [
              0.1111111111111111,
              "#46039f"
             ],
             [
              0.2222222222222222,
              "#7201a8"
             ],
             [
              0.3333333333333333,
              "#9c179e"
             ],
             [
              0.4444444444444444,
              "#bd3786"
             ],
             [
              0.5555555555555556,
              "#d8576b"
             ],
             [
              0.6666666666666666,
              "#ed7953"
             ],
             [
              0.7777777777777778,
              "#fb9f3a"
             ],
             [
              0.8888888888888888,
              "#fdca26"
             ],
             [
              1,
              "#f0f921"
             ]
            ],
            "type": "histogram2d"
           }
          ],
          "histogram2dcontour": [
           {
            "colorbar": {
             "outlinewidth": 0,
             "ticks": ""
            },
            "colorscale": [
             [
              0,
              "#0d0887"
             ],
             [
              0.1111111111111111,
              "#46039f"
             ],
             [
              0.2222222222222222,
              "#7201a8"
             ],
             [
              0.3333333333333333,
              "#9c179e"
             ],
             [
              0.4444444444444444,
              "#bd3786"
             ],
             [
              0.5555555555555556,
              "#d8576b"
             ],
             [
              0.6666666666666666,
              "#ed7953"
             ],
             [
              0.7777777777777778,
              "#fb9f3a"
             ],
             [
              0.8888888888888888,
              "#fdca26"
             ],
             [
              1,
              "#f0f921"
             ]
            ],
            "type": "histogram2dcontour"
           }
          ],
          "mesh3d": [
           {
            "colorbar": {
             "outlinewidth": 0,
             "ticks": ""
            },
            "type": "mesh3d"
           }
          ],
          "parcoords": [
           {
            "line": {
             "colorbar": {
              "outlinewidth": 0,
              "ticks": ""
             }
            },
            "type": "parcoords"
           }
          ],
          "pie": [
           {
            "automargin": true,
            "type": "pie"
           }
          ],
          "scatter": [
           {
            "fillpattern": {
             "fillmode": "overlay",
             "size": 10,
             "solidity": 0.2
            },
            "type": "scatter"
           }
          ],
          "scatter3d": [
           {
            "line": {
             "colorbar": {
              "outlinewidth": 0,
              "ticks": ""
             }
            },
            "marker": {
             "colorbar": {
              "outlinewidth": 0,
              "ticks": ""
             }
            },
            "type": "scatter3d"
           }
          ],
          "scattercarpet": [
           {
            "marker": {
             "colorbar": {
              "outlinewidth": 0,
              "ticks": ""
             }
            },
            "type": "scattercarpet"
           }
          ],
          "scattergeo": [
           {
            "marker": {
             "colorbar": {
              "outlinewidth": 0,
              "ticks": ""
             }
            },
            "type": "scattergeo"
           }
          ],
          "scattergl": [
           {
            "marker": {
             "colorbar": {
              "outlinewidth": 0,
              "ticks": ""
             }
            },
            "type": "scattergl"
           }
          ],
          "scattermapbox": [
           {
            "marker": {
             "colorbar": {
              "outlinewidth": 0,
              "ticks": ""
             }
            },
            "type": "scattermapbox"
           }
          ],
          "scatterpolar": [
           {
            "marker": {
             "colorbar": {
              "outlinewidth": 0,
              "ticks": ""
             }
            },
            "type": "scatterpolar"
           }
          ],
          "scatterpolargl": [
           {
            "marker": {
             "colorbar": {
              "outlinewidth": 0,
              "ticks": ""
             }
            },
            "type": "scatterpolargl"
           }
          ],
          "scatterternary": [
           {
            "marker": {
             "colorbar": {
              "outlinewidth": 0,
              "ticks": ""
             }
            },
            "type": "scatterternary"
           }
          ],
          "surface": [
           {
            "colorbar": {
             "outlinewidth": 0,
             "ticks": ""
            },
            "colorscale": [
             [
              0,
              "#0d0887"
             ],
             [
              0.1111111111111111,
              "#46039f"
             ],
             [
              0.2222222222222222,
              "#7201a8"
             ],
             [
              0.3333333333333333,
              "#9c179e"
             ],
             [
              0.4444444444444444,
              "#bd3786"
             ],
             [
              0.5555555555555556,
              "#d8576b"
             ],
             [
              0.6666666666666666,
              "#ed7953"
             ],
             [
              0.7777777777777778,
              "#fb9f3a"
             ],
             [
              0.8888888888888888,
              "#fdca26"
             ],
             [
              1,
              "#f0f921"
             ]
            ],
            "type": "surface"
           }
          ],
          "table": [
           {
            "cells": {
             "fill": {
              "color": "#EBF0F8"
             },
             "line": {
              "color": "white"
             }
            },
            "header": {
             "fill": {
              "color": "#C8D4E3"
             },
             "line": {
              "color": "white"
             }
            },
            "type": "table"
           }
          ]
         },
         "layout": {
          "annotationdefaults": {
           "arrowcolor": "#2a3f5f",
           "arrowhead": 0,
           "arrowwidth": 1
          },
          "autotypenumbers": "strict",
          "coloraxis": {
           "colorbar": {
            "outlinewidth": 0,
            "ticks": ""
           }
          },
          "colorscale": {
           "diverging": [
            [
             0,
             "#8e0152"
            ],
            [
             0.1,
             "#c51b7d"
            ],
            [
             0.2,
             "#de77ae"
            ],
            [
             0.3,
             "#f1b6da"
            ],
            [
             0.4,
             "#fde0ef"
            ],
            [
             0.5,
             "#f7f7f7"
            ],
            [
             0.6,
             "#e6f5d0"
            ],
            [
             0.7,
             "#b8e186"
            ],
            [
             0.8,
             "#7fbc41"
            ],
            [
             0.9,
             "#4d9221"
            ],
            [
             1,
             "#276419"
            ]
           ],
           "sequential": [
            [
             0,
             "#0d0887"
            ],
            [
             0.1111111111111111,
             "#46039f"
            ],
            [
             0.2222222222222222,
             "#7201a8"
            ],
            [
             0.3333333333333333,
             "#9c179e"
            ],
            [
             0.4444444444444444,
             "#bd3786"
            ],
            [
             0.5555555555555556,
             "#d8576b"
            ],
            [
             0.6666666666666666,
             "#ed7953"
            ],
            [
             0.7777777777777778,
             "#fb9f3a"
            ],
            [
             0.8888888888888888,
             "#fdca26"
            ],
            [
             1,
             "#f0f921"
            ]
           ],
           "sequentialminus": [
            [
             0,
             "#0d0887"
            ],
            [
             0.1111111111111111,
             "#46039f"
            ],
            [
             0.2222222222222222,
             "#7201a8"
            ],
            [
             0.3333333333333333,
             "#9c179e"
            ],
            [
             0.4444444444444444,
             "#bd3786"
            ],
            [
             0.5555555555555556,
             "#d8576b"
            ],
            [
             0.6666666666666666,
             "#ed7953"
            ],
            [
             0.7777777777777778,
             "#fb9f3a"
            ],
            [
             0.8888888888888888,
             "#fdca26"
            ],
            [
             1,
             "#f0f921"
            ]
           ]
          },
          "colorway": [
           "#636efa",
           "#EF553B",
           "#00cc96",
           "#ab63fa",
           "#FFA15A",
           "#19d3f3",
           "#FF6692",
           "#B6E880",
           "#FF97FF",
           "#FECB52"
          ],
          "font": {
           "color": "#2a3f5f"
          },
          "geo": {
           "bgcolor": "white",
           "lakecolor": "white",
           "landcolor": "#E5ECF6",
           "showlakes": true,
           "showland": true,
           "subunitcolor": "white"
          },
          "hoverlabel": {
           "align": "left"
          },
          "hovermode": "closest",
          "mapbox": {
           "style": "light"
          },
          "paper_bgcolor": "white",
          "plot_bgcolor": "#E5ECF6",
          "polar": {
           "angularaxis": {
            "gridcolor": "white",
            "linecolor": "white",
            "ticks": ""
           },
           "bgcolor": "#E5ECF6",
           "radialaxis": {
            "gridcolor": "white",
            "linecolor": "white",
            "ticks": ""
           }
          },
          "scene": {
           "xaxis": {
            "backgroundcolor": "#E5ECF6",
            "gridcolor": "white",
            "gridwidth": 2,
            "linecolor": "white",
            "showbackground": true,
            "ticks": "",
            "zerolinecolor": "white"
           },
           "yaxis": {
            "backgroundcolor": "#E5ECF6",
            "gridcolor": "white",
            "gridwidth": 2,
            "linecolor": "white",
            "showbackground": true,
            "ticks": "",
            "zerolinecolor": "white"
           },
           "zaxis": {
            "backgroundcolor": "#E5ECF6",
            "gridcolor": "white",
            "gridwidth": 2,
            "linecolor": "white",
            "showbackground": true,
            "ticks": "",
            "zerolinecolor": "white"
           }
          },
          "shapedefaults": {
           "line": {
            "color": "#2a3f5f"
           }
          },
          "ternary": {
           "aaxis": {
            "gridcolor": "white",
            "linecolor": "white",
            "ticks": ""
           },
           "baxis": {
            "gridcolor": "white",
            "linecolor": "white",
            "ticks": ""
           },
           "bgcolor": "#E5ECF6",
           "caxis": {
            "gridcolor": "white",
            "linecolor": "white",
            "ticks": ""
           }
          },
          "title": {
           "x": 0.05
          },
          "xaxis": {
           "automargin": true,
           "gridcolor": "white",
           "linecolor": "white",
           "ticks": "",
           "title": {
            "standoff": 15
           },
           "zerolinecolor": "white",
           "zerolinewidth": 2
          },
          "yaxis": {
           "automargin": true,
           "gridcolor": "white",
           "linecolor": "white",
           "ticks": "",
           "title": {
            "standoff": 15
           },
           "zerolinecolor": "white",
           "zerolinewidth": 2
          }
         }
        },
        "title": {
         "text": "Total Sales Count by Hour"
        },
        "xaxis": {
         "anchor": "y",
         "domain": [
          0,
          1
         ],
         "title": {
          "text": "Hour"
         },
         "type": "category"
        },
        "yaxis": {
         "anchor": "x",
         "domain": [
          0,
          1
         ],
         "title": {
          "text": "Total Sales"
         }
        }
       }
      }
     },
     "metadata": {},
     "output_type": "display_data"
    }
   ],
   "source": [
    "# Create bar chart\n",
    "fig = px.bar(\n",
    "    x=hourly_sales_grouped.index, \n",
    "    y=hourly_sales_grouped.values\n",
    ")\n",
    "\n",
    "# Set X and Y axes labels and title\n",
    "fig.update_xaxes(title_text='Hour')\n",
    "fig.update_yaxes(title_text='Total Sales')\n",
    "fig.update_layout(\n",
    "    title='Total Sales Count by Hour',\n",
    "    xaxis=dict(type='category')\n",
    ")\n",
    "fig.update_traces(hovertemplate='Hour: %{x}<br>Total Sales: %{y}')\n",
    "\n",
    "fig.show()"
   ]
  },
  {
   "cell_type": "code",
   "execution_count": 75,
=======
   "execution_count": 41,
>>>>>>> 3a02bc2bd8140609b12dc3ae5eee29ec06e4eb0a
   "id": "686930c9",
   "metadata": {},
   "outputs": [],
   "source": [
    "# Create a daily sales dataframe by adding up the number of times each date appears\n",
    "daily_sales = timeseries_df['Date'].value_counts().reset_index()\n",
    "\n",
    "# The columns for daily_sales are 'Date' and 'Sales Count'\n",
    "daily_sales.columns = ['Date', 'Sales Count']\n",
    "\n",
    "# Create a new column for the day of week\n",
    "daily_sales['Day of Week'] = pd.to_datetime(daily_sales['Date']).dt.day_name()"
   ]
  },
  {
   "cell_type": "code",
<<<<<<< HEAD
   "execution_count": 77,
   "id": "839eaa85",
   "metadata": {},
   "outputs": [],
=======
   "execution_count": 42,
   "id": "839eaa85",
   "metadata": {},
   "outputs": [
    {
     "data": {
      "text/plain": [
       "Day of Week\n",
       "Monday       125\n",
       "Tuesday      158\n",
       "Wednesday    143\n",
       "Thursday     138\n",
       "Friday       139\n",
       "Saturday     164\n",
       "Sunday       133\n",
       "Name: Sales Count, dtype: int64"
      ]
     },
     "execution_count": 42,
     "metadata": {},
     "output_type": "execute_result"
    }
   ],
>>>>>>> 3a02bc2bd8140609b12dc3ae5eee29ec06e4eb0a
   "source": [
    "# Group the data by day of week\n",
    "daily_sales_grouped = daily_sales.groupby('Day of Week')['Sales Count'].sum()\n",
    "# Define the order of days of the week for sorting\n",
    "day_order = ['Monday', 'Tuesday', 'Wednesday', 'Thursday', 'Friday', 'Saturday', 'Sunday']\n",
    "\n",
    "# Sort the data based on the defined order\n",
    "daily_sales_grouped = daily_sales_grouped.reindex(day_order)"
   ]
  },
  {
   "cell_type": "code",
<<<<<<< HEAD
   "execution_count": 78,
=======
   "execution_count": 43,
>>>>>>> 3a02bc2bd8140609b12dc3ae5eee29ec06e4eb0a
   "id": "2cfa9611",
   "metadata": {},
   "outputs": [
    {
     "data": {
      "application/vnd.plotly.v1+json": {
       "config": {
        "plotlyServerURL": "https://plot.ly"
       },
       "data": [
        {
         "alignmentgroup": "True",
         "hovertemplate": "Day of Week: %{x}<br>Total Sales: %{y}",
         "legendgroup": "",
         "marker": {
          "color": "#636efa",
          "pattern": {
           "shape": ""
          }
         },
         "name": "",
         "offsetgroup": "",
         "orientation": "v",
         "showlegend": false,
         "textposition": "auto",
         "type": "bar",
         "x": [
          "Monday",
          "Tuesday",
          "Wednesday",
          "Thursday",
          "Friday",
          "Saturday",
          "Sunday"
         ],
         "xaxis": "x",
         "y": [
          125,
          158,
          143,
          138,
          139,
          164,
          133
         ],
         "yaxis": "y"
        }
       ],
       "layout": {
        "barmode": "relative",
        "legend": {
         "tracegroupgap": 0
        },
        "margin": {
         "t": 60
        },
        "template": {
         "data": {
          "bar": [
           {
            "error_x": {
             "color": "#2a3f5f"
            },
            "error_y": {
             "color": "#2a3f5f"
            },
            "marker": {
             "line": {
              "color": "#E5ECF6",
              "width": 0.5
             },
             "pattern": {
              "fillmode": "overlay",
              "size": 10,
              "solidity": 0.2
             }
            },
            "type": "bar"
           }
          ],
          "barpolar": [
           {
            "marker": {
             "line": {
              "color": "#E5ECF6",
              "width": 0.5
             },
             "pattern": {
              "fillmode": "overlay",
              "size": 10,
              "solidity": 0.2
             }
            },
            "type": "barpolar"
           }
          ],
          "carpet": [
           {
            "aaxis": {
             "endlinecolor": "#2a3f5f",
             "gridcolor": "white",
             "linecolor": "white",
             "minorgridcolor": "white",
             "startlinecolor": "#2a3f5f"
            },
            "baxis": {
             "endlinecolor": "#2a3f5f",
             "gridcolor": "white",
             "linecolor": "white",
             "minorgridcolor": "white",
             "startlinecolor": "#2a3f5f"
            },
            "type": "carpet"
           }
          ],
          "choropleth": [
           {
            "colorbar": {
             "outlinewidth": 0,
             "ticks": ""
            },
            "type": "choropleth"
           }
          ],
          "contour": [
           {
            "colorbar": {
             "outlinewidth": 0,
             "ticks": ""
            },
            "colorscale": [
             [
              0,
              "#0d0887"
             ],
             [
              0.1111111111111111,
              "#46039f"
             ],
             [
              0.2222222222222222,
              "#7201a8"
             ],
             [
              0.3333333333333333,
              "#9c179e"
             ],
             [
              0.4444444444444444,
              "#bd3786"
             ],
             [
              0.5555555555555556,
              "#d8576b"
             ],
             [
              0.6666666666666666,
              "#ed7953"
             ],
             [
              0.7777777777777778,
              "#fb9f3a"
             ],
             [
              0.8888888888888888,
              "#fdca26"
             ],
             [
              1,
              "#f0f921"
             ]
            ],
            "type": "contour"
           }
          ],
          "contourcarpet": [
           {
            "colorbar": {
             "outlinewidth": 0,
             "ticks": ""
            },
            "type": "contourcarpet"
           }
          ],
          "heatmap": [
           {
            "colorbar": {
             "outlinewidth": 0,
             "ticks": ""
            },
            "colorscale": [
             [
              0,
              "#0d0887"
             ],
             [
              0.1111111111111111,
              "#46039f"
             ],
             [
              0.2222222222222222,
              "#7201a8"
             ],
             [
              0.3333333333333333,
              "#9c179e"
             ],
             [
              0.4444444444444444,
              "#bd3786"
             ],
             [
              0.5555555555555556,
              "#d8576b"
             ],
             [
              0.6666666666666666,
              "#ed7953"
             ],
             [
              0.7777777777777778,
              "#fb9f3a"
             ],
             [
              0.8888888888888888,
              "#fdca26"
             ],
             [
              1,
              "#f0f921"
             ]
            ],
            "type": "heatmap"
           }
          ],
          "heatmapgl": [
           {
            "colorbar": {
             "outlinewidth": 0,
             "ticks": ""
            },
            "colorscale": [
             [
              0,
              "#0d0887"
             ],
             [
              0.1111111111111111,
              "#46039f"
             ],
             [
              0.2222222222222222,
              "#7201a8"
             ],
             [
              0.3333333333333333,
              "#9c179e"
             ],
             [
              0.4444444444444444,
              "#bd3786"
             ],
             [
              0.5555555555555556,
              "#d8576b"
             ],
             [
              0.6666666666666666,
              "#ed7953"
             ],
             [
              0.7777777777777778,
              "#fb9f3a"
             ],
             [
              0.8888888888888888,
              "#fdca26"
             ],
             [
              1,
              "#f0f921"
             ]
            ],
            "type": "heatmapgl"
           }
          ],
          "histogram": [
           {
            "marker": {
             "pattern": {
              "fillmode": "overlay",
              "size": 10,
              "solidity": 0.2
             }
            },
            "type": "histogram"
           }
          ],
          "histogram2d": [
           {
            "colorbar": {
             "outlinewidth": 0,
             "ticks": ""
            },
            "colorscale": [
             [
              0,
              "#0d0887"
             ],
             [
              0.1111111111111111,
              "#46039f"
             ],
             [
              0.2222222222222222,
              "#7201a8"
             ],
             [
              0.3333333333333333,
              "#9c179e"
             ],
             [
              0.4444444444444444,
              "#bd3786"
             ],
             [
              0.5555555555555556,
              "#d8576b"
             ],
             [
              0.6666666666666666,
              "#ed7953"
             ],
             [
              0.7777777777777778,
              "#fb9f3a"
             ],
             [
              0.8888888888888888,
              "#fdca26"
             ],
             [
              1,
              "#f0f921"
             ]
            ],
            "type": "histogram2d"
           }
          ],
          "histogram2dcontour": [
           {
            "colorbar": {
             "outlinewidth": 0,
             "ticks": ""
            },
            "colorscale": [
             [
              0,
              "#0d0887"
             ],
             [
              0.1111111111111111,
              "#46039f"
             ],
             [
              0.2222222222222222,
              "#7201a8"
             ],
             [
              0.3333333333333333,
              "#9c179e"
             ],
             [
              0.4444444444444444,
              "#bd3786"
             ],
             [
              0.5555555555555556,
              "#d8576b"
             ],
             [
              0.6666666666666666,
              "#ed7953"
             ],
             [
              0.7777777777777778,
              "#fb9f3a"
             ],
             [
              0.8888888888888888,
              "#fdca26"
             ],
             [
              1,
              "#f0f921"
             ]
            ],
            "type": "histogram2dcontour"
           }
          ],
          "mesh3d": [
           {
            "colorbar": {
             "outlinewidth": 0,
             "ticks": ""
            },
            "type": "mesh3d"
           }
          ],
          "parcoords": [
           {
            "line": {
             "colorbar": {
              "outlinewidth": 0,
              "ticks": ""
             }
            },
            "type": "parcoords"
           }
          ],
          "pie": [
           {
            "automargin": true,
            "type": "pie"
           }
          ],
          "scatter": [
           {
            "fillpattern": {
             "fillmode": "overlay",
             "size": 10,
             "solidity": 0.2
            },
            "type": "scatter"
           }
          ],
          "scatter3d": [
           {
            "line": {
             "colorbar": {
              "outlinewidth": 0,
              "ticks": ""
             }
            },
            "marker": {
             "colorbar": {
              "outlinewidth": 0,
              "ticks": ""
             }
            },
            "type": "scatter3d"
           }
          ],
          "scattercarpet": [
           {
            "marker": {
             "colorbar": {
              "outlinewidth": 0,
              "ticks": ""
             }
            },
            "type": "scattercarpet"
           }
          ],
          "scattergeo": [
           {
            "marker": {
             "colorbar": {
              "outlinewidth": 0,
              "ticks": ""
             }
            },
            "type": "scattergeo"
           }
          ],
          "scattergl": [
           {
            "marker": {
             "colorbar": {
              "outlinewidth": 0,
              "ticks": ""
             }
            },
            "type": "scattergl"
           }
          ],
          "scattermapbox": [
           {
            "marker": {
             "colorbar": {
              "outlinewidth": 0,
              "ticks": ""
             }
            },
            "type": "scattermapbox"
           }
          ],
          "scatterpolar": [
           {
            "marker": {
             "colorbar": {
              "outlinewidth": 0,
              "ticks": ""
             }
            },
            "type": "scatterpolar"
           }
          ],
          "scatterpolargl": [
           {
            "marker": {
             "colorbar": {
              "outlinewidth": 0,
              "ticks": ""
             }
            },
            "type": "scatterpolargl"
           }
          ],
          "scatterternary": [
           {
            "marker": {
             "colorbar": {
              "outlinewidth": 0,
              "ticks": ""
             }
            },
            "type": "scatterternary"
           }
          ],
          "surface": [
           {
            "colorbar": {
             "outlinewidth": 0,
             "ticks": ""
            },
            "colorscale": [
             [
              0,
              "#0d0887"
             ],
             [
              0.1111111111111111,
              "#46039f"
             ],
             [
              0.2222222222222222,
              "#7201a8"
             ],
             [
              0.3333333333333333,
              "#9c179e"
             ],
             [
              0.4444444444444444,
              "#bd3786"
             ],
             [
              0.5555555555555556,
              "#d8576b"
             ],
             [
              0.6666666666666666,
              "#ed7953"
             ],
             [
              0.7777777777777778,
              "#fb9f3a"
             ],
             [
              0.8888888888888888,
              "#fdca26"
             ],
             [
              1,
              "#f0f921"
             ]
            ],
            "type": "surface"
           }
          ],
          "table": [
           {
            "cells": {
             "fill": {
              "color": "#EBF0F8"
             },
             "line": {
              "color": "white"
             }
            },
            "header": {
             "fill": {
              "color": "#C8D4E3"
             },
             "line": {
              "color": "white"
             }
            },
            "type": "table"
           }
          ]
         },
         "layout": {
          "annotationdefaults": {
           "arrowcolor": "#2a3f5f",
           "arrowhead": 0,
           "arrowwidth": 1
          },
          "autotypenumbers": "strict",
          "coloraxis": {
           "colorbar": {
            "outlinewidth": 0,
            "ticks": ""
           }
          },
          "colorscale": {
           "diverging": [
            [
             0,
             "#8e0152"
            ],
            [
             0.1,
             "#c51b7d"
            ],
            [
             0.2,
             "#de77ae"
            ],
            [
             0.3,
             "#f1b6da"
            ],
            [
             0.4,
             "#fde0ef"
            ],
            [
             0.5,
             "#f7f7f7"
            ],
            [
             0.6,
             "#e6f5d0"
            ],
            [
             0.7,
             "#b8e186"
            ],
            [
             0.8,
             "#7fbc41"
            ],
            [
             0.9,
             "#4d9221"
            ],
            [
             1,
             "#276419"
            ]
           ],
           "sequential": [
            [
             0,
             "#0d0887"
            ],
            [
             0.1111111111111111,
             "#46039f"
            ],
            [
             0.2222222222222222,
             "#7201a8"
            ],
            [
             0.3333333333333333,
             "#9c179e"
            ],
            [
             0.4444444444444444,
             "#bd3786"
            ],
            [
             0.5555555555555556,
             "#d8576b"
            ],
            [
             0.6666666666666666,
             "#ed7953"
            ],
            [
             0.7777777777777778,
             "#fb9f3a"
            ],
            [
             0.8888888888888888,
             "#fdca26"
            ],
            [
             1,
             "#f0f921"
            ]
           ],
           "sequentialminus": [
            [
             0,
             "#0d0887"
            ],
            [
             0.1111111111111111,
             "#46039f"
            ],
            [
             0.2222222222222222,
             "#7201a8"
            ],
            [
             0.3333333333333333,
             "#9c179e"
            ],
            [
             0.4444444444444444,
             "#bd3786"
            ],
            [
             0.5555555555555556,
             "#d8576b"
            ],
            [
             0.6666666666666666,
             "#ed7953"
            ],
            [
             0.7777777777777778,
             "#fb9f3a"
            ],
            [
             0.8888888888888888,
             "#fdca26"
            ],
            [
             1,
             "#f0f921"
            ]
           ]
          },
          "colorway": [
           "#636efa",
           "#EF553B",
           "#00cc96",
           "#ab63fa",
           "#FFA15A",
           "#19d3f3",
           "#FF6692",
           "#B6E880",
           "#FF97FF",
           "#FECB52"
          ],
          "font": {
           "color": "#2a3f5f"
          },
          "geo": {
           "bgcolor": "white",
           "lakecolor": "white",
           "landcolor": "#E5ECF6",
           "showlakes": true,
           "showland": true,
           "subunitcolor": "white"
          },
          "hoverlabel": {
           "align": "left"
          },
          "hovermode": "closest",
          "mapbox": {
           "style": "light"
          },
          "paper_bgcolor": "white",
          "plot_bgcolor": "#E5ECF6",
          "polar": {
           "angularaxis": {
            "gridcolor": "white",
            "linecolor": "white",
            "ticks": ""
           },
           "bgcolor": "#E5ECF6",
           "radialaxis": {
            "gridcolor": "white",
            "linecolor": "white",
            "ticks": ""
           }
          },
          "scene": {
           "xaxis": {
            "backgroundcolor": "#E5ECF6",
            "gridcolor": "white",
            "gridwidth": 2,
            "linecolor": "white",
            "showbackground": true,
            "ticks": "",
            "zerolinecolor": "white"
           },
           "yaxis": {
            "backgroundcolor": "#E5ECF6",
            "gridcolor": "white",
            "gridwidth": 2,
            "linecolor": "white",
            "showbackground": true,
            "ticks": "",
            "zerolinecolor": "white"
           },
           "zaxis": {
            "backgroundcolor": "#E5ECF6",
            "gridcolor": "white",
            "gridwidth": 2,
            "linecolor": "white",
            "showbackground": true,
            "ticks": "",
            "zerolinecolor": "white"
           }
          },
          "shapedefaults": {
           "line": {
            "color": "#2a3f5f"
           }
          },
          "ternary": {
           "aaxis": {
            "gridcolor": "white",
            "linecolor": "white",
            "ticks": ""
           },
           "baxis": {
            "gridcolor": "white",
            "linecolor": "white",
            "ticks": ""
           },
           "bgcolor": "#E5ECF6",
           "caxis": {
            "gridcolor": "white",
            "linecolor": "white",
            "ticks": ""
           }
          },
          "title": {
           "x": 0.05
          },
          "xaxis": {
           "automargin": true,
           "gridcolor": "white",
           "linecolor": "white",
           "ticks": "",
           "title": {
            "standoff": 15
           },
           "zerolinecolor": "white",
           "zerolinewidth": 2
          },
          "yaxis": {
           "automargin": true,
           "gridcolor": "white",
           "linecolor": "white",
           "ticks": "",
           "title": {
            "standoff": 15
           },
           "zerolinecolor": "white",
           "zerolinewidth": 2
          }
         }
        },
        "title": {
         "text": "Total Sales Count by Day of Week"
        },
        "xaxis": {
         "anchor": "y",
         "domain": [
          0,
          1
         ],
         "title": {
          "text": "Day of Week"
         },
         "type": "category"
        },
        "yaxis": {
         "anchor": "x",
         "domain": [
          0,
          1
         ],
         "title": {
          "text": "Total Sales"
         }
        }
       }
      },
      "text/html": [
       "<div>                            <div id=\"8105bfcd-a794-467d-8086-3f1c009909b0\" class=\"plotly-graph-div\" style=\"height:525px; width:100%;\"></div>            <script type=\"text/javascript\">                require([\"plotly\"], function(Plotly) {                    window.PLOTLYENV=window.PLOTLYENV || {};                                    if (document.getElementById(\"8105bfcd-a794-467d-8086-3f1c009909b0\")) {                    Plotly.newPlot(                        \"8105bfcd-a794-467d-8086-3f1c009909b0\",                        [{\"alignmentgroup\":\"True\",\"hovertemplate\":\"Day of Week: %{x}<br>Total Sales: %{y}\",\"legendgroup\":\"\",\"marker\":{\"color\":\"#636efa\",\"pattern\":{\"shape\":\"\"}},\"name\":\"\",\"offsetgroup\":\"\",\"orientation\":\"v\",\"showlegend\":false,\"textposition\":\"auto\",\"x\":[\"Monday\",\"Tuesday\",\"Wednesday\",\"Thursday\",\"Friday\",\"Saturday\",\"Sunday\"],\"xaxis\":\"x\",\"y\":[125,158,143,138,139,164,133],\"yaxis\":\"y\",\"type\":\"bar\"}],                        {\"template\":{\"data\":{\"histogram2dcontour\":[{\"type\":\"histogram2dcontour\",\"colorbar\":{\"outlinewidth\":0,\"ticks\":\"\"},\"colorscale\":[[0.0,\"#0d0887\"],[0.1111111111111111,\"#46039f\"],[0.2222222222222222,\"#7201a8\"],[0.3333333333333333,\"#9c179e\"],[0.4444444444444444,\"#bd3786\"],[0.5555555555555556,\"#d8576b\"],[0.6666666666666666,\"#ed7953\"],[0.7777777777777778,\"#fb9f3a\"],[0.8888888888888888,\"#fdca26\"],[1.0,\"#f0f921\"]]}],\"choropleth\":[{\"type\":\"choropleth\",\"colorbar\":{\"outlinewidth\":0,\"ticks\":\"\"}}],\"histogram2d\":[{\"type\":\"histogram2d\",\"colorbar\":{\"outlinewidth\":0,\"ticks\":\"\"},\"colorscale\":[[0.0,\"#0d0887\"],[0.1111111111111111,\"#46039f\"],[0.2222222222222222,\"#7201a8\"],[0.3333333333333333,\"#9c179e\"],[0.4444444444444444,\"#bd3786\"],[0.5555555555555556,\"#d8576b\"],[0.6666666666666666,\"#ed7953\"],[0.7777777777777778,\"#fb9f3a\"],[0.8888888888888888,\"#fdca26\"],[1.0,\"#f0f921\"]]}],\"heatmap\":[{\"type\":\"heatmap\",\"colorbar\":{\"outlinewidth\":0,\"ticks\":\"\"},\"colorscale\":[[0.0,\"#0d0887\"],[0.1111111111111111,\"#46039f\"],[0.2222222222222222,\"#7201a8\"],[0.3333333333333333,\"#9c179e\"],[0.4444444444444444,\"#bd3786\"],[0.5555555555555556,\"#d8576b\"],[0.6666666666666666,\"#ed7953\"],[0.7777777777777778,\"#fb9f3a\"],[0.8888888888888888,\"#fdca26\"],[1.0,\"#f0f921\"]]}],\"heatmapgl\":[{\"type\":\"heatmapgl\",\"colorbar\":{\"outlinewidth\":0,\"ticks\":\"\"},\"colorscale\":[[0.0,\"#0d0887\"],[0.1111111111111111,\"#46039f\"],[0.2222222222222222,\"#7201a8\"],[0.3333333333333333,\"#9c179e\"],[0.4444444444444444,\"#bd3786\"],[0.5555555555555556,\"#d8576b\"],[0.6666666666666666,\"#ed7953\"],[0.7777777777777778,\"#fb9f3a\"],[0.8888888888888888,\"#fdca26\"],[1.0,\"#f0f921\"]]}],\"contourcarpet\":[{\"type\":\"contourcarpet\",\"colorbar\":{\"outlinewidth\":0,\"ticks\":\"\"}}],\"contour\":[{\"type\":\"contour\",\"colorbar\":{\"outlinewidth\":0,\"ticks\":\"\"},\"colorscale\":[[0.0,\"#0d0887\"],[0.1111111111111111,\"#46039f\"],[0.2222222222222222,\"#7201a8\"],[0.3333333333333333,\"#9c179e\"],[0.4444444444444444,\"#bd3786\"],[0.5555555555555556,\"#d8576b\"],[0.6666666666666666,\"#ed7953\"],[0.7777777777777778,\"#fb9f3a\"],[0.8888888888888888,\"#fdca26\"],[1.0,\"#f0f921\"]]}],\"surface\":[{\"type\":\"surface\",\"colorbar\":{\"outlinewidth\":0,\"ticks\":\"\"},\"colorscale\":[[0.0,\"#0d0887\"],[0.1111111111111111,\"#46039f\"],[0.2222222222222222,\"#7201a8\"],[0.3333333333333333,\"#9c179e\"],[0.4444444444444444,\"#bd3786\"],[0.5555555555555556,\"#d8576b\"],[0.6666666666666666,\"#ed7953\"],[0.7777777777777778,\"#fb9f3a\"],[0.8888888888888888,\"#fdca26\"],[1.0,\"#f0f921\"]]}],\"mesh3d\":[{\"type\":\"mesh3d\",\"colorbar\":{\"outlinewidth\":0,\"ticks\":\"\"}}],\"scatter\":[{\"fillpattern\":{\"fillmode\":\"overlay\",\"size\":10,\"solidity\":0.2},\"type\":\"scatter\"}],\"parcoords\":[{\"type\":\"parcoords\",\"line\":{\"colorbar\":{\"outlinewidth\":0,\"ticks\":\"\"}}}],\"scatterpolargl\":[{\"type\":\"scatterpolargl\",\"marker\":{\"colorbar\":{\"outlinewidth\":0,\"ticks\":\"\"}}}],\"bar\":[{\"error_x\":{\"color\":\"#2a3f5f\"},\"error_y\":{\"color\":\"#2a3f5f\"},\"marker\":{\"line\":{\"color\":\"#E5ECF6\",\"width\":0.5},\"pattern\":{\"fillmode\":\"overlay\",\"size\":10,\"solidity\":0.2}},\"type\":\"bar\"}],\"scattergeo\":[{\"type\":\"scattergeo\",\"marker\":{\"colorbar\":{\"outlinewidth\":0,\"ticks\":\"\"}}}],\"scatterpolar\":[{\"type\":\"scatterpolar\",\"marker\":{\"colorbar\":{\"outlinewidth\":0,\"ticks\":\"\"}}}],\"histogram\":[{\"marker\":{\"pattern\":{\"fillmode\":\"overlay\",\"size\":10,\"solidity\":0.2}},\"type\":\"histogram\"}],\"scattergl\":[{\"type\":\"scattergl\",\"marker\":{\"colorbar\":{\"outlinewidth\":0,\"ticks\":\"\"}}}],\"scatter3d\":[{\"type\":\"scatter3d\",\"line\":{\"colorbar\":{\"outlinewidth\":0,\"ticks\":\"\"}},\"marker\":{\"colorbar\":{\"outlinewidth\":0,\"ticks\":\"\"}}}],\"scattermapbox\":[{\"type\":\"scattermapbox\",\"marker\":{\"colorbar\":{\"outlinewidth\":0,\"ticks\":\"\"}}}],\"scatterternary\":[{\"type\":\"scatterternary\",\"marker\":{\"colorbar\":{\"outlinewidth\":0,\"ticks\":\"\"}}}],\"scattercarpet\":[{\"type\":\"scattercarpet\",\"marker\":{\"colorbar\":{\"outlinewidth\":0,\"ticks\":\"\"}}}],\"carpet\":[{\"aaxis\":{\"endlinecolor\":\"#2a3f5f\",\"gridcolor\":\"white\",\"linecolor\":\"white\",\"minorgridcolor\":\"white\",\"startlinecolor\":\"#2a3f5f\"},\"baxis\":{\"endlinecolor\":\"#2a3f5f\",\"gridcolor\":\"white\",\"linecolor\":\"white\",\"minorgridcolor\":\"white\",\"startlinecolor\":\"#2a3f5f\"},\"type\":\"carpet\"}],\"table\":[{\"cells\":{\"fill\":{\"color\":\"#EBF0F8\"},\"line\":{\"color\":\"white\"}},\"header\":{\"fill\":{\"color\":\"#C8D4E3\"},\"line\":{\"color\":\"white\"}},\"type\":\"table\"}],\"barpolar\":[{\"marker\":{\"line\":{\"color\":\"#E5ECF6\",\"width\":0.5},\"pattern\":{\"fillmode\":\"overlay\",\"size\":10,\"solidity\":0.2}},\"type\":\"barpolar\"}],\"pie\":[{\"automargin\":true,\"type\":\"pie\"}]},\"layout\":{\"autotypenumbers\":\"strict\",\"colorway\":[\"#636efa\",\"#EF553B\",\"#00cc96\",\"#ab63fa\",\"#FFA15A\",\"#19d3f3\",\"#FF6692\",\"#B6E880\",\"#FF97FF\",\"#FECB52\"],\"font\":{\"color\":\"#2a3f5f\"},\"hovermode\":\"closest\",\"hoverlabel\":{\"align\":\"left\"},\"paper_bgcolor\":\"white\",\"plot_bgcolor\":\"#E5ECF6\",\"polar\":{\"bgcolor\":\"#E5ECF6\",\"angularaxis\":{\"gridcolor\":\"white\",\"linecolor\":\"white\",\"ticks\":\"\"},\"radialaxis\":{\"gridcolor\":\"white\",\"linecolor\":\"white\",\"ticks\":\"\"}},\"ternary\":{\"bgcolor\":\"#E5ECF6\",\"aaxis\":{\"gridcolor\":\"white\",\"linecolor\":\"white\",\"ticks\":\"\"},\"baxis\":{\"gridcolor\":\"white\",\"linecolor\":\"white\",\"ticks\":\"\"},\"caxis\":{\"gridcolor\":\"white\",\"linecolor\":\"white\",\"ticks\":\"\"}},\"coloraxis\":{\"colorbar\":{\"outlinewidth\":0,\"ticks\":\"\"}},\"colorscale\":{\"sequential\":[[0.0,\"#0d0887\"],[0.1111111111111111,\"#46039f\"],[0.2222222222222222,\"#7201a8\"],[0.3333333333333333,\"#9c179e\"],[0.4444444444444444,\"#bd3786\"],[0.5555555555555556,\"#d8576b\"],[0.6666666666666666,\"#ed7953\"],[0.7777777777777778,\"#fb9f3a\"],[0.8888888888888888,\"#fdca26\"],[1.0,\"#f0f921\"]],\"sequentialminus\":[[0.0,\"#0d0887\"],[0.1111111111111111,\"#46039f\"],[0.2222222222222222,\"#7201a8\"],[0.3333333333333333,\"#9c179e\"],[0.4444444444444444,\"#bd3786\"],[0.5555555555555556,\"#d8576b\"],[0.6666666666666666,\"#ed7953\"],[0.7777777777777778,\"#fb9f3a\"],[0.8888888888888888,\"#fdca26\"],[1.0,\"#f0f921\"]],\"diverging\":[[0,\"#8e0152\"],[0.1,\"#c51b7d\"],[0.2,\"#de77ae\"],[0.3,\"#f1b6da\"],[0.4,\"#fde0ef\"],[0.5,\"#f7f7f7\"],[0.6,\"#e6f5d0\"],[0.7,\"#b8e186\"],[0.8,\"#7fbc41\"],[0.9,\"#4d9221\"],[1,\"#276419\"]]},\"xaxis\":{\"gridcolor\":\"white\",\"linecolor\":\"white\",\"ticks\":\"\",\"title\":{\"standoff\":15},\"zerolinecolor\":\"white\",\"automargin\":true,\"zerolinewidth\":2},\"yaxis\":{\"gridcolor\":\"white\",\"linecolor\":\"white\",\"ticks\":\"\",\"title\":{\"standoff\":15},\"zerolinecolor\":\"white\",\"automargin\":true,\"zerolinewidth\":2},\"scene\":{\"xaxis\":{\"backgroundcolor\":\"#E5ECF6\",\"gridcolor\":\"white\",\"linecolor\":\"white\",\"showbackground\":true,\"ticks\":\"\",\"zerolinecolor\":\"white\",\"gridwidth\":2},\"yaxis\":{\"backgroundcolor\":\"#E5ECF6\",\"gridcolor\":\"white\",\"linecolor\":\"white\",\"showbackground\":true,\"ticks\":\"\",\"zerolinecolor\":\"white\",\"gridwidth\":2},\"zaxis\":{\"backgroundcolor\":\"#E5ECF6\",\"gridcolor\":\"white\",\"linecolor\":\"white\",\"showbackground\":true,\"ticks\":\"\",\"zerolinecolor\":\"white\",\"gridwidth\":2}},\"shapedefaults\":{\"line\":{\"color\":\"#2a3f5f\"}},\"annotationdefaults\":{\"arrowcolor\":\"#2a3f5f\",\"arrowhead\":0,\"arrowwidth\":1},\"geo\":{\"bgcolor\":\"white\",\"landcolor\":\"#E5ECF6\",\"subunitcolor\":\"white\",\"showland\":true,\"showlakes\":true,\"lakecolor\":\"white\"},\"title\":{\"x\":0.05},\"mapbox\":{\"style\":\"light\"}}},\"xaxis\":{\"anchor\":\"y\",\"domain\":[0.0,1.0],\"title\":{\"text\":\"Day of Week\"},\"type\":\"category\"},\"yaxis\":{\"anchor\":\"x\",\"domain\":[0.0,1.0],\"title\":{\"text\":\"Total Sales\"}},\"legend\":{\"tracegroupgap\":0},\"margin\":{\"t\":60},\"barmode\":\"relative\",\"title\":{\"text\":\"Total Sales Count by Day of Week\"}},                        {\"responsive\": true}                    ).then(function(){\n",
       "                            \n",
       "var gd = document.getElementById('8105bfcd-a794-467d-8086-3f1c009909b0');\n",
       "var x = new MutationObserver(function (mutations, observer) {{\n",
       "        var display = window.getComputedStyle(gd).display;\n",
       "        if (!display || display === 'none') {{\n",
       "            console.log([gd, 'removed!']);\n",
       "            Plotly.purge(gd);\n",
       "            observer.disconnect();\n",
       "        }}\n",
       "}});\n",
       "\n",
       "// Listen for the removal of the full notebook cells\n",
       "var notebookContainer = gd.closest('#notebook-container');\n",
       "if (notebookContainer) {{\n",
       "    x.observe(notebookContainer, {childList: true});\n",
       "}}\n",
       "\n",
       "// Listen for the clearing of the current output cell\n",
       "var outputEl = gd.closest('.output');\n",
       "if (outputEl) {{\n",
       "    x.observe(outputEl, {childList: true});\n",
       "}}\n",
       "\n",
       "                        })                };                });            </script>        </div>"
      ]
     },
     "metadata": {},
     "output_type": "display_data"
    }
   ],
   "source": [
    "# Create bar chart\n",
    "fig = px.bar(\n",
    "    x=daily_sales_grouped.index, \n",
    "    y=daily_sales_grouped.values\n",
    ")\n",
    "\n",
    "# Set X and Y axes labels and title\n",
    "fig.update_xaxes(title_text='Day of Week')\n",
    "fig.update_yaxes(title_text='Total Sales')\n",
    "fig.update_layout(\n",
    "    title='Total Sales Count by Day of Week',\n",
    "    xaxis=dict(type='category')\n",
    ")\n",
    "fig.update_traces(hovertemplate='Day of Week: %{x}<br>Total Sales: %{y}')\n",
    "\n",
    "fig.show()"
   ]
  },
  {
   "cell_type": "code",
<<<<<<< HEAD
   "execution_count": 79,
=======
   "execution_count": 44,
>>>>>>> 3a02bc2bd8140609b12dc3ae5eee29ec06e4eb0a
   "id": "a79d0e58",
   "metadata": {},
   "outputs": [
    {
<<<<<<< HEAD
     "name": "stderr",
     "output_type": "stream",
     "text": [
      "C:\\Users\\kgots\\AppData\\Local\\Temp\\ipykernel_3008\\3266414940.py:8: FutureWarning:\n",
      "\n",
      "The default value of numeric_only in DataFrameGroupBy.sum is deprecated. In a future version, numeric_only will default to False. Either specify numeric_only or select only columns which should be valid for the function.\n",
      "\n"
     ]
=======
     "data": {
      "text/html": [
       "<div>\n",
       "<style scoped>\n",
       "    .dataframe tbody tr th:only-of-type {\n",
       "        vertical-align: middle;\n",
       "    }\n",
       "\n",
       "    .dataframe tbody tr th {\n",
       "        vertical-align: top;\n",
       "    }\n",
       "\n",
       "    .dataframe thead th {\n",
       "        text-align: right;\n",
       "    }\n",
       "</style>\n",
       "<table border=\"1\" class=\"dataframe\">\n",
       "  <thead>\n",
       "    <tr style=\"text-align: right;\">\n",
       "      <th></th>\n",
       "      <th>Date</th>\n",
       "      <th>Sales Count</th>\n",
       "    </tr>\n",
       "  </thead>\n",
       "  <tbody>\n",
       "    <tr>\n",
       "      <th>0</th>\n",
       "      <td>2019-01-06</td>\n",
       "      <td>55</td>\n",
       "    </tr>\n",
       "    <tr>\n",
       "      <th>1</th>\n",
       "      <td>2019-01-13</td>\n",
       "      <td>73</td>\n",
       "    </tr>\n",
       "    <tr>\n",
       "      <th>2</th>\n",
       "      <td>2019-01-20</td>\n",
       "      <td>82</td>\n",
       "    </tr>\n",
       "    <tr>\n",
       "      <th>3</th>\n",
       "      <td>2019-01-27</td>\n",
       "      <td>93</td>\n",
       "    </tr>\n",
       "    <tr>\n",
       "      <th>4</th>\n",
       "      <td>2019-02-03</td>\n",
       "      <td>83</td>\n",
       "    </tr>\n",
       "    <tr>\n",
       "      <th>5</th>\n",
       "      <td>2019-02-10</td>\n",
       "      <td>92</td>\n",
       "    </tr>\n",
       "    <tr>\n",
       "      <th>6</th>\n",
       "      <td>2019-02-17</td>\n",
       "      <td>72</td>\n",
       "    </tr>\n",
       "    <tr>\n",
       "      <th>7</th>\n",
       "      <td>2019-02-24</td>\n",
       "      <td>60</td>\n",
       "    </tr>\n",
       "    <tr>\n",
       "      <th>8</th>\n",
       "      <td>2019-03-03</td>\n",
       "      <td>87</td>\n",
       "    </tr>\n",
       "    <tr>\n",
       "      <th>9</th>\n",
       "      <td>2019-03-10</td>\n",
       "      <td>88</td>\n",
       "    </tr>\n",
       "    <tr>\n",
       "      <th>10</th>\n",
       "      <td>2019-03-17</td>\n",
       "      <td>78</td>\n",
       "    </tr>\n",
       "    <tr>\n",
       "      <th>11</th>\n",
       "      <td>2019-03-24</td>\n",
       "      <td>76</td>\n",
       "    </tr>\n",
       "    <tr>\n",
       "      <th>12</th>\n",
       "      <td>2019-03-31</td>\n",
       "      <td>61</td>\n",
       "    </tr>\n",
       "  </tbody>\n",
       "</table>\n",
       "</div>"
      ],
      "text/plain": [
       "         Date  Sales Count\n",
       "0  2019-01-06           55\n",
       "1  2019-01-13           73\n",
       "2  2019-01-20           82\n",
       "3  2019-01-27           93\n",
       "4  2019-02-03           83\n",
       "5  2019-02-10           92\n",
       "6  2019-02-17           72\n",
       "7  2019-02-24           60\n",
       "8  2019-03-03           87\n",
       "9  2019-03-10           88\n",
       "10 2019-03-17           78\n",
       "11 2019-03-24           76\n",
       "12 2019-03-31           61"
      ]
     },
     "execution_count": 44,
     "metadata": {},
     "output_type": "execute_result"
>>>>>>> 3a02bc2bd8140609b12dc3ae5eee29ec06e4eb0a
    }
   ],
   "source": [
    "# Convert the 'Date' column to a datetime object if it's not already\n",
    "daily_sales['Date'] = pd.to_datetime(daily_sales['Date'])\n",
    "\n",
    "# Set the 'Date' column as the DataFrame index\n",
    "daily_sales.set_index('Date', inplace=True)\n",
    "\n",
    "# Resample the data to get weekly sales\n",
    "weekly_sales = daily_sales.resample('W').sum()\n",
    "\n",
    "# Reset the index to have the 'Date' as a regular column\n",
    "weekly_sales.reset_index(inplace=True)"
   ]
  },
  {
   "cell_type": "code",
<<<<<<< HEAD
   "execution_count": 80,
=======
   "execution_count": 45,
>>>>>>> 3a02bc2bd8140609b12dc3ae5eee29ec06e4eb0a
   "id": "153dceeb",
   "metadata": {},
   "outputs": [
    {
     "data": {
      "application/vnd.plotly.v1+json": {
       "config": {
        "plotlyServerURL": "https://plot.ly"
       },
       "data": [
        {
         "hovertemplate": "%{y}",
         "legendgroup": "",
         "line": {
          "color": "#636efa",
          "dash": "solid"
         },
         "marker": {
          "symbol": "circle"
         },
         "mode": "lines+markers",
         "name": "",
         "orientation": "v",
         "showlegend": false,
         "type": "scatter",
         "x": [
          "2019-01-06T00:00:00",
          "2019-01-13T00:00:00",
          "2019-01-20T00:00:00",
          "2019-01-27T00:00:00",
          "2019-02-03T00:00:00",
          "2019-02-10T00:00:00",
          "2019-02-17T00:00:00",
          "2019-02-24T00:00:00",
          "2019-03-03T00:00:00",
          "2019-03-10T00:00:00",
          "2019-03-17T00:00:00",
          "2019-03-24T00:00:00",
          "2019-03-31T00:00:00"
         ],
         "xaxis": "x",
         "y": [
          55,
          73,
          82,
          93,
          83,
          92,
          72,
          60,
          87,
          88,
          78,
          76,
          61
         ],
         "yaxis": "y"
        }
       ],
       "layout": {
        "hoverlabel": {
         "bgcolor": "white",
         "font": {
          "size": 14
         }
        },
        "hovermode": "x unified",
        "legend": {
         "tracegroupgap": 0
        },
        "template": {
         "data": {
          "bar": [
           {
            "error_x": {
             "color": "#2a3f5f"
            },
            "error_y": {
             "color": "#2a3f5f"
            },
            "marker": {
             "line": {
              "color": "#E5ECF6",
              "width": 0.5
             },
             "pattern": {
              "fillmode": "overlay",
              "size": 10,
              "solidity": 0.2
             }
            },
            "type": "bar"
           }
          ],
          "barpolar": [
           {
            "marker": {
             "line": {
              "color": "#E5ECF6",
              "width": 0.5
             },
             "pattern": {
              "fillmode": "overlay",
              "size": 10,
              "solidity": 0.2
             }
            },
            "type": "barpolar"
           }
          ],
          "carpet": [
           {
            "aaxis": {
             "endlinecolor": "#2a3f5f",
             "gridcolor": "white",
             "linecolor": "white",
             "minorgridcolor": "white",
             "startlinecolor": "#2a3f5f"
            },
            "baxis": {
             "endlinecolor": "#2a3f5f",
             "gridcolor": "white",
             "linecolor": "white",
             "minorgridcolor": "white",
             "startlinecolor": "#2a3f5f"
            },
            "type": "carpet"
           }
          ],
          "choropleth": [
           {
            "colorbar": {
             "outlinewidth": 0,
             "ticks": ""
            },
            "type": "choropleth"
           }
          ],
          "contour": [
           {
            "colorbar": {
             "outlinewidth": 0,
             "ticks": ""
            },
            "colorscale": [
             [
              0,
              "#0d0887"
             ],
             [
              0.1111111111111111,
              "#46039f"
             ],
             [
              0.2222222222222222,
              "#7201a8"
             ],
             [
              0.3333333333333333,
              "#9c179e"
             ],
             [
              0.4444444444444444,
              "#bd3786"
             ],
             [
              0.5555555555555556,
              "#d8576b"
             ],
             [
              0.6666666666666666,
              "#ed7953"
             ],
             [
              0.7777777777777778,
              "#fb9f3a"
             ],
             [
              0.8888888888888888,
              "#fdca26"
             ],
             [
              1,
              "#f0f921"
             ]
            ],
            "type": "contour"
           }
          ],
          "contourcarpet": [
           {
            "colorbar": {
             "outlinewidth": 0,
             "ticks": ""
            },
            "type": "contourcarpet"
           }
          ],
          "heatmap": [
           {
            "colorbar": {
             "outlinewidth": 0,
             "ticks": ""
            },
            "colorscale": [
             [
              0,
              "#0d0887"
             ],
             [
              0.1111111111111111,
              "#46039f"
             ],
             [
              0.2222222222222222,
              "#7201a8"
             ],
             [
              0.3333333333333333,
              "#9c179e"
             ],
             [
              0.4444444444444444,
              "#bd3786"
             ],
             [
              0.5555555555555556,
              "#d8576b"
             ],
             [
              0.6666666666666666,
              "#ed7953"
             ],
             [
              0.7777777777777778,
              "#fb9f3a"
             ],
             [
              0.8888888888888888,
              "#fdca26"
             ],
             [
              1,
              "#f0f921"
             ]
            ],
            "type": "heatmap"
           }
          ],
          "heatmapgl": [
           {
            "colorbar": {
             "outlinewidth": 0,
             "ticks": ""
            },
            "colorscale": [
             [
              0,
              "#0d0887"
             ],
             [
              0.1111111111111111,
              "#46039f"
             ],
             [
              0.2222222222222222,
              "#7201a8"
             ],
             [
              0.3333333333333333,
              "#9c179e"
             ],
             [
              0.4444444444444444,
              "#bd3786"
             ],
             [
              0.5555555555555556,
              "#d8576b"
             ],
             [
              0.6666666666666666,
              "#ed7953"
             ],
             [
              0.7777777777777778,
              "#fb9f3a"
             ],
             [
              0.8888888888888888,
              "#fdca26"
             ],
             [
              1,
              "#f0f921"
             ]
            ],
            "type": "heatmapgl"
           }
          ],
          "histogram": [
           {
            "marker": {
             "pattern": {
              "fillmode": "overlay",
              "size": 10,
              "solidity": 0.2
             }
            },
            "type": "histogram"
           }
          ],
          "histogram2d": [
           {
            "colorbar": {
             "outlinewidth": 0,
             "ticks": ""
            },
            "colorscale": [
             [
              0,
              "#0d0887"
             ],
             [
              0.1111111111111111,
              "#46039f"
             ],
             [
              0.2222222222222222,
              "#7201a8"
             ],
             [
              0.3333333333333333,
              "#9c179e"
             ],
             [
              0.4444444444444444,
              "#bd3786"
             ],
             [
              0.5555555555555556,
              "#d8576b"
             ],
             [
              0.6666666666666666,
              "#ed7953"
             ],
             [
              0.7777777777777778,
              "#fb9f3a"
             ],
             [
              0.8888888888888888,
              "#fdca26"
             ],
             [
              1,
              "#f0f921"
             ]
            ],
            "type": "histogram2d"
           }
          ],
          "histogram2dcontour": [
           {
            "colorbar": {
             "outlinewidth": 0,
             "ticks": ""
            },
            "colorscale": [
             [
              0,
              "#0d0887"
             ],
             [
              0.1111111111111111,
              "#46039f"
             ],
             [
              0.2222222222222222,
              "#7201a8"
             ],
             [
              0.3333333333333333,
              "#9c179e"
             ],
             [
              0.4444444444444444,
              "#bd3786"
             ],
             [
              0.5555555555555556,
              "#d8576b"
             ],
             [
              0.6666666666666666,
              "#ed7953"
             ],
             [
              0.7777777777777778,
              "#fb9f3a"
             ],
             [
              0.8888888888888888,
              "#fdca26"
             ],
             [
              1,
              "#f0f921"
             ]
            ],
            "type": "histogram2dcontour"
           }
          ],
          "mesh3d": [
           {
            "colorbar": {
             "outlinewidth": 0,
             "ticks": ""
            },
            "type": "mesh3d"
           }
          ],
          "parcoords": [
           {
            "line": {
             "colorbar": {
              "outlinewidth": 0,
              "ticks": ""
             }
            },
            "type": "parcoords"
           }
          ],
          "pie": [
           {
            "automargin": true,
            "type": "pie"
           }
          ],
          "scatter": [
           {
            "fillpattern": {
             "fillmode": "overlay",
             "size": 10,
             "solidity": 0.2
            },
            "type": "scatter"
           }
          ],
          "scatter3d": [
           {
            "line": {
             "colorbar": {
              "outlinewidth": 0,
              "ticks": ""
             }
            },
            "marker": {
             "colorbar": {
              "outlinewidth": 0,
              "ticks": ""
             }
            },
            "type": "scatter3d"
           }
          ],
          "scattercarpet": [
           {
            "marker": {
             "colorbar": {
              "outlinewidth": 0,
              "ticks": ""
             }
            },
            "type": "scattercarpet"
           }
          ],
          "scattergeo": [
           {
            "marker": {
             "colorbar": {
              "outlinewidth": 0,
              "ticks": ""
             }
            },
            "type": "scattergeo"
           }
          ],
          "scattergl": [
           {
            "marker": {
             "colorbar": {
              "outlinewidth": 0,
              "ticks": ""
             }
            },
            "type": "scattergl"
           }
          ],
          "scattermapbox": [
           {
            "marker": {
             "colorbar": {
              "outlinewidth": 0,
              "ticks": ""
             }
            },
            "type": "scattermapbox"
           }
          ],
          "scatterpolar": [
           {
            "marker": {
             "colorbar": {
              "outlinewidth": 0,
              "ticks": ""
             }
            },
            "type": "scatterpolar"
           }
          ],
          "scatterpolargl": [
           {
            "marker": {
             "colorbar": {
              "outlinewidth": 0,
              "ticks": ""
             }
            },
            "type": "scatterpolargl"
           }
          ],
          "scatterternary": [
           {
            "marker": {
             "colorbar": {
              "outlinewidth": 0,
              "ticks": ""
             }
            },
            "type": "scatterternary"
           }
          ],
          "surface": [
           {
            "colorbar": {
             "outlinewidth": 0,
             "ticks": ""
            },
            "colorscale": [
             [
              0,
              "#0d0887"
             ],
             [
              0.1111111111111111,
              "#46039f"
             ],
             [
              0.2222222222222222,
              "#7201a8"
             ],
             [
              0.3333333333333333,
              "#9c179e"
             ],
             [
              0.4444444444444444,
              "#bd3786"
             ],
             [
              0.5555555555555556,
              "#d8576b"
             ],
             [
              0.6666666666666666,
              "#ed7953"
             ],
             [
              0.7777777777777778,
              "#fb9f3a"
             ],
             [
              0.8888888888888888,
              "#fdca26"
             ],
             [
              1,
              "#f0f921"
             ]
            ],
            "type": "surface"
           }
          ],
          "table": [
           {
            "cells": {
             "fill": {
              "color": "#EBF0F8"
             },
             "line": {
              "color": "white"
             }
            },
            "header": {
             "fill": {
              "color": "#C8D4E3"
             },
             "line": {
              "color": "white"
             }
            },
            "type": "table"
           }
          ]
         },
         "layout": {
          "annotationdefaults": {
           "arrowcolor": "#2a3f5f",
           "arrowhead": 0,
           "arrowwidth": 1
          },
          "autotypenumbers": "strict",
          "coloraxis": {
           "colorbar": {
            "outlinewidth": 0,
            "ticks": ""
           }
          },
          "colorscale": {
           "diverging": [
            [
             0,
             "#8e0152"
            ],
            [
             0.1,
             "#c51b7d"
            ],
            [
             0.2,
             "#de77ae"
            ],
            [
             0.3,
             "#f1b6da"
            ],
            [
             0.4,
             "#fde0ef"
            ],
            [
             0.5,
             "#f7f7f7"
            ],
            [
             0.6,
             "#e6f5d0"
            ],
            [
             0.7,
             "#b8e186"
            ],
            [
             0.8,
             "#7fbc41"
            ],
            [
             0.9,
             "#4d9221"
            ],
            [
             1,
             "#276419"
            ]
           ],
           "sequential": [
            [
             0,
             "#0d0887"
            ],
            [
             0.1111111111111111,
             "#46039f"
            ],
            [
             0.2222222222222222,
             "#7201a8"
            ],
            [
             0.3333333333333333,
             "#9c179e"
            ],
            [
             0.4444444444444444,
             "#bd3786"
            ],
            [
             0.5555555555555556,
             "#d8576b"
            ],
            [
             0.6666666666666666,
             "#ed7953"
            ],
            [
             0.7777777777777778,
             "#fb9f3a"
            ],
            [
             0.8888888888888888,
             "#fdca26"
            ],
            [
             1,
             "#f0f921"
            ]
           ],
           "sequentialminus": [
            [
             0,
             "#0d0887"
            ],
            [
             0.1111111111111111,
             "#46039f"
            ],
            [
             0.2222222222222222,
             "#7201a8"
            ],
            [
             0.3333333333333333,
             "#9c179e"
            ],
            [
             0.4444444444444444,
             "#bd3786"
            ],
            [
             0.5555555555555556,
             "#d8576b"
            ],
            [
             0.6666666666666666,
             "#ed7953"
            ],
            [
             0.7777777777777778,
             "#fb9f3a"
            ],
            [
             0.8888888888888888,
             "#fdca26"
            ],
            [
             1,
             "#f0f921"
            ]
           ]
          },
          "colorway": [
           "#636efa",
           "#EF553B",
           "#00cc96",
           "#ab63fa",
           "#FFA15A",
           "#19d3f3",
           "#FF6692",
           "#B6E880",
           "#FF97FF",
           "#FECB52"
          ],
          "font": {
           "color": "#2a3f5f"
          },
          "geo": {
           "bgcolor": "white",
           "lakecolor": "white",
           "landcolor": "#E5ECF6",
           "showlakes": true,
           "showland": true,
           "subunitcolor": "white"
          },
          "hoverlabel": {
           "align": "left"
          },
          "hovermode": "closest",
          "mapbox": {
           "style": "light"
          },
          "paper_bgcolor": "white",
          "plot_bgcolor": "#E5ECF6",
          "polar": {
           "angularaxis": {
            "gridcolor": "white",
            "linecolor": "white",
            "ticks": ""
           },
           "bgcolor": "#E5ECF6",
           "radialaxis": {
            "gridcolor": "white",
            "linecolor": "white",
            "ticks": ""
           }
          },
          "scene": {
           "xaxis": {
            "backgroundcolor": "#E5ECF6",
            "gridcolor": "white",
            "gridwidth": 2,
            "linecolor": "white",
            "showbackground": true,
            "ticks": "",
            "zerolinecolor": "white"
           },
           "yaxis": {
            "backgroundcolor": "#E5ECF6",
            "gridcolor": "white",
            "gridwidth": 2,
            "linecolor": "white",
            "showbackground": true,
            "ticks": "",
            "zerolinecolor": "white"
           },
           "zaxis": {
            "backgroundcolor": "#E5ECF6",
            "gridcolor": "white",
            "gridwidth": 2,
            "linecolor": "white",
            "showbackground": true,
            "ticks": "",
            "zerolinecolor": "white"
           }
          },
          "shapedefaults": {
           "line": {
            "color": "#2a3f5f"
           }
          },
          "ternary": {
           "aaxis": {
            "gridcolor": "white",
            "linecolor": "white",
            "ticks": ""
           },
           "baxis": {
            "gridcolor": "white",
            "linecolor": "white",
            "ticks": ""
           },
           "bgcolor": "#E5ECF6",
           "caxis": {
            "gridcolor": "white",
            "linecolor": "white",
            "ticks": ""
           }
          },
          "title": {
           "x": 0.05
          },
          "xaxis": {
           "automargin": true,
           "gridcolor": "white",
           "linecolor": "white",
           "ticks": "",
           "title": {
            "standoff": 15
           },
           "zerolinecolor": "white",
           "zerolinewidth": 2
          },
          "yaxis": {
           "automargin": true,
           "gridcolor": "white",
           "linecolor": "white",
           "ticks": "",
           "title": {
            "standoff": 15
           },
           "zerolinecolor": "white",
           "zerolinewidth": 2
          }
         }
        },
        "title": {
         "text": "Weekly Sales"
        },
        "xaxis": {
         "anchor": "y",
         "domain": [
          0,
          1
         ],
         "title": {
          "text": "Date"
         }
        },
        "yaxis": {
         "anchor": "x",
         "domain": [
          0,
          1
         ],
         "title": {
          "text": "Sales Count"
         }
        }
       }
      },
      "text/html": [
       "<div>                            <div id=\"bcf5ebc1-2b6e-4e4e-97d5-831a734a8cfb\" class=\"plotly-graph-div\" style=\"height:525px; width:100%;\"></div>            <script type=\"text/javascript\">                require([\"plotly\"], function(Plotly) {                    window.PLOTLYENV=window.PLOTLYENV || {};                                    if (document.getElementById(\"bcf5ebc1-2b6e-4e4e-97d5-831a734a8cfb\")) {                    Plotly.newPlot(                        \"bcf5ebc1-2b6e-4e4e-97d5-831a734a8cfb\",                        [{\"hovertemplate\":\"%{y}\",\"legendgroup\":\"\",\"line\":{\"color\":\"#636efa\",\"dash\":\"solid\"},\"marker\":{\"symbol\":\"circle\"},\"mode\":\"lines+markers\",\"name\":\"\",\"orientation\":\"v\",\"showlegend\":false,\"x\":[\"2019-01-06T00:00:00\",\"2019-01-13T00:00:00\",\"2019-01-20T00:00:00\",\"2019-01-27T00:00:00\",\"2019-02-03T00:00:00\",\"2019-02-10T00:00:00\",\"2019-02-17T00:00:00\",\"2019-02-24T00:00:00\",\"2019-03-03T00:00:00\",\"2019-03-10T00:00:00\",\"2019-03-17T00:00:00\",\"2019-03-24T00:00:00\",\"2019-03-31T00:00:00\"],\"xaxis\":\"x\",\"y\":[55,73,82,93,83,92,72,60,87,88,78,76,61],\"yaxis\":\"y\",\"type\":\"scatter\"}],                        {\"template\":{\"data\":{\"histogram2dcontour\":[{\"type\":\"histogram2dcontour\",\"colorbar\":{\"outlinewidth\":0,\"ticks\":\"\"},\"colorscale\":[[0.0,\"#0d0887\"],[0.1111111111111111,\"#46039f\"],[0.2222222222222222,\"#7201a8\"],[0.3333333333333333,\"#9c179e\"],[0.4444444444444444,\"#bd3786\"],[0.5555555555555556,\"#d8576b\"],[0.6666666666666666,\"#ed7953\"],[0.7777777777777778,\"#fb9f3a\"],[0.8888888888888888,\"#fdca26\"],[1.0,\"#f0f921\"]]}],\"choropleth\":[{\"type\":\"choropleth\",\"colorbar\":{\"outlinewidth\":0,\"ticks\":\"\"}}],\"histogram2d\":[{\"type\":\"histogram2d\",\"colorbar\":{\"outlinewidth\":0,\"ticks\":\"\"},\"colorscale\":[[0.0,\"#0d0887\"],[0.1111111111111111,\"#46039f\"],[0.2222222222222222,\"#7201a8\"],[0.3333333333333333,\"#9c179e\"],[0.4444444444444444,\"#bd3786\"],[0.5555555555555556,\"#d8576b\"],[0.6666666666666666,\"#ed7953\"],[0.7777777777777778,\"#fb9f3a\"],[0.8888888888888888,\"#fdca26\"],[1.0,\"#f0f921\"]]}],\"heatmap\":[{\"type\":\"heatmap\",\"colorbar\":{\"outlinewidth\":0,\"ticks\":\"\"},\"colorscale\":[[0.0,\"#0d0887\"],[0.1111111111111111,\"#46039f\"],[0.2222222222222222,\"#7201a8\"],[0.3333333333333333,\"#9c179e\"],[0.4444444444444444,\"#bd3786\"],[0.5555555555555556,\"#d8576b\"],[0.6666666666666666,\"#ed7953\"],[0.7777777777777778,\"#fb9f3a\"],[0.8888888888888888,\"#fdca26\"],[1.0,\"#f0f921\"]]}],\"heatmapgl\":[{\"type\":\"heatmapgl\",\"colorbar\":{\"outlinewidth\":0,\"ticks\":\"\"},\"colorscale\":[[0.0,\"#0d0887\"],[0.1111111111111111,\"#46039f\"],[0.2222222222222222,\"#7201a8\"],[0.3333333333333333,\"#9c179e\"],[0.4444444444444444,\"#bd3786\"],[0.5555555555555556,\"#d8576b\"],[0.6666666666666666,\"#ed7953\"],[0.7777777777777778,\"#fb9f3a\"],[0.8888888888888888,\"#fdca26\"],[1.0,\"#f0f921\"]]}],\"contourcarpet\":[{\"type\":\"contourcarpet\",\"colorbar\":{\"outlinewidth\":0,\"ticks\":\"\"}}],\"contour\":[{\"type\":\"contour\",\"colorbar\":{\"outlinewidth\":0,\"ticks\":\"\"},\"colorscale\":[[0.0,\"#0d0887\"],[0.1111111111111111,\"#46039f\"],[0.2222222222222222,\"#7201a8\"],[0.3333333333333333,\"#9c179e\"],[0.4444444444444444,\"#bd3786\"],[0.5555555555555556,\"#d8576b\"],[0.6666666666666666,\"#ed7953\"],[0.7777777777777778,\"#fb9f3a\"],[0.8888888888888888,\"#fdca26\"],[1.0,\"#f0f921\"]]}],\"surface\":[{\"type\":\"surface\",\"colorbar\":{\"outlinewidth\":0,\"ticks\":\"\"},\"colorscale\":[[0.0,\"#0d0887\"],[0.1111111111111111,\"#46039f\"],[0.2222222222222222,\"#7201a8\"],[0.3333333333333333,\"#9c179e\"],[0.4444444444444444,\"#bd3786\"],[0.5555555555555556,\"#d8576b\"],[0.6666666666666666,\"#ed7953\"],[0.7777777777777778,\"#fb9f3a\"],[0.8888888888888888,\"#fdca26\"],[1.0,\"#f0f921\"]]}],\"mesh3d\":[{\"type\":\"mesh3d\",\"colorbar\":{\"outlinewidth\":0,\"ticks\":\"\"}}],\"scatter\":[{\"fillpattern\":{\"fillmode\":\"overlay\",\"size\":10,\"solidity\":0.2},\"type\":\"scatter\"}],\"parcoords\":[{\"type\":\"parcoords\",\"line\":{\"colorbar\":{\"outlinewidth\":0,\"ticks\":\"\"}}}],\"scatterpolargl\":[{\"type\":\"scatterpolargl\",\"marker\":{\"colorbar\":{\"outlinewidth\":0,\"ticks\":\"\"}}}],\"bar\":[{\"error_x\":{\"color\":\"#2a3f5f\"},\"error_y\":{\"color\":\"#2a3f5f\"},\"marker\":{\"line\":{\"color\":\"#E5ECF6\",\"width\":0.5},\"pattern\":{\"fillmode\":\"overlay\",\"size\":10,\"solidity\":0.2}},\"type\":\"bar\"}],\"scattergeo\":[{\"type\":\"scattergeo\",\"marker\":{\"colorbar\":{\"outlinewidth\":0,\"ticks\":\"\"}}}],\"scatterpolar\":[{\"type\":\"scatterpolar\",\"marker\":{\"colorbar\":{\"outlinewidth\":0,\"ticks\":\"\"}}}],\"histogram\":[{\"marker\":{\"pattern\":{\"fillmode\":\"overlay\",\"size\":10,\"solidity\":0.2}},\"type\":\"histogram\"}],\"scattergl\":[{\"type\":\"scattergl\",\"marker\":{\"colorbar\":{\"outlinewidth\":0,\"ticks\":\"\"}}}],\"scatter3d\":[{\"type\":\"scatter3d\",\"line\":{\"colorbar\":{\"outlinewidth\":0,\"ticks\":\"\"}},\"marker\":{\"colorbar\":{\"outlinewidth\":0,\"ticks\":\"\"}}}],\"scattermapbox\":[{\"type\":\"scattermapbox\",\"marker\":{\"colorbar\":{\"outlinewidth\":0,\"ticks\":\"\"}}}],\"scatterternary\":[{\"type\":\"scatterternary\",\"marker\":{\"colorbar\":{\"outlinewidth\":0,\"ticks\":\"\"}}}],\"scattercarpet\":[{\"type\":\"scattercarpet\",\"marker\":{\"colorbar\":{\"outlinewidth\":0,\"ticks\":\"\"}}}],\"carpet\":[{\"aaxis\":{\"endlinecolor\":\"#2a3f5f\",\"gridcolor\":\"white\",\"linecolor\":\"white\",\"minorgridcolor\":\"white\",\"startlinecolor\":\"#2a3f5f\"},\"baxis\":{\"endlinecolor\":\"#2a3f5f\",\"gridcolor\":\"white\",\"linecolor\":\"white\",\"minorgridcolor\":\"white\",\"startlinecolor\":\"#2a3f5f\"},\"type\":\"carpet\"}],\"table\":[{\"cells\":{\"fill\":{\"color\":\"#EBF0F8\"},\"line\":{\"color\":\"white\"}},\"header\":{\"fill\":{\"color\":\"#C8D4E3\"},\"line\":{\"color\":\"white\"}},\"type\":\"table\"}],\"barpolar\":[{\"marker\":{\"line\":{\"color\":\"#E5ECF6\",\"width\":0.5},\"pattern\":{\"fillmode\":\"overlay\",\"size\":10,\"solidity\":0.2}},\"type\":\"barpolar\"}],\"pie\":[{\"automargin\":true,\"type\":\"pie\"}]},\"layout\":{\"autotypenumbers\":\"strict\",\"colorway\":[\"#636efa\",\"#EF553B\",\"#00cc96\",\"#ab63fa\",\"#FFA15A\",\"#19d3f3\",\"#FF6692\",\"#B6E880\",\"#FF97FF\",\"#FECB52\"],\"font\":{\"color\":\"#2a3f5f\"},\"hovermode\":\"closest\",\"hoverlabel\":{\"align\":\"left\"},\"paper_bgcolor\":\"white\",\"plot_bgcolor\":\"#E5ECF6\",\"polar\":{\"bgcolor\":\"#E5ECF6\",\"angularaxis\":{\"gridcolor\":\"white\",\"linecolor\":\"white\",\"ticks\":\"\"},\"radialaxis\":{\"gridcolor\":\"white\",\"linecolor\":\"white\",\"ticks\":\"\"}},\"ternary\":{\"bgcolor\":\"#E5ECF6\",\"aaxis\":{\"gridcolor\":\"white\",\"linecolor\":\"white\",\"ticks\":\"\"},\"baxis\":{\"gridcolor\":\"white\",\"linecolor\":\"white\",\"ticks\":\"\"},\"caxis\":{\"gridcolor\":\"white\",\"linecolor\":\"white\",\"ticks\":\"\"}},\"coloraxis\":{\"colorbar\":{\"outlinewidth\":0,\"ticks\":\"\"}},\"colorscale\":{\"sequential\":[[0.0,\"#0d0887\"],[0.1111111111111111,\"#46039f\"],[0.2222222222222222,\"#7201a8\"],[0.3333333333333333,\"#9c179e\"],[0.4444444444444444,\"#bd3786\"],[0.5555555555555556,\"#d8576b\"],[0.6666666666666666,\"#ed7953\"],[0.7777777777777778,\"#fb9f3a\"],[0.8888888888888888,\"#fdca26\"],[1.0,\"#f0f921\"]],\"sequentialminus\":[[0.0,\"#0d0887\"],[0.1111111111111111,\"#46039f\"],[0.2222222222222222,\"#7201a8\"],[0.3333333333333333,\"#9c179e\"],[0.4444444444444444,\"#bd3786\"],[0.5555555555555556,\"#d8576b\"],[0.6666666666666666,\"#ed7953\"],[0.7777777777777778,\"#fb9f3a\"],[0.8888888888888888,\"#fdca26\"],[1.0,\"#f0f921\"]],\"diverging\":[[0,\"#8e0152\"],[0.1,\"#c51b7d\"],[0.2,\"#de77ae\"],[0.3,\"#f1b6da\"],[0.4,\"#fde0ef\"],[0.5,\"#f7f7f7\"],[0.6,\"#e6f5d0\"],[0.7,\"#b8e186\"],[0.8,\"#7fbc41\"],[0.9,\"#4d9221\"],[1,\"#276419\"]]},\"xaxis\":{\"gridcolor\":\"white\",\"linecolor\":\"white\",\"ticks\":\"\",\"title\":{\"standoff\":15},\"zerolinecolor\":\"white\",\"automargin\":true,\"zerolinewidth\":2},\"yaxis\":{\"gridcolor\":\"white\",\"linecolor\":\"white\",\"ticks\":\"\",\"title\":{\"standoff\":15},\"zerolinecolor\":\"white\",\"automargin\":true,\"zerolinewidth\":2},\"scene\":{\"xaxis\":{\"backgroundcolor\":\"#E5ECF6\",\"gridcolor\":\"white\",\"linecolor\":\"white\",\"showbackground\":true,\"ticks\":\"\",\"zerolinecolor\":\"white\",\"gridwidth\":2},\"yaxis\":{\"backgroundcolor\":\"#E5ECF6\",\"gridcolor\":\"white\",\"linecolor\":\"white\",\"showbackground\":true,\"ticks\":\"\",\"zerolinecolor\":\"white\",\"gridwidth\":2},\"zaxis\":{\"backgroundcolor\":\"#E5ECF6\",\"gridcolor\":\"white\",\"linecolor\":\"white\",\"showbackground\":true,\"ticks\":\"\",\"zerolinecolor\":\"white\",\"gridwidth\":2}},\"shapedefaults\":{\"line\":{\"color\":\"#2a3f5f\"}},\"annotationdefaults\":{\"arrowcolor\":\"#2a3f5f\",\"arrowhead\":0,\"arrowwidth\":1},\"geo\":{\"bgcolor\":\"white\",\"landcolor\":\"#E5ECF6\",\"subunitcolor\":\"white\",\"showland\":true,\"showlakes\":true,\"lakecolor\":\"white\"},\"title\":{\"x\":0.05},\"mapbox\":{\"style\":\"light\"}}},\"xaxis\":{\"anchor\":\"y\",\"domain\":[0.0,1.0],\"title\":{\"text\":\"Date\"}},\"yaxis\":{\"anchor\":\"x\",\"domain\":[0.0,1.0],\"title\":{\"text\":\"Sales Count\"}},\"legend\":{\"tracegroupgap\":0},\"title\":{\"text\":\"Weekly Sales\"},\"hoverlabel\":{\"font\":{\"size\":14},\"bgcolor\":\"white\"},\"hovermode\":\"x unified\"},                        {\"responsive\": true}                    ).then(function(){\n",
       "                            \n",
       "var gd = document.getElementById('bcf5ebc1-2b6e-4e4e-97d5-831a734a8cfb');\n",
       "var x = new MutationObserver(function (mutations, observer) {{\n",
       "        var display = window.getComputedStyle(gd).display;\n",
       "        if (!display || display === 'none') {{\n",
       "            console.log([gd, 'removed!']);\n",
       "            Plotly.purge(gd);\n",
       "            observer.disconnect();\n",
       "        }}\n",
       "}});\n",
       "\n",
       "// Listen for the removal of the full notebook cells\n",
       "var notebookContainer = gd.closest('#notebook-container');\n",
       "if (notebookContainer) {{\n",
       "    x.observe(notebookContainer, {childList: true});\n",
       "}}\n",
       "\n",
       "// Listen for the clearing of the current output cell\n",
       "var outputEl = gd.closest('.output');\n",
       "if (outputEl) {{\n",
       "    x.observe(outputEl, {childList: true});\n",
       "}}\n",
       "\n",
       "                        })                };                });            </script>        </div>"
      ]
     },
     "metadata": {},
     "output_type": "display_data"
    }
   ],
   "source": [
    "# Create a line graph\n",
    "fig = px.line(weekly_sales, x='Date', y='Sales Count', title='Weekly Sales')\n",
    "fig.update_traces(mode='lines+markers', hovertemplate='%{y}')\n",
    "\n",
    "# Customize hover text\n",
    "fig.update_layout(hovermode='x unified', hoverlabel=dict(bgcolor='white', font_size=14))\n",
    "\n",
    "fig.show()"
   ]
  },
  {
   "cell_type": "code",
<<<<<<< HEAD
   "execution_count": 81,
=======
   "execution_count": 46,
>>>>>>> 3a02bc2bd8140609b12dc3ae5eee29ec06e4eb0a
   "id": "648ca7a4",
   "metadata": {},
   "outputs": [
    {
<<<<<<< HEAD
     "name": "stderr",
     "output_type": "stream",
     "text": [
      "C:\\Users\\kgots\\AppData\\Local\\Temp\\ipykernel_3008\\3410864284.py:2: FutureWarning:\n",
      "\n",
      "The default value of numeric_only in DataFrameGroupBy.sum is deprecated. In a future version, numeric_only will default to False. Either specify numeric_only or select only columns which should be valid for the function.\n",
      "\n"
     ]
=======
     "data": {
      "text/html": [
       "<div>\n",
       "<style scoped>\n",
       "    .dataframe tbody tr th:only-of-type {\n",
       "        vertical-align: middle;\n",
       "    }\n",
       "\n",
       "    .dataframe tbody tr th {\n",
       "        vertical-align: top;\n",
       "    }\n",
       "\n",
       "    .dataframe thead th {\n",
       "        text-align: right;\n",
       "    }\n",
       "</style>\n",
       "<table border=\"1\" class=\"dataframe\">\n",
       "  <thead>\n",
       "    <tr style=\"text-align: right;\">\n",
       "      <th></th>\n",
       "      <th>Sales Count</th>\n",
       "      <th>Month</th>\n",
       "    </tr>\n",
       "  </thead>\n",
       "  <tbody>\n",
       "    <tr>\n",
       "      <th>0</th>\n",
       "      <td>352</td>\n",
       "      <td>January</td>\n",
       "    </tr>\n",
       "    <tr>\n",
       "      <th>1</th>\n",
       "      <td>303</td>\n",
       "      <td>February</td>\n",
       "    </tr>\n",
       "    <tr>\n",
       "      <th>2</th>\n",
       "      <td>345</td>\n",
       "      <td>March</td>\n",
       "    </tr>\n",
       "  </tbody>\n",
       "</table>\n",
       "</div>"
      ],
      "text/plain": [
       "   Sales Count     Month\n",
       "0          352   January\n",
       "1          303  February\n",
       "2          345     March"
      ]
     },
     "execution_count": 46,
     "metadata": {},
     "output_type": "execute_result"
>>>>>>> 3a02bc2bd8140609b12dc3ae5eee29ec06e4eb0a
    }
   ],
   "source": [
    "# Resample the data to get monthly sales\n",
    "monthly_sales = daily_sales.resample('M').sum()\n",
    "\n",
    "# Reset the index to have the 'Date' as a regular column\n",
    "monthly_sales.reset_index(inplace=True)\n",
    "\n",
    "# Format the 'Date' column to show the name of the month\n",
    "monthly_sales['Month'] = monthly_sales['Date'].dt.strftime('%B')\n",
    "\n",
    "# Drop the original 'Date' column\n",
    "monthly_sales.drop(columns=['Date'], inplace=True)"
   ]
  },
  {
   "cell_type": "code",
<<<<<<< HEAD
   "execution_count": 82,
=======
   "execution_count": 47,
>>>>>>> 3a02bc2bd8140609b12dc3ae5eee29ec06e4eb0a
   "id": "04bcbf96",
   "metadata": {},
   "outputs": [
    {
     "data": {
      "application/vnd.plotly.v1+json": {
       "config": {
        "plotlyServerURL": "https://plot.ly"
       },
       "data": [
        {
         "alignmentgroup": "True",
         "hovertemplate": "Month=%{x}<br>Sales=%{y}<extra></extra>",
         "legendgroup": "",
         "marker": {
          "color": "#636efa",
          "pattern": {
           "shape": ""
          }
         },
         "name": "",
         "offsetgroup": "",
         "orientation": "v",
         "showlegend": false,
         "textposition": "auto",
         "type": "bar",
         "x": [
          "January",
          "February",
          "March"
         ],
         "xaxis": "x",
         "y": [
          352,
          303,
          345
         ],
         "yaxis": "y"
        }
       ],
       "layout": {
        "barmode": "relative",
        "legend": {
         "tracegroupgap": 0
        },
        "template": {
         "data": {
          "bar": [
           {
            "error_x": {
             "color": "#2a3f5f"
            },
            "error_y": {
             "color": "#2a3f5f"
            },
            "marker": {
             "line": {
              "color": "#E5ECF6",
              "width": 0.5
             },
             "pattern": {
              "fillmode": "overlay",
              "size": 10,
              "solidity": 0.2
             }
            },
            "type": "bar"
           }
          ],
          "barpolar": [
           {
            "marker": {
             "line": {
              "color": "#E5ECF6",
              "width": 0.5
             },
             "pattern": {
              "fillmode": "overlay",
              "size": 10,
              "solidity": 0.2
             }
            },
            "type": "barpolar"
           }
          ],
          "carpet": [
           {
            "aaxis": {
             "endlinecolor": "#2a3f5f",
             "gridcolor": "white",
             "linecolor": "white",
             "minorgridcolor": "white",
             "startlinecolor": "#2a3f5f"
            },
            "baxis": {
             "endlinecolor": "#2a3f5f",
             "gridcolor": "white",
             "linecolor": "white",
             "minorgridcolor": "white",
             "startlinecolor": "#2a3f5f"
            },
            "type": "carpet"
           }
          ],
          "choropleth": [
           {
            "colorbar": {
             "outlinewidth": 0,
             "ticks": ""
            },
            "type": "choropleth"
           }
          ],
          "contour": [
           {
            "colorbar": {
             "outlinewidth": 0,
             "ticks": ""
            },
            "colorscale": [
             [
              0,
              "#0d0887"
             ],
             [
              0.1111111111111111,
              "#46039f"
             ],
             [
              0.2222222222222222,
              "#7201a8"
             ],
             [
              0.3333333333333333,
              "#9c179e"
             ],
             [
              0.4444444444444444,
              "#bd3786"
             ],
             [
              0.5555555555555556,
              "#d8576b"
             ],
             [
              0.6666666666666666,
              "#ed7953"
             ],
             [
              0.7777777777777778,
              "#fb9f3a"
             ],
             [
              0.8888888888888888,
              "#fdca26"
             ],
             [
              1,
              "#f0f921"
             ]
            ],
            "type": "contour"
           }
          ],
          "contourcarpet": [
           {
            "colorbar": {
             "outlinewidth": 0,
             "ticks": ""
            },
            "type": "contourcarpet"
           }
          ],
          "heatmap": [
           {
            "colorbar": {
             "outlinewidth": 0,
             "ticks": ""
            },
            "colorscale": [
             [
              0,
              "#0d0887"
             ],
             [
              0.1111111111111111,
              "#46039f"
             ],
             [
              0.2222222222222222,
              "#7201a8"
             ],
             [
              0.3333333333333333,
              "#9c179e"
             ],
             [
              0.4444444444444444,
              "#bd3786"
             ],
             [
              0.5555555555555556,
              "#d8576b"
             ],
             [
              0.6666666666666666,
              "#ed7953"
             ],
             [
              0.7777777777777778,
              "#fb9f3a"
             ],
             [
              0.8888888888888888,
              "#fdca26"
             ],
             [
              1,
              "#f0f921"
             ]
            ],
            "type": "heatmap"
           }
          ],
          "heatmapgl": [
           {
            "colorbar": {
             "outlinewidth": 0,
             "ticks": ""
            },
            "colorscale": [
             [
              0,
              "#0d0887"
             ],
             [
              0.1111111111111111,
              "#46039f"
             ],
             [
              0.2222222222222222,
              "#7201a8"
             ],
             [
              0.3333333333333333,
              "#9c179e"
             ],
             [
              0.4444444444444444,
              "#bd3786"
             ],
             [
              0.5555555555555556,
              "#d8576b"
             ],
             [
              0.6666666666666666,
              "#ed7953"
             ],
             [
              0.7777777777777778,
              "#fb9f3a"
             ],
             [
              0.8888888888888888,
              "#fdca26"
             ],
             [
              1,
              "#f0f921"
             ]
            ],
            "type": "heatmapgl"
           }
          ],
          "histogram": [
           {
            "marker": {
             "pattern": {
              "fillmode": "overlay",
              "size": 10,
              "solidity": 0.2
             }
            },
            "type": "histogram"
           }
          ],
          "histogram2d": [
           {
            "colorbar": {
             "outlinewidth": 0,
             "ticks": ""
            },
            "colorscale": [
             [
              0,
              "#0d0887"
             ],
             [
              0.1111111111111111,
              "#46039f"
             ],
             [
              0.2222222222222222,
              "#7201a8"
             ],
             [
              0.3333333333333333,
              "#9c179e"
             ],
             [
              0.4444444444444444,
              "#bd3786"
             ],
             [
              0.5555555555555556,
              "#d8576b"
             ],
             [
              0.6666666666666666,
              "#ed7953"
             ],
             [
              0.7777777777777778,
              "#fb9f3a"
             ],
             [
              0.8888888888888888,
              "#fdca26"
             ],
             [
              1,
              "#f0f921"
             ]
            ],
            "type": "histogram2d"
           }
          ],
          "histogram2dcontour": [
           {
            "colorbar": {
             "outlinewidth": 0,
             "ticks": ""
            },
            "colorscale": [
             [
              0,
              "#0d0887"
             ],
             [
              0.1111111111111111,
              "#46039f"
             ],
             [
              0.2222222222222222,
              "#7201a8"
             ],
             [
              0.3333333333333333,
              "#9c179e"
             ],
             [
              0.4444444444444444,
              "#bd3786"
             ],
             [
              0.5555555555555556,
              "#d8576b"
             ],
             [
              0.6666666666666666,
              "#ed7953"
             ],
             [
              0.7777777777777778,
              "#fb9f3a"
             ],
             [
              0.8888888888888888,
              "#fdca26"
             ],
             [
              1,
              "#f0f921"
             ]
            ],
            "type": "histogram2dcontour"
           }
          ],
          "mesh3d": [
           {
            "colorbar": {
             "outlinewidth": 0,
             "ticks": ""
            },
            "type": "mesh3d"
           }
          ],
          "parcoords": [
           {
            "line": {
             "colorbar": {
              "outlinewidth": 0,
              "ticks": ""
             }
            },
            "type": "parcoords"
           }
          ],
          "pie": [
           {
            "automargin": true,
            "type": "pie"
           }
          ],
          "scatter": [
           {
            "fillpattern": {
             "fillmode": "overlay",
             "size": 10,
             "solidity": 0.2
            },
            "type": "scatter"
           }
          ],
          "scatter3d": [
           {
            "line": {
             "colorbar": {
              "outlinewidth": 0,
              "ticks": ""
             }
            },
            "marker": {
             "colorbar": {
              "outlinewidth": 0,
              "ticks": ""
             }
            },
            "type": "scatter3d"
           }
          ],
          "scattercarpet": [
           {
            "marker": {
             "colorbar": {
              "outlinewidth": 0,
              "ticks": ""
             }
            },
            "type": "scattercarpet"
           }
          ],
          "scattergeo": [
           {
            "marker": {
             "colorbar": {
              "outlinewidth": 0,
              "ticks": ""
             }
            },
            "type": "scattergeo"
           }
          ],
          "scattergl": [
           {
            "marker": {
             "colorbar": {
              "outlinewidth": 0,
              "ticks": ""
             }
            },
            "type": "scattergl"
           }
          ],
          "scattermapbox": [
           {
            "marker": {
             "colorbar": {
              "outlinewidth": 0,
              "ticks": ""
             }
            },
            "type": "scattermapbox"
           }
          ],
          "scatterpolar": [
           {
            "marker": {
             "colorbar": {
              "outlinewidth": 0,
              "ticks": ""
             }
            },
            "type": "scatterpolar"
           }
          ],
          "scatterpolargl": [
           {
            "marker": {
             "colorbar": {
              "outlinewidth": 0,
              "ticks": ""
             }
            },
            "type": "scatterpolargl"
           }
          ],
          "scatterternary": [
           {
            "marker": {
             "colorbar": {
              "outlinewidth": 0,
              "ticks": ""
             }
            },
            "type": "scatterternary"
           }
          ],
          "surface": [
           {
            "colorbar": {
             "outlinewidth": 0,
             "ticks": ""
            },
            "colorscale": [
             [
              0,
              "#0d0887"
             ],
             [
              0.1111111111111111,
              "#46039f"
             ],
             [
              0.2222222222222222,
              "#7201a8"
             ],
             [
              0.3333333333333333,
              "#9c179e"
             ],
             [
              0.4444444444444444,
              "#bd3786"
             ],
             [
              0.5555555555555556,
              "#d8576b"
             ],
             [
              0.6666666666666666,
              "#ed7953"
             ],
             [
              0.7777777777777778,
              "#fb9f3a"
             ],
             [
              0.8888888888888888,
              "#fdca26"
             ],
             [
              1,
              "#f0f921"
             ]
            ],
            "type": "surface"
           }
          ],
          "table": [
           {
            "cells": {
             "fill": {
              "color": "#EBF0F8"
             },
             "line": {
              "color": "white"
             }
            },
            "header": {
             "fill": {
              "color": "#C8D4E3"
             },
             "line": {
              "color": "white"
             }
            },
            "type": "table"
           }
          ]
         },
         "layout": {
          "annotationdefaults": {
           "arrowcolor": "#2a3f5f",
           "arrowhead": 0,
           "arrowwidth": 1
          },
          "autotypenumbers": "strict",
          "coloraxis": {
           "colorbar": {
            "outlinewidth": 0,
            "ticks": ""
           }
          },
          "colorscale": {
           "diverging": [
            [
             0,
             "#8e0152"
            ],
            [
             0.1,
             "#c51b7d"
            ],
            [
             0.2,
             "#de77ae"
            ],
            [
             0.3,
             "#f1b6da"
            ],
            [
             0.4,
             "#fde0ef"
            ],
            [
             0.5,
             "#f7f7f7"
            ],
            [
             0.6,
             "#e6f5d0"
            ],
            [
             0.7,
             "#b8e186"
            ],
            [
             0.8,
             "#7fbc41"
            ],
            [
             0.9,
             "#4d9221"
            ],
            [
             1,
             "#276419"
            ]
           ],
           "sequential": [
            [
             0,
             "#0d0887"
            ],
            [
             0.1111111111111111,
             "#46039f"
            ],
            [
             0.2222222222222222,
             "#7201a8"
            ],
            [
             0.3333333333333333,
             "#9c179e"
            ],
            [
             0.4444444444444444,
             "#bd3786"
            ],
            [
             0.5555555555555556,
             "#d8576b"
            ],
            [
             0.6666666666666666,
             "#ed7953"
            ],
            [
             0.7777777777777778,
             "#fb9f3a"
            ],
            [
             0.8888888888888888,
             "#fdca26"
            ],
            [
             1,
             "#f0f921"
            ]
           ],
           "sequentialminus": [
            [
             0,
             "#0d0887"
            ],
            [
             0.1111111111111111,
             "#46039f"
            ],
            [
             0.2222222222222222,
             "#7201a8"
            ],
            [
             0.3333333333333333,
             "#9c179e"
            ],
            [
             0.4444444444444444,
             "#bd3786"
            ],
            [
             0.5555555555555556,
             "#d8576b"
            ],
            [
             0.6666666666666666,
             "#ed7953"
            ],
            [
             0.7777777777777778,
             "#fb9f3a"
            ],
            [
             0.8888888888888888,
             "#fdca26"
            ],
            [
             1,
             "#f0f921"
            ]
           ]
          },
          "colorway": [
           "#636efa",
           "#EF553B",
           "#00cc96",
           "#ab63fa",
           "#FFA15A",
           "#19d3f3",
           "#FF6692",
           "#B6E880",
           "#FF97FF",
           "#FECB52"
          ],
          "font": {
           "color": "#2a3f5f"
          },
          "geo": {
           "bgcolor": "white",
           "lakecolor": "white",
           "landcolor": "#E5ECF6",
           "showlakes": true,
           "showland": true,
           "subunitcolor": "white"
          },
          "hoverlabel": {
           "align": "left"
          },
          "hovermode": "closest",
          "mapbox": {
           "style": "light"
          },
          "paper_bgcolor": "white",
          "plot_bgcolor": "#E5ECF6",
          "polar": {
           "angularaxis": {
            "gridcolor": "white",
            "linecolor": "white",
            "ticks": ""
           },
           "bgcolor": "#E5ECF6",
           "radialaxis": {
            "gridcolor": "white",
            "linecolor": "white",
            "ticks": ""
           }
          },
          "scene": {
           "xaxis": {
            "backgroundcolor": "#E5ECF6",
            "gridcolor": "white",
            "gridwidth": 2,
            "linecolor": "white",
            "showbackground": true,
            "ticks": "",
            "zerolinecolor": "white"
           },
           "yaxis": {
            "backgroundcolor": "#E5ECF6",
            "gridcolor": "white",
            "gridwidth": 2,
            "linecolor": "white",
            "showbackground": true,
            "ticks": "",
            "zerolinecolor": "white"
           },
           "zaxis": {
            "backgroundcolor": "#E5ECF6",
            "gridcolor": "white",
            "gridwidth": 2,
            "linecolor": "white",
            "showbackground": true,
            "ticks": "",
            "zerolinecolor": "white"
           }
          },
          "shapedefaults": {
           "line": {
            "color": "#2a3f5f"
           }
          },
          "ternary": {
           "aaxis": {
            "gridcolor": "white",
            "linecolor": "white",
            "ticks": ""
           },
           "baxis": {
            "gridcolor": "white",
            "linecolor": "white",
            "ticks": ""
           },
           "bgcolor": "#E5ECF6",
           "caxis": {
            "gridcolor": "white",
            "linecolor": "white",
            "ticks": ""
           }
          },
          "title": {
           "x": 0.05
          },
          "xaxis": {
           "automargin": true,
           "gridcolor": "white",
           "linecolor": "white",
           "ticks": "",
           "title": {
            "standoff": 15
           },
           "zerolinecolor": "white",
           "zerolinewidth": 2
          },
          "yaxis": {
           "automargin": true,
           "gridcolor": "white",
           "linecolor": "white",
           "ticks": "",
           "title": {
            "standoff": 15
           },
           "zerolinecolor": "white",
           "zerolinewidth": 2
          }
         }
        },
        "title": {
         "text": "Monthly Sales"
        },
        "xaxis": {
         "anchor": "y",
         "domain": [
          0,
          1
         ],
         "title": {
          "text": "Month"
         }
        },
        "yaxis": {
         "anchor": "x",
         "domain": [
          0,
          1
         ],
         "title": {
          "text": "Sales"
         }
        }
       }
      },
      "text/html": [
       "<div>                            <div id=\"ee100904-e0fc-412f-9a8c-81c959c5b2c9\" class=\"plotly-graph-div\" style=\"height:525px; width:100%;\"></div>            <script type=\"text/javascript\">                require([\"plotly\"], function(Plotly) {                    window.PLOTLYENV=window.PLOTLYENV || {};                                    if (document.getElementById(\"ee100904-e0fc-412f-9a8c-81c959c5b2c9\")) {                    Plotly.newPlot(                        \"ee100904-e0fc-412f-9a8c-81c959c5b2c9\",                        [{\"alignmentgroup\":\"True\",\"hovertemplate\":\"Month=%{x}<br>Sales=%{y}<extra></extra>\",\"legendgroup\":\"\",\"marker\":{\"color\":\"#636efa\",\"pattern\":{\"shape\":\"\"}},\"name\":\"\",\"offsetgroup\":\"\",\"orientation\":\"v\",\"showlegend\":false,\"textposition\":\"auto\",\"x\":[\"January\",\"February\",\"March\"],\"xaxis\":\"x\",\"y\":[352,303,345],\"yaxis\":\"y\",\"type\":\"bar\"}],                        {\"template\":{\"data\":{\"histogram2dcontour\":[{\"type\":\"histogram2dcontour\",\"colorbar\":{\"outlinewidth\":0,\"ticks\":\"\"},\"colorscale\":[[0.0,\"#0d0887\"],[0.1111111111111111,\"#46039f\"],[0.2222222222222222,\"#7201a8\"],[0.3333333333333333,\"#9c179e\"],[0.4444444444444444,\"#bd3786\"],[0.5555555555555556,\"#d8576b\"],[0.6666666666666666,\"#ed7953\"],[0.7777777777777778,\"#fb9f3a\"],[0.8888888888888888,\"#fdca26\"],[1.0,\"#f0f921\"]]}],\"choropleth\":[{\"type\":\"choropleth\",\"colorbar\":{\"outlinewidth\":0,\"ticks\":\"\"}}],\"histogram2d\":[{\"type\":\"histogram2d\",\"colorbar\":{\"outlinewidth\":0,\"ticks\":\"\"},\"colorscale\":[[0.0,\"#0d0887\"],[0.1111111111111111,\"#46039f\"],[0.2222222222222222,\"#7201a8\"],[0.3333333333333333,\"#9c179e\"],[0.4444444444444444,\"#bd3786\"],[0.5555555555555556,\"#d8576b\"],[0.6666666666666666,\"#ed7953\"],[0.7777777777777778,\"#fb9f3a\"],[0.8888888888888888,\"#fdca26\"],[1.0,\"#f0f921\"]]}],\"heatmap\":[{\"type\":\"heatmap\",\"colorbar\":{\"outlinewidth\":0,\"ticks\":\"\"},\"colorscale\":[[0.0,\"#0d0887\"],[0.1111111111111111,\"#46039f\"],[0.2222222222222222,\"#7201a8\"],[0.3333333333333333,\"#9c179e\"],[0.4444444444444444,\"#bd3786\"],[0.5555555555555556,\"#d8576b\"],[0.6666666666666666,\"#ed7953\"],[0.7777777777777778,\"#fb9f3a\"],[0.8888888888888888,\"#fdca26\"],[1.0,\"#f0f921\"]]}],\"heatmapgl\":[{\"type\":\"heatmapgl\",\"colorbar\":{\"outlinewidth\":0,\"ticks\":\"\"},\"colorscale\":[[0.0,\"#0d0887\"],[0.1111111111111111,\"#46039f\"],[0.2222222222222222,\"#7201a8\"],[0.3333333333333333,\"#9c179e\"],[0.4444444444444444,\"#bd3786\"],[0.5555555555555556,\"#d8576b\"],[0.6666666666666666,\"#ed7953\"],[0.7777777777777778,\"#fb9f3a\"],[0.8888888888888888,\"#fdca26\"],[1.0,\"#f0f921\"]]}],\"contourcarpet\":[{\"type\":\"contourcarpet\",\"colorbar\":{\"outlinewidth\":0,\"ticks\":\"\"}}],\"contour\":[{\"type\":\"contour\",\"colorbar\":{\"outlinewidth\":0,\"ticks\":\"\"},\"colorscale\":[[0.0,\"#0d0887\"],[0.1111111111111111,\"#46039f\"],[0.2222222222222222,\"#7201a8\"],[0.3333333333333333,\"#9c179e\"],[0.4444444444444444,\"#bd3786\"],[0.5555555555555556,\"#d8576b\"],[0.6666666666666666,\"#ed7953\"],[0.7777777777777778,\"#fb9f3a\"],[0.8888888888888888,\"#fdca26\"],[1.0,\"#f0f921\"]]}],\"surface\":[{\"type\":\"surface\",\"colorbar\":{\"outlinewidth\":0,\"ticks\":\"\"},\"colorscale\":[[0.0,\"#0d0887\"],[0.1111111111111111,\"#46039f\"],[0.2222222222222222,\"#7201a8\"],[0.3333333333333333,\"#9c179e\"],[0.4444444444444444,\"#bd3786\"],[0.5555555555555556,\"#d8576b\"],[0.6666666666666666,\"#ed7953\"],[0.7777777777777778,\"#fb9f3a\"],[0.8888888888888888,\"#fdca26\"],[1.0,\"#f0f921\"]]}],\"mesh3d\":[{\"type\":\"mesh3d\",\"colorbar\":{\"outlinewidth\":0,\"ticks\":\"\"}}],\"scatter\":[{\"fillpattern\":{\"fillmode\":\"overlay\",\"size\":10,\"solidity\":0.2},\"type\":\"scatter\"}],\"parcoords\":[{\"type\":\"parcoords\",\"line\":{\"colorbar\":{\"outlinewidth\":0,\"ticks\":\"\"}}}],\"scatterpolargl\":[{\"type\":\"scatterpolargl\",\"marker\":{\"colorbar\":{\"outlinewidth\":0,\"ticks\":\"\"}}}],\"bar\":[{\"error_x\":{\"color\":\"#2a3f5f\"},\"error_y\":{\"color\":\"#2a3f5f\"},\"marker\":{\"line\":{\"color\":\"#E5ECF6\",\"width\":0.5},\"pattern\":{\"fillmode\":\"overlay\",\"size\":10,\"solidity\":0.2}},\"type\":\"bar\"}],\"scattergeo\":[{\"type\":\"scattergeo\",\"marker\":{\"colorbar\":{\"outlinewidth\":0,\"ticks\":\"\"}}}],\"scatterpolar\":[{\"type\":\"scatterpolar\",\"marker\":{\"colorbar\":{\"outlinewidth\":0,\"ticks\":\"\"}}}],\"histogram\":[{\"marker\":{\"pattern\":{\"fillmode\":\"overlay\",\"size\":10,\"solidity\":0.2}},\"type\":\"histogram\"}],\"scattergl\":[{\"type\":\"scattergl\",\"marker\":{\"colorbar\":{\"outlinewidth\":0,\"ticks\":\"\"}}}],\"scatter3d\":[{\"type\":\"scatter3d\",\"line\":{\"colorbar\":{\"outlinewidth\":0,\"ticks\":\"\"}},\"marker\":{\"colorbar\":{\"outlinewidth\":0,\"ticks\":\"\"}}}],\"scattermapbox\":[{\"type\":\"scattermapbox\",\"marker\":{\"colorbar\":{\"outlinewidth\":0,\"ticks\":\"\"}}}],\"scatterternary\":[{\"type\":\"scatterternary\",\"marker\":{\"colorbar\":{\"outlinewidth\":0,\"ticks\":\"\"}}}],\"scattercarpet\":[{\"type\":\"scattercarpet\",\"marker\":{\"colorbar\":{\"outlinewidth\":0,\"ticks\":\"\"}}}],\"carpet\":[{\"aaxis\":{\"endlinecolor\":\"#2a3f5f\",\"gridcolor\":\"white\",\"linecolor\":\"white\",\"minorgridcolor\":\"white\",\"startlinecolor\":\"#2a3f5f\"},\"baxis\":{\"endlinecolor\":\"#2a3f5f\",\"gridcolor\":\"white\",\"linecolor\":\"white\",\"minorgridcolor\":\"white\",\"startlinecolor\":\"#2a3f5f\"},\"type\":\"carpet\"}],\"table\":[{\"cells\":{\"fill\":{\"color\":\"#EBF0F8\"},\"line\":{\"color\":\"white\"}},\"header\":{\"fill\":{\"color\":\"#C8D4E3\"},\"line\":{\"color\":\"white\"}},\"type\":\"table\"}],\"barpolar\":[{\"marker\":{\"line\":{\"color\":\"#E5ECF6\",\"width\":0.5},\"pattern\":{\"fillmode\":\"overlay\",\"size\":10,\"solidity\":0.2}},\"type\":\"barpolar\"}],\"pie\":[{\"automargin\":true,\"type\":\"pie\"}]},\"layout\":{\"autotypenumbers\":\"strict\",\"colorway\":[\"#636efa\",\"#EF553B\",\"#00cc96\",\"#ab63fa\",\"#FFA15A\",\"#19d3f3\",\"#FF6692\",\"#B6E880\",\"#FF97FF\",\"#FECB52\"],\"font\":{\"color\":\"#2a3f5f\"},\"hovermode\":\"closest\",\"hoverlabel\":{\"align\":\"left\"},\"paper_bgcolor\":\"white\",\"plot_bgcolor\":\"#E5ECF6\",\"polar\":{\"bgcolor\":\"#E5ECF6\",\"angularaxis\":{\"gridcolor\":\"white\",\"linecolor\":\"white\",\"ticks\":\"\"},\"radialaxis\":{\"gridcolor\":\"white\",\"linecolor\":\"white\",\"ticks\":\"\"}},\"ternary\":{\"bgcolor\":\"#E5ECF6\",\"aaxis\":{\"gridcolor\":\"white\",\"linecolor\":\"white\",\"ticks\":\"\"},\"baxis\":{\"gridcolor\":\"white\",\"linecolor\":\"white\",\"ticks\":\"\"},\"caxis\":{\"gridcolor\":\"white\",\"linecolor\":\"white\",\"ticks\":\"\"}},\"coloraxis\":{\"colorbar\":{\"outlinewidth\":0,\"ticks\":\"\"}},\"colorscale\":{\"sequential\":[[0.0,\"#0d0887\"],[0.1111111111111111,\"#46039f\"],[0.2222222222222222,\"#7201a8\"],[0.3333333333333333,\"#9c179e\"],[0.4444444444444444,\"#bd3786\"],[0.5555555555555556,\"#d8576b\"],[0.6666666666666666,\"#ed7953\"],[0.7777777777777778,\"#fb9f3a\"],[0.8888888888888888,\"#fdca26\"],[1.0,\"#f0f921\"]],\"sequentialminus\":[[0.0,\"#0d0887\"],[0.1111111111111111,\"#46039f\"],[0.2222222222222222,\"#7201a8\"],[0.3333333333333333,\"#9c179e\"],[0.4444444444444444,\"#bd3786\"],[0.5555555555555556,\"#d8576b\"],[0.6666666666666666,\"#ed7953\"],[0.7777777777777778,\"#fb9f3a\"],[0.8888888888888888,\"#fdca26\"],[1.0,\"#f0f921\"]],\"diverging\":[[0,\"#8e0152\"],[0.1,\"#c51b7d\"],[0.2,\"#de77ae\"],[0.3,\"#f1b6da\"],[0.4,\"#fde0ef\"],[0.5,\"#f7f7f7\"],[0.6,\"#e6f5d0\"],[0.7,\"#b8e186\"],[0.8,\"#7fbc41\"],[0.9,\"#4d9221\"],[1,\"#276419\"]]},\"xaxis\":{\"gridcolor\":\"white\",\"linecolor\":\"white\",\"ticks\":\"\",\"title\":{\"standoff\":15},\"zerolinecolor\":\"white\",\"automargin\":true,\"zerolinewidth\":2},\"yaxis\":{\"gridcolor\":\"white\",\"linecolor\":\"white\",\"ticks\":\"\",\"title\":{\"standoff\":15},\"zerolinecolor\":\"white\",\"automargin\":true,\"zerolinewidth\":2},\"scene\":{\"xaxis\":{\"backgroundcolor\":\"#E5ECF6\",\"gridcolor\":\"white\",\"linecolor\":\"white\",\"showbackground\":true,\"ticks\":\"\",\"zerolinecolor\":\"white\",\"gridwidth\":2},\"yaxis\":{\"backgroundcolor\":\"#E5ECF6\",\"gridcolor\":\"white\",\"linecolor\":\"white\",\"showbackground\":true,\"ticks\":\"\",\"zerolinecolor\":\"white\",\"gridwidth\":2},\"zaxis\":{\"backgroundcolor\":\"#E5ECF6\",\"gridcolor\":\"white\",\"linecolor\":\"white\",\"showbackground\":true,\"ticks\":\"\",\"zerolinecolor\":\"white\",\"gridwidth\":2}},\"shapedefaults\":{\"line\":{\"color\":\"#2a3f5f\"}},\"annotationdefaults\":{\"arrowcolor\":\"#2a3f5f\",\"arrowhead\":0,\"arrowwidth\":1},\"geo\":{\"bgcolor\":\"white\",\"landcolor\":\"#E5ECF6\",\"subunitcolor\":\"white\",\"showland\":true,\"showlakes\":true,\"lakecolor\":\"white\"},\"title\":{\"x\":0.05},\"mapbox\":{\"style\":\"light\"}}},\"xaxis\":{\"anchor\":\"y\",\"domain\":[0.0,1.0],\"title\":{\"text\":\"Month\"}},\"yaxis\":{\"anchor\":\"x\",\"domain\":[0.0,1.0],\"title\":{\"text\":\"Sales\"}},\"legend\":{\"tracegroupgap\":0},\"title\":{\"text\":\"Monthly Sales\"},\"barmode\":\"relative\"},                        {\"responsive\": true}                    ).then(function(){\n",
       "                            \n",
       "var gd = document.getElementById('ee100904-e0fc-412f-9a8c-81c959c5b2c9');\n",
       "var x = new MutationObserver(function (mutations, observer) {{\n",
       "        var display = window.getComputedStyle(gd).display;\n",
       "        if (!display || display === 'none') {{\n",
       "            console.log([gd, 'removed!']);\n",
       "            Plotly.purge(gd);\n",
       "            observer.disconnect();\n",
       "        }}\n",
       "}});\n",
       "\n",
       "// Listen for the removal of the full notebook cells\n",
       "var notebookContainer = gd.closest('#notebook-container');\n",
       "if (notebookContainer) {{\n",
       "    x.observe(notebookContainer, {childList: true});\n",
       "}}\n",
       "\n",
       "// Listen for the clearing of the current output cell\n",
       "var outputEl = gd.closest('.output');\n",
       "if (outputEl) {{\n",
       "    x.observe(outputEl, {childList: true});\n",
       "}}\n",
       "\n",
       "                        })                };                });            </script>        </div>"
      ]
     },
     "metadata": {},
     "output_type": "display_data"
    }
   ],
   "source": [
    "# Create a bar graph\n",
    "fig = px.bar(\n",
    "    monthly_sales,\n",
    "    x='Month',\n",
    "    y='Sales Count',\n",
    "    title='Monthly Sales',\n",
    "    labels={'Month': 'Month', 'Sales Count': 'Sales'},\n",
    ")\n",
    "\n",
    "fig.show()"
   ]
  },
  {
   "cell_type": "markdown",
   "id": "87d42708",
   "metadata": {},
   "source": [
    "### 4.2 Which branch has the highest and lowest sales?"
   ]
  },
  {
   "cell_type": "code",
<<<<<<< HEAD
   "execution_count": 83,
=======
   "execution_count": 48,
>>>>>>> 3a02bc2bd8140609b12dc3ae5eee29ec06e4eb0a
   "id": "612fce9a",
   "metadata": {},
   "outputs": [
    {
     "data": {
      "image/png": "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\n",
      "text/plain": [
       "<Figure size 1600x500 with 1 Axes>"
      ]
     },
     "metadata": {},
     "output_type": "display_data"
    }
   ],
   "source": [
    "# Calculate total sales for each branch\n",
    "branch_sales = df.groupby('Branch')['Total'].sum()\n",
    "\n",
    "# Visualize branch performance with numbers on top of the bars\n",
    "plt.figure(figsize=(16, 5))\n",
    "ax = branch_sales.plot(kind='bar', color=['skyblue', 'lightcoral', 'lightgreen'])\n",
    "plt.title('Total Sales by Branch')\n",
    "plt.xlabel('Branch')\n",
    "plt.ylabel('Total Sales')\n",
    "plt.xticks(rotation=0)\n",
    "\n",
    "# Add numbers on top of the bars\n",
    "for p in ax.patches:\n",
    "    ax.annotate(f'{p.get_height()}', (p.get_x() + p.get_width() / 2., p.get_height()), ha='center', va='center', fontsize=12, color='black', xytext=(0, 5), textcoords='offset points')\n",
    "\n",
    "plt.show()"
   ]
  },
  {
   "cell_type": "markdown",
   "id": "b677da93",
   "metadata": {},
   "source": [
    "### 4.4 What is the distribution of product categories in terms of sales?"
   ]
  },
  {
   "cell_type": "code",
<<<<<<< HEAD
   "execution_count": 84,
=======
   "execution_count": 49,
>>>>>>> 3a02bc2bd8140609b12dc3ae5eee29ec06e4eb0a
   "id": "f8b23bd3",
   "metadata": {},
   "outputs": [
    {
     "data": {
      "image/png": "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\n",
      "text/plain": [
       "<Figure size 1600x500 with 1 Axes>"
      ]
     },
     "metadata": {},
     "output_type": "display_data"
    }
   ],
   "source": [
    "# Calculate total sales for each branch\n",
    "branch_sales = df.groupby('Product_line')['Total'].sum()\n",
    "\n",
    "# Visualize branch performance\n",
    "plt.figure(figsize=(16, 5))\n",
    "ax = branch_sales.plot(kind='bar')\n",
    "plt.title('Total Sales by Product_line')\n",
    "plt.xlabel('Product_line')\n",
    "plt.ylabel('Total Sales')\n",
    "plt.xticks(rotation=0)\n",
    "\n",
    "# Add numbers on top of the bars\n",
    "for p in ax.patches:\n",
    "    ax.annotate(f'{p.get_height()}', (p.get_x() + p.get_width() / 2., p.get_height()), ha='center', va='center', fontsize=12, color='black', xytext=(0, 5), textcoords='offset points')\n",
    "\n",
    "plt.show()"
   ]
  },
  {
   "cell_type": "markdown",
   "id": "c7e72170",
   "metadata": {},
   "source": [
    "### 4.5 Is there a significant difference in sales between members and non-members?"
   ]
  },
  {
   "cell_type": "code",
<<<<<<< HEAD
   "execution_count": 85,
=======
   "execution_count": 50,
>>>>>>> 3a02bc2bd8140609b12dc3ae5eee29ec06e4eb0a
   "id": "f848b7ea",
   "metadata": {},
   "outputs": [
    {
     "data": {
      "image/png": "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\n",
      "text/plain": [
       "<Figure size 1600x500 with 1 Axes>"
      ]
     },
     "metadata": {},
     "output_type": "display_data"
    }
   ],
   "source": [
    "# Calculate total sales for each branch\n",
    "branch_sales = df.groupby('Customer_type')['Total'].sum()\n",
    "\n",
    "# Visualize branch performance\n",
    "plt.figure(figsize=(16, 5))\n",
    "ax = branch_sales.plot(kind='bar')\n",
    "plt.title('Total Sales by Product_line')\n",
    "plt.xlabel('Customer_type')\n",
    "plt.ylabel('Total Sales')\n",
    "plt.xticks(rotation=0)\n",
    "\n",
    "# Add numbers on top of the bars\n",
    "for p in ax.patches:\n",
    "    ax.annotate(f'{p.get_height()}', (p.get_x() + p.get_width() / 2., p.get_height()), ha='center', va='center', fontsize=12, color='black', xytext=(0, 5), textcoords='offset points')\n",
    "\n",
    "plt.show()"
   ]
  },
  {
   "cell_type": "markdown",
   "id": "a085bb5b",
   "metadata": {},
   "source": [
    "### 4.6 How does gender impact purchasing behavior?"
   ]
  },
  {
   "cell_type": "code",
<<<<<<< HEAD
   "execution_count": 86,
=======
   "execution_count": 51,
>>>>>>> 3a02bc2bd8140609b12dc3ae5eee29ec06e4eb0a
   "id": "80bf085c",
   "metadata": {},
   "outputs": [
    {
     "data": {
      "image/png": "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\n",
      "text/plain": [
       "<Figure size 1600x500 with 1 Axes>"
      ]
     },
     "metadata": {},
     "output_type": "display_data"
    }
   ],
   "source": [
    "# Calculate total sales for each branch\n",
    "branch_sales = df.groupby('Gender')['Total'].sum()\n",
    "\n",
    "# Visualize branch performance\n",
    "plt.figure(figsize=(16, 5))\n",
    "ax = branch_sales.plot(kind='bar')\n",
    "plt.title('Total Sales by Product_line')\n",
    "plt.xlabel('Gender')\n",
    "plt.ylabel('Total Sales')\n",
    "plt.xticks(rotation=0)\n",
    "\n",
    "# Add numbers on top of the bars\n",
    "for p in ax.patches:\n",
    "    ax.annotate(f'{p.get_height()}', (p.get_x() + p.get_width() / 2., p.get_height()), ha='center', va='center', fontsize=12, color='black', xytext=(0, 5), textcoords='offset points')\n",
    "\n",
    "plt.show()"
   ]
  },
  {
   "cell_type": "markdown",
   "id": "cc799c76",
   "metadata": {},
   "source": [
    "### 4.7 Explore the relationship between customer ratings and sales"
   ]
  },
  {
   "cell_type": "code",
<<<<<<< HEAD
   "execution_count": 87,
=======
   "execution_count": 52,
>>>>>>> 3a02bc2bd8140609b12dc3ae5eee29ec06e4eb0a
   "id": "1777dee7",
   "metadata": {},
   "outputs": [
    {
     "name": "stderr",
     "output_type": "stream",
     "text": [
<<<<<<< HEAD
      "C:\\Users\\kgots\\AppData\\Local\\Temp\\ipykernel_3008\\103229728.py:2: UserWarning:\n",
      "\n",
      "\n",
      "\n",
      "`distplot` is a deprecated function and will be removed in seaborn v0.14.0.\n",
      "\n",
      "Please adapt your code to use either `displot` (a figure-level function with\n",
      "similar flexibility) or `histplot` (an axes-level function for histograms).\n",
      "\n",
      "For a guide to updating your code to use the new functions, please see\n",
      "https://gist.github.com/mwaskom/de44147ed2974457ad6372750bbe5751\n",
=======
      "C:\\Users\\annah\\anaconda3\\lib\\site-packages\\seaborn\\distributions.py:2619: FutureWarning:\n",
>>>>>>> 3a02bc2bd8140609b12dc3ae5eee29ec06e4eb0a
      "\n",
      "`distplot` is a deprecated function and will be removed in a future version. Please adapt your code to use either `displot` (a figure-level function with similar flexibility) or `histplot` (an axes-level function for histograms).\n",
      "\n"
     ]
    },
    {
     "data": {
      "text/plain": [
<<<<<<< HEAD
       "<matplotlib.lines.Line2D at 0x2029ebbb0d0>"
      ]
     },
     "execution_count": 87,
=======
       "<matplotlib.lines.Line2D at 0x112756ece20>"
      ]
     },
     "execution_count": 52,
>>>>>>> 3a02bc2bd8140609b12dc3ae5eee29ec06e4eb0a
     "metadata": {},
     "output_type": "execute_result"
    },
    {
     "data": {
      "image/png": "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\n",
      "text/plain": [
       "<Figure size 640x480 with 1 Axes>"
      ]
     },
     "metadata": {},
     "output_type": "display_data"
    }
   ],
   "source": [
    "# Show the distribution of ratings\n",
    "sns.distplot(df['Rating'])\n",
    "plt.axvline(x=np.mean(df['Rating']), c = 'red', ls ='--')"
   ]
  },
  {
   "cell_type": "markdown",
   "id": "d60df27b",
   "metadata": {},
   "source": [
    "The distribution of ratings is uniform and the average rating is at around 7"
   ]
  },
  {
   "cell_type": "code",
<<<<<<< HEAD
   "execution_count": 88,
   "id": "332e5b3b",
   "metadata": {},
   "outputs": [],
=======
   "execution_count": 53,
   "id": "332e5b3b",
   "metadata": {},
   "outputs": [
    {
     "data": {
      "text/html": [
       "<div>\n",
       "<style scoped>\n",
       "    .dataframe tbody tr th:only-of-type {\n",
       "        vertical-align: middle;\n",
       "    }\n",
       "\n",
       "    .dataframe tbody tr th {\n",
       "        vertical-align: top;\n",
       "    }\n",
       "\n",
       "    .dataframe thead th {\n",
       "        text-align: right;\n",
       "    }\n",
       "</style>\n",
       "<table border=\"1\" class=\"dataframe\">\n",
       "  <thead>\n",
       "    <tr style=\"text-align: right;\">\n",
       "      <th></th>\n",
       "      <th>Product_line</th>\n",
       "      <th>Rating</th>\n",
       "      <th>Total Spend</th>\n",
       "    </tr>\n",
       "  </thead>\n",
       "  <tbody>\n",
       "    <tr>\n",
       "      <th>0</th>\n",
       "      <td>Electronic accessories</td>\n",
       "      <td>9.6</td>\n",
       "      <td>51750.03</td>\n",
       "    </tr>\n",
       "    <tr>\n",
       "      <th>1</th>\n",
       "      <td>Fashion accessories</td>\n",
       "      <td>4.5</td>\n",
       "      <td>51719.90</td>\n",
       "    </tr>\n",
       "    <tr>\n",
       "      <th>2</th>\n",
       "      <td>Food and beverages</td>\n",
       "      <td>5.9</td>\n",
       "      <td>53471.28</td>\n",
       "    </tr>\n",
       "    <tr>\n",
       "      <th>3</th>\n",
       "      <td>Health and beauty</td>\n",
       "      <td>9.1</td>\n",
       "      <td>46851.18</td>\n",
       "    </tr>\n",
       "    <tr>\n",
       "      <th>4</th>\n",
       "      <td>Home and lifestyle</td>\n",
       "      <td>7.4</td>\n",
       "      <td>51297.06</td>\n",
       "    </tr>\n",
       "    <tr>\n",
       "      <th>5</th>\n",
       "      <td>Sports and travel</td>\n",
       "      <td>5.3</td>\n",
       "      <td>52497.93</td>\n",
       "    </tr>\n",
       "  </tbody>\n",
       "</table>\n",
       "</div>"
      ],
      "text/plain": [
       "             Product_line  Rating  Total Spend\n",
       "0  Electronic accessories     9.6     51750.03\n",
       "1     Fashion accessories     4.5     51719.90\n",
       "2      Food and beverages     5.9     53471.28\n",
       "3       Health and beauty     9.1     46851.18\n",
       "4      Home and lifestyle     7.4     51297.06\n",
       "5       Sports and travel     5.3     52497.93"
      ]
     },
     "execution_count": 53,
     "metadata": {},
     "output_type": "execute_result"
    }
   ],
>>>>>>> 3a02bc2bd8140609b12dc3ae5eee29ec06e4eb0a
   "source": [
    "# Check if ratings are related to sales\n",
    "df['Total Spend'] = df['Quantity'] * df['Unit_price']\n",
    "\n",
    "ratings_df = df[['Product_line', 'Rating', 'Total Spend']]\n",
    "ratings_df = ratings_df.groupby('Product_line').agg({'Rating': 'first', 'Total Spend': 'sum'}).reset_index()"
   ]
  },
  {
   "cell_type": "code",
<<<<<<< HEAD
   "execution_count": 89,
=======
   "execution_count": 54,
>>>>>>> 3a02bc2bd8140609b12dc3ae5eee29ec06e4eb0a
   "id": "d8139aca",
   "metadata": {},
   "outputs": [
    {
     "data": {
      "application/vnd.plotly.v1+json": {
       "config": {
        "plotlyServerURL": "https://plot.ly"
       },
       "data": [
        {
         "hovertemplate": "Product_line=Electronic accessories<br>Rating=%{x}<br>Total Spend=%{y}<extra></extra>",
         "legendgroup": "Electronic accessories",
         "marker": {
          "color": "#636efa",
          "symbol": "circle"
         },
         "mode": "markers",
         "name": "Electronic accessories",
         "orientation": "v",
         "showlegend": true,
         "type": "scatter",
         "x": [
          9.6
         ],
         "xaxis": "x",
         "y": [
          51750.03
         ],
         "yaxis": "y"
        },
        {
         "hovertemplate": "Product_line=Fashion accessories<br>Rating=%{x}<br>Total Spend=%{y}<extra></extra>",
         "legendgroup": "Fashion accessories",
         "marker": {
          "color": "#EF553B",
          "symbol": "circle"
         },
         "mode": "markers",
         "name": "Fashion accessories",
         "orientation": "v",
         "showlegend": true,
         "type": "scatter",
         "x": [
          4.5
         ],
         "xaxis": "x",
         "y": [
          51719.9
         ],
         "yaxis": "y"
        },
        {
         "hovertemplate": "Product_line=Food and beverages<br>Rating=%{x}<br>Total Spend=%{y}<extra></extra>",
         "legendgroup": "Food and beverages",
         "marker": {
          "color": "#00cc96",
          "symbol": "circle"
         },
         "mode": "markers",
         "name": "Food and beverages",
         "orientation": "v",
         "showlegend": true,
         "type": "scatter",
         "x": [
          5.9
         ],
         "xaxis": "x",
         "y": [
          53471.28
         ],
         "yaxis": "y"
        },
        {
         "hovertemplate": "Product_line=Health and beauty<br>Rating=%{x}<br>Total Spend=%{y}<extra></extra>",
         "legendgroup": "Health and beauty",
         "marker": {
          "color": "#ab63fa",
          "symbol": "circle"
         },
         "mode": "markers",
         "name": "Health and beauty",
         "orientation": "v",
         "showlegend": true,
         "type": "scatter",
         "x": [
          9.1
         ],
         "xaxis": "x",
         "y": [
          46851.18
         ],
         "yaxis": "y"
        },
        {
         "hovertemplate": "Product_line=Home and lifestyle<br>Rating=%{x}<br>Total Spend=%{y}<extra></extra>",
         "legendgroup": "Home and lifestyle",
         "marker": {
          "color": "#FFA15A",
          "symbol": "circle"
         },
         "mode": "markers",
         "name": "Home and lifestyle",
         "orientation": "v",
         "showlegend": true,
         "type": "scatter",
         "x": [
          7.4
         ],
         "xaxis": "x",
         "y": [
          51297.06
         ],
         "yaxis": "y"
        },
        {
         "hovertemplate": "Product_line=Sports and travel<br>Rating=%{x}<br>Total Spend=%{y}<extra></extra>",
         "legendgroup": "Sports and travel",
         "marker": {
          "color": "#19d3f3",
          "symbol": "circle"
         },
         "mode": "markers",
         "name": "Sports and travel",
         "orientation": "v",
         "showlegend": true,
         "type": "scatter",
         "x": [
          5.3
         ],
         "xaxis": "x",
         "y": [
          52497.93
         ],
         "yaxis": "y"
        }
       ],
       "layout": {
        "legend": {
         "title": {
          "text": "Product_line"
         },
         "tracegroupgap": 0
        },
        "template": {
         "data": {
          "bar": [
           {
            "error_x": {
             "color": "#2a3f5f"
            },
            "error_y": {
             "color": "#2a3f5f"
            },
            "marker": {
             "line": {
              "color": "#E5ECF6",
              "width": 0.5
             },
             "pattern": {
              "fillmode": "overlay",
              "size": 10,
              "solidity": 0.2
             }
            },
            "type": "bar"
           }
          ],
          "barpolar": [
           {
            "marker": {
             "line": {
              "color": "#E5ECF6",
              "width": 0.5
             },
             "pattern": {
              "fillmode": "overlay",
              "size": 10,
              "solidity": 0.2
             }
            },
            "type": "barpolar"
           }
          ],
          "carpet": [
           {
            "aaxis": {
             "endlinecolor": "#2a3f5f",
             "gridcolor": "white",
             "linecolor": "white",
             "minorgridcolor": "white",
             "startlinecolor": "#2a3f5f"
            },
            "baxis": {
             "endlinecolor": "#2a3f5f",
             "gridcolor": "white",
             "linecolor": "white",
             "minorgridcolor": "white",
             "startlinecolor": "#2a3f5f"
            },
            "type": "carpet"
           }
          ],
          "choropleth": [
           {
            "colorbar": {
             "outlinewidth": 0,
             "ticks": ""
            },
            "type": "choropleth"
           }
          ],
          "contour": [
           {
            "colorbar": {
             "outlinewidth": 0,
             "ticks": ""
            },
            "colorscale": [
             [
              0,
              "#0d0887"
             ],
             [
              0.1111111111111111,
              "#46039f"
             ],
             [
              0.2222222222222222,
              "#7201a8"
             ],
             [
              0.3333333333333333,
              "#9c179e"
             ],
             [
              0.4444444444444444,
              "#bd3786"
             ],
             [
              0.5555555555555556,
              "#d8576b"
             ],
             [
              0.6666666666666666,
              "#ed7953"
             ],
             [
              0.7777777777777778,
              "#fb9f3a"
             ],
             [
              0.8888888888888888,
              "#fdca26"
             ],
             [
              1,
              "#f0f921"
             ]
            ],
            "type": "contour"
           }
          ],
          "contourcarpet": [
           {
            "colorbar": {
             "outlinewidth": 0,
             "ticks": ""
            },
            "type": "contourcarpet"
           }
          ],
          "heatmap": [
           {
            "colorbar": {
             "outlinewidth": 0,
             "ticks": ""
            },
            "colorscale": [
             [
              0,
              "#0d0887"
             ],
             [
              0.1111111111111111,
              "#46039f"
             ],
             [
              0.2222222222222222,
              "#7201a8"
             ],
             [
              0.3333333333333333,
              "#9c179e"
             ],
             [
              0.4444444444444444,
              "#bd3786"
             ],
             [
              0.5555555555555556,
              "#d8576b"
             ],
             [
              0.6666666666666666,
              "#ed7953"
             ],
             [
              0.7777777777777778,
              "#fb9f3a"
             ],
             [
              0.8888888888888888,
              "#fdca26"
             ],
             [
              1,
              "#f0f921"
             ]
            ],
            "type": "heatmap"
           }
          ],
          "heatmapgl": [
           {
            "colorbar": {
             "outlinewidth": 0,
             "ticks": ""
            },
            "colorscale": [
             [
              0,
              "#0d0887"
             ],
             [
              0.1111111111111111,
              "#46039f"
             ],
             [
              0.2222222222222222,
              "#7201a8"
             ],
             [
              0.3333333333333333,
              "#9c179e"
             ],
             [
              0.4444444444444444,
              "#bd3786"
             ],
             [
              0.5555555555555556,
              "#d8576b"
             ],
             [
              0.6666666666666666,
              "#ed7953"
             ],
             [
              0.7777777777777778,
              "#fb9f3a"
             ],
             [
              0.8888888888888888,
              "#fdca26"
             ],
             [
              1,
              "#f0f921"
             ]
            ],
            "type": "heatmapgl"
           }
          ],
          "histogram": [
           {
            "marker": {
             "pattern": {
              "fillmode": "overlay",
              "size": 10,
              "solidity": 0.2
             }
            },
            "type": "histogram"
           }
          ],
          "histogram2d": [
           {
            "colorbar": {
             "outlinewidth": 0,
             "ticks": ""
            },
            "colorscale": [
             [
              0,
              "#0d0887"
             ],
             [
              0.1111111111111111,
              "#46039f"
             ],
             [
              0.2222222222222222,
              "#7201a8"
             ],
             [
              0.3333333333333333,
              "#9c179e"
             ],
             [
              0.4444444444444444,
              "#bd3786"
             ],
             [
              0.5555555555555556,
              "#d8576b"
             ],
             [
              0.6666666666666666,
              "#ed7953"
             ],
             [
              0.7777777777777778,
              "#fb9f3a"
             ],
             [
              0.8888888888888888,
              "#fdca26"
             ],
             [
              1,
              "#f0f921"
             ]
            ],
            "type": "histogram2d"
           }
          ],
          "histogram2dcontour": [
           {
            "colorbar": {
             "outlinewidth": 0,
             "ticks": ""
            },
            "colorscale": [
             [
              0,
              "#0d0887"
             ],
             [
              0.1111111111111111,
              "#46039f"
             ],
             [
              0.2222222222222222,
              "#7201a8"
             ],
             [
              0.3333333333333333,
              "#9c179e"
             ],
             [
              0.4444444444444444,
              "#bd3786"
             ],
             [
              0.5555555555555556,
              "#d8576b"
             ],
             [
              0.6666666666666666,
              "#ed7953"
             ],
             [
              0.7777777777777778,
              "#fb9f3a"
             ],
             [
              0.8888888888888888,
              "#fdca26"
             ],
             [
              1,
              "#f0f921"
             ]
            ],
            "type": "histogram2dcontour"
           }
          ],
          "mesh3d": [
           {
            "colorbar": {
             "outlinewidth": 0,
             "ticks": ""
            },
            "type": "mesh3d"
           }
          ],
          "parcoords": [
           {
            "line": {
             "colorbar": {
              "outlinewidth": 0,
              "ticks": ""
             }
            },
            "type": "parcoords"
           }
          ],
          "pie": [
           {
            "automargin": true,
            "type": "pie"
           }
          ],
          "scatter": [
           {
            "fillpattern": {
             "fillmode": "overlay",
             "size": 10,
             "solidity": 0.2
            },
            "type": "scatter"
           }
          ],
          "scatter3d": [
           {
            "line": {
             "colorbar": {
              "outlinewidth": 0,
              "ticks": ""
             }
            },
            "marker": {
             "colorbar": {
              "outlinewidth": 0,
              "ticks": ""
             }
            },
            "type": "scatter3d"
           }
          ],
          "scattercarpet": [
           {
            "marker": {
             "colorbar": {
              "outlinewidth": 0,
              "ticks": ""
             }
            },
            "type": "scattercarpet"
           }
          ],
          "scattergeo": [
           {
            "marker": {
             "colorbar": {
              "outlinewidth": 0,
              "ticks": ""
             }
            },
            "type": "scattergeo"
           }
          ],
          "scattergl": [
           {
            "marker": {
             "colorbar": {
              "outlinewidth": 0,
              "ticks": ""
             }
            },
            "type": "scattergl"
           }
          ],
          "scattermapbox": [
           {
            "marker": {
             "colorbar": {
              "outlinewidth": 0,
              "ticks": ""
             }
            },
            "type": "scattermapbox"
           }
          ],
          "scatterpolar": [
           {
            "marker": {
             "colorbar": {
              "outlinewidth": 0,
              "ticks": ""
             }
            },
            "type": "scatterpolar"
           }
          ],
          "scatterpolargl": [
           {
            "marker": {
             "colorbar": {
              "outlinewidth": 0,
              "ticks": ""
             }
            },
            "type": "scatterpolargl"
           }
          ],
          "scatterternary": [
           {
            "marker": {
             "colorbar": {
              "outlinewidth": 0,
              "ticks": ""
             }
            },
            "type": "scatterternary"
           }
          ],
          "surface": [
           {
            "colorbar": {
             "outlinewidth": 0,
             "ticks": ""
            },
            "colorscale": [
             [
              0,
              "#0d0887"
             ],
             [
              0.1111111111111111,
              "#46039f"
             ],
             [
              0.2222222222222222,
              "#7201a8"
             ],
             [
              0.3333333333333333,
              "#9c179e"
             ],
             [
              0.4444444444444444,
              "#bd3786"
             ],
             [
              0.5555555555555556,
              "#d8576b"
             ],
             [
              0.6666666666666666,
              "#ed7953"
             ],
             [
              0.7777777777777778,
              "#fb9f3a"
             ],
             [
              0.8888888888888888,
              "#fdca26"
             ],
             [
              1,
              "#f0f921"
             ]
            ],
            "type": "surface"
           }
          ],
          "table": [
           {
            "cells": {
             "fill": {
              "color": "#EBF0F8"
             },
             "line": {
              "color": "white"
             }
            },
            "header": {
             "fill": {
              "color": "#C8D4E3"
             },
             "line": {
              "color": "white"
             }
            },
            "type": "table"
           }
          ]
         },
         "layout": {
          "annotationdefaults": {
           "arrowcolor": "#2a3f5f",
           "arrowhead": 0,
           "arrowwidth": 1
          },
          "autotypenumbers": "strict",
          "coloraxis": {
           "colorbar": {
            "outlinewidth": 0,
            "ticks": ""
           }
          },
          "colorscale": {
           "diverging": [
            [
             0,
             "#8e0152"
            ],
            [
             0.1,
             "#c51b7d"
            ],
            [
             0.2,
             "#de77ae"
            ],
            [
             0.3,
             "#f1b6da"
            ],
            [
             0.4,
             "#fde0ef"
            ],
            [
             0.5,
             "#f7f7f7"
            ],
            [
             0.6,
             "#e6f5d0"
            ],
            [
             0.7,
             "#b8e186"
            ],
            [
             0.8,
             "#7fbc41"
            ],
            [
             0.9,
             "#4d9221"
            ],
            [
             1,
             "#276419"
            ]
           ],
           "sequential": [
            [
             0,
             "#0d0887"
            ],
            [
             0.1111111111111111,
             "#46039f"
            ],
            [
             0.2222222222222222,
             "#7201a8"
            ],
            [
             0.3333333333333333,
             "#9c179e"
            ],
            [
             0.4444444444444444,
             "#bd3786"
            ],
            [
             0.5555555555555556,
             "#d8576b"
            ],
            [
             0.6666666666666666,
             "#ed7953"
            ],
            [
             0.7777777777777778,
             "#fb9f3a"
            ],
            [
             0.8888888888888888,
             "#fdca26"
            ],
            [
             1,
             "#f0f921"
            ]
           ],
           "sequentialminus": [
            [
             0,
             "#0d0887"
            ],
            [
             0.1111111111111111,
             "#46039f"
            ],
            [
             0.2222222222222222,
             "#7201a8"
            ],
            [
             0.3333333333333333,
             "#9c179e"
            ],
            [
             0.4444444444444444,
             "#bd3786"
            ],
            [
             0.5555555555555556,
             "#d8576b"
            ],
            [
             0.6666666666666666,
             "#ed7953"
            ],
            [
             0.7777777777777778,
             "#fb9f3a"
            ],
            [
             0.8888888888888888,
             "#fdca26"
            ],
            [
             1,
             "#f0f921"
            ]
           ]
          },
          "colorway": [
           "#636efa",
           "#EF553B",
           "#00cc96",
           "#ab63fa",
           "#FFA15A",
           "#19d3f3",
           "#FF6692",
           "#B6E880",
           "#FF97FF",
           "#FECB52"
          ],
          "font": {
           "color": "#2a3f5f"
          },
          "geo": {
           "bgcolor": "white",
           "lakecolor": "white",
           "landcolor": "#E5ECF6",
           "showlakes": true,
           "showland": true,
           "subunitcolor": "white"
          },
          "hoverlabel": {
           "align": "left"
          },
          "hovermode": "closest",
          "mapbox": {
           "style": "light"
          },
          "paper_bgcolor": "white",
          "plot_bgcolor": "#E5ECF6",
          "polar": {
           "angularaxis": {
            "gridcolor": "white",
            "linecolor": "white",
            "ticks": ""
           },
           "bgcolor": "#E5ECF6",
           "radialaxis": {
            "gridcolor": "white",
            "linecolor": "white",
            "ticks": ""
           }
          },
          "scene": {
           "xaxis": {
            "backgroundcolor": "#E5ECF6",
            "gridcolor": "white",
            "gridwidth": 2,
            "linecolor": "white",
            "showbackground": true,
            "ticks": "",
            "zerolinecolor": "white"
           },
           "yaxis": {
            "backgroundcolor": "#E5ECF6",
            "gridcolor": "white",
            "gridwidth": 2,
            "linecolor": "white",
            "showbackground": true,
            "ticks": "",
            "zerolinecolor": "white"
           },
           "zaxis": {
            "backgroundcolor": "#E5ECF6",
            "gridcolor": "white",
            "gridwidth": 2,
            "linecolor": "white",
            "showbackground": true,
            "ticks": "",
            "zerolinecolor": "white"
           }
          },
          "shapedefaults": {
           "line": {
            "color": "#2a3f5f"
           }
          },
          "ternary": {
           "aaxis": {
            "gridcolor": "white",
            "linecolor": "white",
            "ticks": ""
           },
           "baxis": {
            "gridcolor": "white",
            "linecolor": "white",
            "ticks": ""
           },
           "bgcolor": "#E5ECF6",
           "caxis": {
            "gridcolor": "white",
            "linecolor": "white",
            "ticks": ""
           }
          },
          "title": {
           "x": 0.05
          },
          "xaxis": {
           "automargin": true,
           "gridcolor": "white",
           "linecolor": "white",
           "ticks": "",
           "title": {
            "standoff": 15
           },
           "zerolinecolor": "white",
           "zerolinewidth": 2
          },
          "yaxis": {
           "automargin": true,
           "gridcolor": "white",
           "linecolor": "white",
           "ticks": "",
           "title": {
            "standoff": 15
           },
           "zerolinecolor": "white",
           "zerolinewidth": 2
          }
         }
        },
        "title": {
         "text": "Rating vs Total Spend by Product Line"
        },
        "xaxis": {
         "anchor": "y",
         "domain": [
          0,
          1
         ],
         "gridcolor": "lightgray",
         "gridwidth": 0.5,
         "showgrid": true,
         "title": {
          "text": "Rating"
         }
        },
        "yaxis": {
         "anchor": "x",
         "domain": [
          0,
          1
         ],
         "gridcolor": "lightgray",
         "gridwidth": 0.5,
         "showgrid": true,
         "title": {
          "text": "Total Spend"
         }
        }
       }
      },
      "text/html": [
       "<div>                            <div id=\"3ffd30a7-9227-4e87-8a92-0aebdb8b7bcb\" class=\"plotly-graph-div\" style=\"height:525px; width:100%;\"></div>            <script type=\"text/javascript\">                require([\"plotly\"], function(Plotly) {                    window.PLOTLYENV=window.PLOTLYENV || {};                                    if (document.getElementById(\"3ffd30a7-9227-4e87-8a92-0aebdb8b7bcb\")) {                    Plotly.newPlot(                        \"3ffd30a7-9227-4e87-8a92-0aebdb8b7bcb\",                        [{\"hovertemplate\":\"Product_line=Electronic accessories<br>Rating=%{x}<br>Total Spend=%{y}<extra></extra>\",\"legendgroup\":\"Electronic accessories\",\"marker\":{\"color\":\"#636efa\",\"symbol\":\"circle\"},\"mode\":\"markers\",\"name\":\"Electronic accessories\",\"orientation\":\"v\",\"showlegend\":true,\"x\":[9.6],\"xaxis\":\"x\",\"y\":[51750.03],\"yaxis\":\"y\",\"type\":\"scatter\"},{\"hovertemplate\":\"Product_line=Fashion accessories<br>Rating=%{x}<br>Total Spend=%{y}<extra></extra>\",\"legendgroup\":\"Fashion accessories\",\"marker\":{\"color\":\"#EF553B\",\"symbol\":\"circle\"},\"mode\":\"markers\",\"name\":\"Fashion accessories\",\"orientation\":\"v\",\"showlegend\":true,\"x\":[4.5],\"xaxis\":\"x\",\"y\":[51719.9],\"yaxis\":\"y\",\"type\":\"scatter\"},{\"hovertemplate\":\"Product_line=Food and beverages<br>Rating=%{x}<br>Total Spend=%{y}<extra></extra>\",\"legendgroup\":\"Food and beverages\",\"marker\":{\"color\":\"#00cc96\",\"symbol\":\"circle\"},\"mode\":\"markers\",\"name\":\"Food and beverages\",\"orientation\":\"v\",\"showlegend\":true,\"x\":[5.9],\"xaxis\":\"x\",\"y\":[53471.28],\"yaxis\":\"y\",\"type\":\"scatter\"},{\"hovertemplate\":\"Product_line=Health and beauty<br>Rating=%{x}<br>Total Spend=%{y}<extra></extra>\",\"legendgroup\":\"Health and beauty\",\"marker\":{\"color\":\"#ab63fa\",\"symbol\":\"circle\"},\"mode\":\"markers\",\"name\":\"Health and beauty\",\"orientation\":\"v\",\"showlegend\":true,\"x\":[9.1],\"xaxis\":\"x\",\"y\":[46851.18],\"yaxis\":\"y\",\"type\":\"scatter\"},{\"hovertemplate\":\"Product_line=Home and lifestyle<br>Rating=%{x}<br>Total Spend=%{y}<extra></extra>\",\"legendgroup\":\"Home and lifestyle\",\"marker\":{\"color\":\"#FFA15A\",\"symbol\":\"circle\"},\"mode\":\"markers\",\"name\":\"Home and lifestyle\",\"orientation\":\"v\",\"showlegend\":true,\"x\":[7.4],\"xaxis\":\"x\",\"y\":[51297.06],\"yaxis\":\"y\",\"type\":\"scatter\"},{\"hovertemplate\":\"Product_line=Sports and travel<br>Rating=%{x}<br>Total Spend=%{y}<extra></extra>\",\"legendgroup\":\"Sports and travel\",\"marker\":{\"color\":\"#19d3f3\",\"symbol\":\"circle\"},\"mode\":\"markers\",\"name\":\"Sports and travel\",\"orientation\":\"v\",\"showlegend\":true,\"x\":[5.3],\"xaxis\":\"x\",\"y\":[52497.93],\"yaxis\":\"y\",\"type\":\"scatter\"}],                        {\"template\":{\"data\":{\"histogram2dcontour\":[{\"type\":\"histogram2dcontour\",\"colorbar\":{\"outlinewidth\":0,\"ticks\":\"\"},\"colorscale\":[[0.0,\"#0d0887\"],[0.1111111111111111,\"#46039f\"],[0.2222222222222222,\"#7201a8\"],[0.3333333333333333,\"#9c179e\"],[0.4444444444444444,\"#bd3786\"],[0.5555555555555556,\"#d8576b\"],[0.6666666666666666,\"#ed7953\"],[0.7777777777777778,\"#fb9f3a\"],[0.8888888888888888,\"#fdca26\"],[1.0,\"#f0f921\"]]}],\"choropleth\":[{\"type\":\"choropleth\",\"colorbar\":{\"outlinewidth\":0,\"ticks\":\"\"}}],\"histogram2d\":[{\"type\":\"histogram2d\",\"colorbar\":{\"outlinewidth\":0,\"ticks\":\"\"},\"colorscale\":[[0.0,\"#0d0887\"],[0.1111111111111111,\"#46039f\"],[0.2222222222222222,\"#7201a8\"],[0.3333333333333333,\"#9c179e\"],[0.4444444444444444,\"#bd3786\"],[0.5555555555555556,\"#d8576b\"],[0.6666666666666666,\"#ed7953\"],[0.7777777777777778,\"#fb9f3a\"],[0.8888888888888888,\"#fdca26\"],[1.0,\"#f0f921\"]]}],\"heatmap\":[{\"type\":\"heatmap\",\"colorbar\":{\"outlinewidth\":0,\"ticks\":\"\"},\"colorscale\":[[0.0,\"#0d0887\"],[0.1111111111111111,\"#46039f\"],[0.2222222222222222,\"#7201a8\"],[0.3333333333333333,\"#9c179e\"],[0.4444444444444444,\"#bd3786\"],[0.5555555555555556,\"#d8576b\"],[0.6666666666666666,\"#ed7953\"],[0.7777777777777778,\"#fb9f3a\"],[0.8888888888888888,\"#fdca26\"],[1.0,\"#f0f921\"]]}],\"heatmapgl\":[{\"type\":\"heatmapgl\",\"colorbar\":{\"outlinewidth\":0,\"ticks\":\"\"},\"colorscale\":[[0.0,\"#0d0887\"],[0.1111111111111111,\"#46039f\"],[0.2222222222222222,\"#7201a8\"],[0.3333333333333333,\"#9c179e\"],[0.4444444444444444,\"#bd3786\"],[0.5555555555555556,\"#d8576b\"],[0.6666666666666666,\"#ed7953\"],[0.7777777777777778,\"#fb9f3a\"],[0.8888888888888888,\"#fdca26\"],[1.0,\"#f0f921\"]]}],\"contourcarpet\":[{\"type\":\"contourcarpet\",\"colorbar\":{\"outlinewidth\":0,\"ticks\":\"\"}}],\"contour\":[{\"type\":\"contour\",\"colorbar\":{\"outlinewidth\":0,\"ticks\":\"\"},\"colorscale\":[[0.0,\"#0d0887\"],[0.1111111111111111,\"#46039f\"],[0.2222222222222222,\"#7201a8\"],[0.3333333333333333,\"#9c179e\"],[0.4444444444444444,\"#bd3786\"],[0.5555555555555556,\"#d8576b\"],[0.6666666666666666,\"#ed7953\"],[0.7777777777777778,\"#fb9f3a\"],[0.8888888888888888,\"#fdca26\"],[1.0,\"#f0f921\"]]}],\"surface\":[{\"type\":\"surface\",\"colorbar\":{\"outlinewidth\":0,\"ticks\":\"\"},\"colorscale\":[[0.0,\"#0d0887\"],[0.1111111111111111,\"#46039f\"],[0.2222222222222222,\"#7201a8\"],[0.3333333333333333,\"#9c179e\"],[0.4444444444444444,\"#bd3786\"],[0.5555555555555556,\"#d8576b\"],[0.6666666666666666,\"#ed7953\"],[0.7777777777777778,\"#fb9f3a\"],[0.8888888888888888,\"#fdca26\"],[1.0,\"#f0f921\"]]}],\"mesh3d\":[{\"type\":\"mesh3d\",\"colorbar\":{\"outlinewidth\":0,\"ticks\":\"\"}}],\"scatter\":[{\"fillpattern\":{\"fillmode\":\"overlay\",\"size\":10,\"solidity\":0.2},\"type\":\"scatter\"}],\"parcoords\":[{\"type\":\"parcoords\",\"line\":{\"colorbar\":{\"outlinewidth\":0,\"ticks\":\"\"}}}],\"scatterpolargl\":[{\"type\":\"scatterpolargl\",\"marker\":{\"colorbar\":{\"outlinewidth\":0,\"ticks\":\"\"}}}],\"bar\":[{\"error_x\":{\"color\":\"#2a3f5f\"},\"error_y\":{\"color\":\"#2a3f5f\"},\"marker\":{\"line\":{\"color\":\"#E5ECF6\",\"width\":0.5},\"pattern\":{\"fillmode\":\"overlay\",\"size\":10,\"solidity\":0.2}},\"type\":\"bar\"}],\"scattergeo\":[{\"type\":\"scattergeo\",\"marker\":{\"colorbar\":{\"outlinewidth\":0,\"ticks\":\"\"}}}],\"scatterpolar\":[{\"type\":\"scatterpolar\",\"marker\":{\"colorbar\":{\"outlinewidth\":0,\"ticks\":\"\"}}}],\"histogram\":[{\"marker\":{\"pattern\":{\"fillmode\":\"overlay\",\"size\":10,\"solidity\":0.2}},\"type\":\"histogram\"}],\"scattergl\":[{\"type\":\"scattergl\",\"marker\":{\"colorbar\":{\"outlinewidth\":0,\"ticks\":\"\"}}}],\"scatter3d\":[{\"type\":\"scatter3d\",\"line\":{\"colorbar\":{\"outlinewidth\":0,\"ticks\":\"\"}},\"marker\":{\"colorbar\":{\"outlinewidth\":0,\"ticks\":\"\"}}}],\"scattermapbox\":[{\"type\":\"scattermapbox\",\"marker\":{\"colorbar\":{\"outlinewidth\":0,\"ticks\":\"\"}}}],\"scatterternary\":[{\"type\":\"scatterternary\",\"marker\":{\"colorbar\":{\"outlinewidth\":0,\"ticks\":\"\"}}}],\"scattercarpet\":[{\"type\":\"scattercarpet\",\"marker\":{\"colorbar\":{\"outlinewidth\":0,\"ticks\":\"\"}}}],\"carpet\":[{\"aaxis\":{\"endlinecolor\":\"#2a3f5f\",\"gridcolor\":\"white\",\"linecolor\":\"white\",\"minorgridcolor\":\"white\",\"startlinecolor\":\"#2a3f5f\"},\"baxis\":{\"endlinecolor\":\"#2a3f5f\",\"gridcolor\":\"white\",\"linecolor\":\"white\",\"minorgridcolor\":\"white\",\"startlinecolor\":\"#2a3f5f\"},\"type\":\"carpet\"}],\"table\":[{\"cells\":{\"fill\":{\"color\":\"#EBF0F8\"},\"line\":{\"color\":\"white\"}},\"header\":{\"fill\":{\"color\":\"#C8D4E3\"},\"line\":{\"color\":\"white\"}},\"type\":\"table\"}],\"barpolar\":[{\"marker\":{\"line\":{\"color\":\"#E5ECF6\",\"width\":0.5},\"pattern\":{\"fillmode\":\"overlay\",\"size\":10,\"solidity\":0.2}},\"type\":\"barpolar\"}],\"pie\":[{\"automargin\":true,\"type\":\"pie\"}]},\"layout\":{\"autotypenumbers\":\"strict\",\"colorway\":[\"#636efa\",\"#EF553B\",\"#00cc96\",\"#ab63fa\",\"#FFA15A\",\"#19d3f3\",\"#FF6692\",\"#B6E880\",\"#FF97FF\",\"#FECB52\"],\"font\":{\"color\":\"#2a3f5f\"},\"hovermode\":\"closest\",\"hoverlabel\":{\"align\":\"left\"},\"paper_bgcolor\":\"white\",\"plot_bgcolor\":\"#E5ECF6\",\"polar\":{\"bgcolor\":\"#E5ECF6\",\"angularaxis\":{\"gridcolor\":\"white\",\"linecolor\":\"white\",\"ticks\":\"\"},\"radialaxis\":{\"gridcolor\":\"white\",\"linecolor\":\"white\",\"ticks\":\"\"}},\"ternary\":{\"bgcolor\":\"#E5ECF6\",\"aaxis\":{\"gridcolor\":\"white\",\"linecolor\":\"white\",\"ticks\":\"\"},\"baxis\":{\"gridcolor\":\"white\",\"linecolor\":\"white\",\"ticks\":\"\"},\"caxis\":{\"gridcolor\":\"white\",\"linecolor\":\"white\",\"ticks\":\"\"}},\"coloraxis\":{\"colorbar\":{\"outlinewidth\":0,\"ticks\":\"\"}},\"colorscale\":{\"sequential\":[[0.0,\"#0d0887\"],[0.1111111111111111,\"#46039f\"],[0.2222222222222222,\"#7201a8\"],[0.3333333333333333,\"#9c179e\"],[0.4444444444444444,\"#bd3786\"],[0.5555555555555556,\"#d8576b\"],[0.6666666666666666,\"#ed7953\"],[0.7777777777777778,\"#fb9f3a\"],[0.8888888888888888,\"#fdca26\"],[1.0,\"#f0f921\"]],\"sequentialminus\":[[0.0,\"#0d0887\"],[0.1111111111111111,\"#46039f\"],[0.2222222222222222,\"#7201a8\"],[0.3333333333333333,\"#9c179e\"],[0.4444444444444444,\"#bd3786\"],[0.5555555555555556,\"#d8576b\"],[0.6666666666666666,\"#ed7953\"],[0.7777777777777778,\"#fb9f3a\"],[0.8888888888888888,\"#fdca26\"],[1.0,\"#f0f921\"]],\"diverging\":[[0,\"#8e0152\"],[0.1,\"#c51b7d\"],[0.2,\"#de77ae\"],[0.3,\"#f1b6da\"],[0.4,\"#fde0ef\"],[0.5,\"#f7f7f7\"],[0.6,\"#e6f5d0\"],[0.7,\"#b8e186\"],[0.8,\"#7fbc41\"],[0.9,\"#4d9221\"],[1,\"#276419\"]]},\"xaxis\":{\"gridcolor\":\"white\",\"linecolor\":\"white\",\"ticks\":\"\",\"title\":{\"standoff\":15},\"zerolinecolor\":\"white\",\"automargin\":true,\"zerolinewidth\":2},\"yaxis\":{\"gridcolor\":\"white\",\"linecolor\":\"white\",\"ticks\":\"\",\"title\":{\"standoff\":15},\"zerolinecolor\":\"white\",\"automargin\":true,\"zerolinewidth\":2},\"scene\":{\"xaxis\":{\"backgroundcolor\":\"#E5ECF6\",\"gridcolor\":\"white\",\"linecolor\":\"white\",\"showbackground\":true,\"ticks\":\"\",\"zerolinecolor\":\"white\",\"gridwidth\":2},\"yaxis\":{\"backgroundcolor\":\"#E5ECF6\",\"gridcolor\":\"white\",\"linecolor\":\"white\",\"showbackground\":true,\"ticks\":\"\",\"zerolinecolor\":\"white\",\"gridwidth\":2},\"zaxis\":{\"backgroundcolor\":\"#E5ECF6\",\"gridcolor\":\"white\",\"linecolor\":\"white\",\"showbackground\":true,\"ticks\":\"\",\"zerolinecolor\":\"white\",\"gridwidth\":2}},\"shapedefaults\":{\"line\":{\"color\":\"#2a3f5f\"}},\"annotationdefaults\":{\"arrowcolor\":\"#2a3f5f\",\"arrowhead\":0,\"arrowwidth\":1},\"geo\":{\"bgcolor\":\"white\",\"landcolor\":\"#E5ECF6\",\"subunitcolor\":\"white\",\"showland\":true,\"showlakes\":true,\"lakecolor\":\"white\"},\"title\":{\"x\":0.05},\"mapbox\":{\"style\":\"light\"}}},\"xaxis\":{\"anchor\":\"y\",\"domain\":[0.0,1.0],\"title\":{\"text\":\"Rating\"},\"showgrid\":true,\"gridwidth\":0.5,\"gridcolor\":\"lightgray\"},\"yaxis\":{\"anchor\":\"x\",\"domain\":[0.0,1.0],\"title\":{\"text\":\"Total Spend\"},\"showgrid\":true,\"gridwidth\":0.5,\"gridcolor\":\"lightgray\"},\"legend\":{\"title\":{\"text\":\"Product_line\"},\"tracegroupgap\":0},\"title\":{\"text\":\"Rating vs Total Spend by Product Line\"}},                        {\"responsive\": true}                    ).then(function(){\n",
       "                            \n",
       "var gd = document.getElementById('3ffd30a7-9227-4e87-8a92-0aebdb8b7bcb');\n",
       "var x = new MutationObserver(function (mutations, observer) {{\n",
       "        var display = window.getComputedStyle(gd).display;\n",
       "        if (!display || display === 'none') {{\n",
       "            console.log([gd, 'removed!']);\n",
       "            Plotly.purge(gd);\n",
       "            observer.disconnect();\n",
       "        }}\n",
       "}});\n",
       "\n",
       "// Listen for the removal of the full notebook cells\n",
       "var notebookContainer = gd.closest('#notebook-container');\n",
       "if (notebookContainer) {{\n",
       "    x.observe(notebookContainer, {childList: true});\n",
       "}}\n",
       "\n",
       "// Listen for the clearing of the current output cell\n",
       "var outputEl = gd.closest('.output');\n",
       "if (outputEl) {{\n",
       "    x.observe(outputEl, {childList: true});\n",
       "}}\n",
       "\n",
       "                        })                };                });            </script>        </div>"
      ]
     },
     "metadata": {},
     "output_type": "display_data"
    }
   ],
   "source": [
    "fig = px.scatter(ratings_df, x='Rating', y='Total Spend', color='Product_line', title='Rating vs Total Spend by Product Line')\n",
    "fig.update_traces(marker=dict(size=16, opacity=0.7),\n",
    "                  selector=dict(mode='markers+text'))\n",
    "\n",
    "# Customize the layout\n",
    "fig.update_layout(xaxis_title='Rating', yaxis_title='Total Spend')\n",
    "fig.update_xaxes(showgrid=True, gridwidth=0.5, gridcolor='lightgray')\n",
    "fig.update_yaxes(showgrid=True, gridwidth=0.5, gridcolor='lightgray')\n",
    "\n",
    "fig.show()"
   ]
  },
  {
   "cell_type": "markdown",
   "id": "d2ee27d8",
   "metadata": {},
   "source": [
    "Some of the lowest rated categories: 'Fashion accessories', 'Sports and Travel' and 'Food and beverages' seem to have the lowest ratings but have the highest sales. The lowest selling category, 'Health and beauty', is the lowest selling. This pattern suggests that although the rating of the top selling categories is comparatively low - these are essential items that customers continue to buy."
   ]
  },
  {
   "cell_type": "markdown",
<<<<<<< HEAD
=======
   "id": "2197bef4",
   "metadata": {},
   "source": []
  },
  {
   "cell_type": "markdown",
   "id": "691f554a",
   "metadata": {},
   "source": []
  },
  {
   "cell_type": "markdown",
   "id": "32737610",
   "metadata": {},
   "source": []
  },
  {
   "cell_type": "code",
   "execution_count": null,
   "id": "f9ea68f8",
   "metadata": {},
   "outputs": [],
   "source": []
  },
  {
   "cell_type": "markdown",
   "id": "5b2b488e",
   "metadata": {},
   "source": [
    "###  4.8 Which branch has the highest and lowest sales and Calculate and compare the total sales for each branch."
   ]
  },
  {
   "cell_type": "code",
   "execution_count": 55,
   "id": "fcf88e54",
   "metadata": {},
   "outputs": [
    {
     "name": "stdout",
     "output_type": "stream",
     "text": [
      "Most Popular Payment Method: Ewallet (345 occurrences)\n",
      "Least Popular Payment Method: Credit card (311 occurrences)\n"
     ]
    },
    {
     "data": {
      "image/png": "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\n",
      "text/plain": [
       "<Figure size 800x600 with 1 Axes>"
      ]
     },
     "metadata": {},
     "output_type": "display_data"
    }
   ],
   "source": [
    "# Calculate the frequency of each payment method\n",
    "\n",
    "payment_method_counts = df['Payment_Method'].value_counts()\n",
    "# Find the most popular payment method (with the highest frequency)\n",
    "most_popular_payment_method = payment_method_counts.idxmax()\n",
    "most_popular_payment_count = payment_method_counts.max()\n",
    "\n",
    "# Find the least popular payment method (with the lowest frequency)\n",
    "least_popular_payment_method = payment_method_counts.idxmin()\n",
    "least_popular_payment_count = payment_method_counts.min()\n",
    "\n",
    "# Print the results\n",
    "print(f\"Most Popular Payment Method: {most_popular_payment_method} ({most_popular_payment_count} occurrences)\")\n",
    "print(f\"Least Popular Payment Method: {least_popular_payment_method} ({least_popular_payment_count} occurrences)\")\n",
    "\n",
    "# Create a bar chart with a specific design\n",
    "plt.figure(figsize=(8, 6))\n",
    "colors = ['#FF5733', '#66b3ff', '#FFD700']\n",
    "payment_method_counts.plot(kind='bar', color=colors)\n",
    "\n",
    "# Customize the chart\n",
    "plt.title('Popularity of Payment Methods')\n",
    "plt.xlabel('Payment Method')\n",
    "plt.ylabel('Frequency')\n",
    "plt.xticks(rotation=45)  # Rotate x-axis labels for readability\n",
    "\n",
    "# Annotate the bars with their respective frequencies\n",
    "for i, v in enumerate(payment_method_counts):\n",
    "    plt.text(i, v, str(v), ha='center', va='bottom')\n",
    "\n",
    "# Show the chart\n",
    "plt.show()"
   ]
  },
  {
   "cell_type": "markdown",
   "id": "9d3c7605",
   "metadata": {},
   "source": [
    "###  4.9 What is the distribution of product categories in terms of sales?"
   ]
  },
  {
   "cell_type": "code",
   "execution_count": 56,
   "id": "cf180f07",
   "metadata": {},
   "outputs": [
    {
     "name": "stdout",
     "output_type": "stream",
     "text": [
      "Category Sales Data:\n",
      "Product_line\n",
      "Food and beverages        56144.8440\n",
      "Sports and travel         55122.8265\n",
      "Electronic accessories    54337.5315\n",
      "Fashion accessories       54305.8950\n",
      "Home and lifestyle        53861.9130\n",
      "Health and beauty         49193.7390\n",
      "Name: Total, dtype: float64\n"
     ]
    },
    {
     "data": {
      "image/png": "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\n",
      "text/plain": [
       "<Figure size 1000x600 with 1 Axes>"
      ]
     },
     "metadata": {},
     "output_type": "display_data"
    }
   ],
   "source": [
    "# Group the data by product categories and calculate total sales\n",
    "category_sales = df.groupby('Product_line')['Total'].sum().sort_values(ascending=False)\n",
    "\n",
    "# Print the category_sales data for reference\n",
    "print(\"Category Sales Data:\")\n",
    "print(category_sales)\n",
    "\n",
    "# Create a bar chart to visualize the distribution\n",
    "plt.figure(figsize=(10, 6))\n",
    "category_sales.plot(kind='bar', color='#66b3ff')  # Use a specific color for bars\n",
    "\n",
    "# Customize the chart\n",
    "plt.title('Distribution of Product Categories in Terms of Sales')\n",
    "plt.xlabel('Product Category')\n",
    "plt.ylabel('Total Sales')\n",
    "plt.xticks(rotation=45, ha='right')  # Rotate x-axis labels for readability\n",
    "\n",
    "# Annotate the bars with their respective total sales values\n",
    "for i, v in enumerate(category_sales):\n",
    "    plt.text(i, v, f'{v:.2f}', ha='center', va='bottom', fontsize=10)\n",
    "\n",
    "# Show the bar chart\n",
    "plt.tight_layout()\n",
    "plt.show()"
   ]
  },
  {
   "cell_type": "markdown",
   "id": "d4bf9105",
   "metadata": {},
   "source": [
    "###  4.10 Is there a significant difference in sales between members and non-members?\n",
    "Analyze the total sales and average sales per customer type."
   ]
  },
  {
   "cell_type": "code",
   "execution_count": null,
   "id": "4fac05e2",
   "metadata": {},
   "outputs": [],
   "source": []
  },
  {
   "cell_type": "markdown",
   "id": "b516ab73",
   "metadata": {},
   "source": [
    "### 4 .11  How payment methods are distributed among male and female customers?\n",
    "Investigate whether there are gender-based differences in product preferences or spending.\n",
    "How gender affects the payment method,total amount spend, and which gender makes the biggest customer base. "
   ]
  },
  {
   "cell_type": "code",
   "execution_count": 63,
   "id": "039bf6b8",
   "metadata": {},
   "outputs": [
    {
     "data": {
      "image/png": "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\n",
      "text/plain": [
       "<Figure size 1000x500 with 2 Axes>"
      ]
     },
     "metadata": {},
     "output_type": "display_data"
    }
   ],
   "source": [
    "# Group the data by gender\n",
    "gender_groups = df.groupby('Gender')\n",
    "\n",
    "# Define custom colors for 'Cash', 'Credit Card', and 'Ewallet'\n",
    "custom_colors = {'Cash': '#ff9999', 'Credit card': '#66b3ff', 'Ewallet': '#ffcc99'}\n",
    "\n",
    "# Create side-by-side pie charts with space between them\n",
    "fig, axs = plt.subplots(1, 2, figsize=(10, 5), gridspec_kw={'wspace': 0.6})  # Add space between subplots\n",
    "\n",
    "# Iterate over each gender group and create a pie chart\n",
    "for i, (gender, group_data) in enumerate(gender_groups):\n",
    "    payment_method_distribution = group_data['Payment_Method'].value_counts(normalize=True) * 100\n",
    "\n",
    "    # Create a pie chart in the corresponding subplot\n",
    "    ax = axs[i]\n",
    "    labels = payment_method_distribution.index\n",
    "    colors = [custom_colors[payment_method] for payment_method in labels]  # Use custom colors\n",
    "    ax.pie(payment_method_distribution, labels=labels, autopct='%1.1f%%', colors=colors, startangle=90)\n",
    "    ax.axis('equal')  # Equal aspect ratio ensures that the pie is drawn as a circle\n",
    "\n",
    "    # Set chart title based on gender\n",
    "    ax.set_title(f'Payment Method Distribution for {gender} Customers')\n",
    "\n",
    "# Show the side-by-side pie charts\n",
    "plt.show()"
   ]
  },
  {
   "cell_type": "markdown",
>>>>>>> 3a02bc2bd8140609b12dc3ae5eee29ec06e4eb0a
   "id": "a3947fe9",
   "metadata": {},
   "source": [
    "### 4.12 Do certain product categories have higher profit margins?\n",
    "Calculate and compare the gross margin percentages for different product lines."
   ]
  },
  {
   "cell_type": "code",
   "execution_count": null,
   "id": "9c0154ac",
   "metadata": {},
   "outputs": [],
   "source": []
  },
  {
   "cell_type": "markdown",
<<<<<<< HEAD
=======
   "id": "c22812c6",
   "metadata": {},
   "source": [
    "### 4.13 Is there a correlation between the time of day and sales volume?\n",
    "Investigate whether sales vary significantly during different times of the day."
   ]
  },
  {
   "cell_type": "code",
   "execution_count": null,
   "id": "ee594715",
   "metadata": {},
   "outputs": [],
   "source": []
  },
  {
   "cell_type": "markdown",
>>>>>>> 3a02bc2bd8140609b12dc3ae5eee29ec06e4eb0a
   "id": "db6c5a25",
   "metadata": {},
   "source": [
    "### 4.14 Are there any outliers in the data, such as unusually high or low sales transactions?\n",
    "Identify and investigate any outliers in sales or other numerical columns."
   ]
  },
  {
   "cell_type": "code",
   "execution_count": null,
   "id": "19c22b09",
   "metadata": {},
   "outputs": [],
   "source": []
  },
  {
   "cell_type": "markdown",
<<<<<<< HEAD
=======
   "id": "16a902bd",
   "metadata": {},
   "source": [
    "### 4.15 What is the average gross income for each branch?\n",
    "Calculate and compare the average gross income generated by each branch."
   ]
  },
  {
   "cell_type": "code",
   "execution_count": null,
   "id": "81debd04",
   "metadata": {},
   "outputs": [],
   "source": []
  },
  {
   "cell_type": "markdown",
>>>>>>> 3a02bc2bd8140609b12dc3ae5eee29ec06e4eb0a
   "id": "5b6a1154",
   "metadata": {},
   "source": [
    "Feedback"
   ]
  },
  {
   "cell_type": "markdown",
   "id": "3fd34572",
   "metadata": {},
   "source": [
    "Conclusion"
   ]
  }
 ],
 "metadata": {
  "kernelspec": {
   "display_name": "Python 3 (ipykernel)",
   "language": "python",
   "name": "python3"
  },
  "language_info": {
   "codemirror_mode": {
    "name": "ipython",
    "version": 3
   },
   "file_extension": ".py",
   "mimetype": "text/x-python",
   "name": "python",
   "nbconvert_exporter": "python",
   "pygments_lexer": "ipython3",
   "version": "3.9.13"
  }
 },
 "nbformat": 4,
 "nbformat_minor": 5
}
