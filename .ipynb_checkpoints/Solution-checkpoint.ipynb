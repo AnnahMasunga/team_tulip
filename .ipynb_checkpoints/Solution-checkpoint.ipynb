{
 "cells": [
  {
   "cell_type": "markdown",
   "id": "75f6b5d2",
   "metadata": {},
   "source": [
    "# Retail Chain Sales Exploratory Data Analysis\n",
    "\n",
    "![Assorted Drinks](./assets/images/kenny-eliason-SvhXD3kPSTY-unsplash.jpg)\n",
    "\n",
    "Photo by <a href=\"https://unsplash.com/@neonbrand?utm_source=unsplash&utm_medium=referral&utm_content=creditCopyText\">Kenny Eliason</a> on <a href=\"https://unsplash.com/photos/SvhXD3kPSTY?utm_source=unsplash&utm_medium=referral&utm_content=creditCopyText\">Unsplash</a>\n",
    "  "
   ]
  },
  {
   "cell_type": "markdown",
   "id": "a101a8de",
   "metadata": {},
   "source": [
    "## 1. Business Understanding\n",
    "\n",
    "We are embarking on an Exploratory Data Analysis (EDA) journey with a rich supermarket dataset, and our collective focus lies in formulating a comprehensive problem statement. Firstly, we aim to unravel the intricate patterns within sales data, aiming to discern the key factors influencing them. Our group endeavors to identify the top-selling product categories, investigate seasonal variations, and scrutinize the potential correlations between Payment Method and sales performance. Moreover, we're eager to understand if specific days of the week or particular times of day witness increased foot traffic and/or higher sales, as this can greatly inform our decisions regarding staffing and inventory management.\n",
    "\n",
    "Additionally, we are committed to delving into the intricacies of customer segmentation and behavior analysis. Our objective is to uncover who our most frequent customers are, along with their demographic profiles and preferred product choices. We are also excited to unearth any discernible purchasing patterns among our customers. Such insights will be pivotal in designing targeted marketing strategies and optimizing product placement strategies throughout the store.\n",
    "\n",
    "Lastly, we are intrigued by the geographical and demographic factors that influence our store's performance. Our collective efforts will focus on analyzing the supermarket's location in relation to residential areas, competitors, and transportation hubs. We are also keen on understanding the income levels and preferences of the local population, as this information will enable us to tailor our product offerings and marketing campaigns to maximize sales and profitability.\n",
    "\n",
    "In summary, our group is committed to conducting an EDA on this supermarket dataset with the ultimate goal of providing actionable insights. By addressing these various aspects in our analysis, we aim to improve the supermarket's operations, enhance customer satisfaction, and ultimately drive the growth of our business."
   ]
  },
  {
   "cell_type": "markdown",
   "id": "7c5c41a3",
   "metadata": {},
   "source": [
    "## 2. Data Understanding\n"
   ]
  },
  {
   "cell_type": "markdown",
   "id": "f9e14e17",
   "metadata": {},
   "source": [
    "# Data Cleaning\n",
    "-Missing values\n",
    "-Checking Duplicates\n",
    "-Data Format"
   ]
  },
  {
   "cell_type": "code",
   "execution_count": null,
   "id": "bbbf4bf0",
   "metadata": {},
   "outputs": [],
   "source": [
    "#column names "
   ]
  },
  {
   "cell_type": "code",
   "execution_count": null,
   "id": "e74bac3f",
   "metadata": {},
   "outputs": [],
   "source": [
    "#Missing Values"
   ]
  },
  {
   "cell_type": "code",
   "execution_count": null,
   "id": "666c7c5c",
   "metadata": {},
   "outputs": [],
   "source": [
    "#Data Format"
   ]
  },
  {
   "cell_type": "code",
   "execution_count": null,
   "id": "31513646",
   "metadata": {},
   "outputs": [],
   "source": [
    "#Checking Duplicates"
   ]
  },
  {
   "cell_type": "code",
   "execution_count": null,
   "id": "a60265f1",
   "metadata": {},
   "outputs": [],
   "source": []
  },
  {
   "cell_type": "markdown",
   "id": "1326b466",
   "metadata": {},
   "source": [
    "# EDA\n",
    "What is the overall sales trend over the three-month period?\n",
    "Plot the total sales over time to visualize any trends or seasonality.\n",
    "\n",
    "Which branch has the highest and lowest sales?\n",
    "Calculate and compare the total sales for each branch.\n",
    "\n",
    "What is the distribution of product categories in terms of sales?\n",
    "Explore the sales distribution across different product lines.\n",
    "\n",
    "Is there a significant difference in sales between members and non-members?\n",
    "Analyze the total sales and average sales per customer type.\n",
    "\n",
    "How does gender impact purchasing behavior?\n",
    "Investigate whether there are gender-based differences in product preferences or spending.\n",
    "How gender affects the payment method,total amount spend, and which gender makes the biggest customer base. \n",
    "\n",
    "What are the most and least popular payment methods?\n",
    "Determine the frequency of each payment method used by customers.\n",
    "\n",
    "Are there any noticeable patterns in customer ratings?\n",
    "Analyze the distribution of customer ratings and look for trends over time.\n",
    "\n",
    "Do certain product categories have higher profit margins?\n",
    "Calculate and compare the gross margin percentages for different product lines.\n",
    "\n",
    "Is there a correlation between the time of day and sales volume?\n",
    "Investigate whether sales vary significantly during different times of the day.\n",
    "\n",
    "How do sales vary on different days of the week?\n",
    "Analyze whether there are specific days that consistently have higher or lower sales.\n",
    "\n",
    "Are there any outliers in the data, such as unusually high or low sales transactions?\n",
    "Identify and investigate any outliers in sales or other numerical columns.\n",
    "\n",
    "Is there a relationship between customer ratings and total spending?\n",
    "Examine whether customers who spend more tend to give higher ratings.\n",
    "\n",
    "What is the average gross income for each branch?\n",
    "Calculate and compare the average gross income generated by each branch.\n",
    "\n"
   ]
  },
  {
   "cell_type": "code",
   "execution_count": null,
   "id": "13937dd0",
   "metadata": {},
   "outputs": [],
   "source": [
    "#imports\n",
    "import numpy as np\n",
    "import pandas as pd\n",
    "import matplotlib.pyplot as plt"
   ]
  },
  {
   "cell_type": "code",
   "execution_count": null,
   "id": "f9ea68f8",
   "metadata": {},
   "outputs": [],
   "source": []
  },
  {
   "cell_type": "markdown",
   "id": "fc531b85",
   "metadata": {},
   "source": [
    "What is the overall sales trend over the three-month period?\n",
    "Plot the total sales over time to visualize any trends or seasonality."
   ]
  },
  {
   "cell_type": "code",
   "execution_count": null,
   "id": "77f842ac",
   "metadata": {},
   "outputs": [],
   "source": []
  },
  {
   "cell_type": "markdown",
   "id": "5b2b488e",
   "metadata": {},
   "source": [
    "Which branch has the highest and lowest sales?\n",
    "Calculate and compare the total sales for each branch."
   ]
  },
  {
   "cell_type": "code",
   "execution_count": null,
   "id": "fcf88e54",
   "metadata": {},
   "outputs": [],
   "source": []
  },
  {
   "cell_type": "markdown",
   "id": "9d3c7605",
   "metadata": {},
   "source": [
    "What is the distribution of product categories in terms of sales?\n",
    "Explore the sales distribution across different product lines."
   ]
  },
  {
   "cell_type": "code",
   "execution_count": null,
   "id": "cf180f07",
   "metadata": {},
   "outputs": [],
   "source": []
  },
  {
   "cell_type": "markdown",
   "id": "d4bf9105",
   "metadata": {},
   "source": [
    "Is there a significant difference in sales between members and non-members?\n",
    "Analyze the total sales and average sales per customer type."
   ]
  },
  {
   "cell_type": "code",
   "execution_count": null,
   "id": "4fac05e2",
   "metadata": {},
   "outputs": [],
   "source": []
  },
  {
   "cell_type": "markdown",
   "id": "b516ab73",
   "metadata": {},
   "source": [
    "How does gender impact purchasing behavior?\n",
    "Investigate whether there are gender-based differences in product preferences or spending.\n",
    "How gender affects the payment method,total amount spend, and which gender makes the biggest customer base. "
   ]
  },
  {
   "cell_type": "code",
   "execution_count": null,
   "id": "039bf6b8",
   "metadata": {},
   "outputs": [],
   "source": []
  },
  {
   "cell_type": "markdown",
   "id": "038a0b50",
   "metadata": {},
   "source": [
    "What are the most and least popular payment methods?\n",
    "Determine the frequency of each payment method used by customers."
   ]
  },
  {
   "cell_type": "code",
   "execution_count": null,
   "id": "692317e7",
   "metadata": {},
   "outputs": [],
   "source": []
  },
  {
   "cell_type": "markdown",
   "id": "6177cac2",
   "metadata": {},
   "source": [
    "Are there any noticeable patterns in customer ratings?\n",
    "Analyze the distribution of customer ratings and look for trends over time."
   ]
  },
  {
   "cell_type": "code",
   "execution_count": null,
   "id": "4820b0f3",
   "metadata": {},
   "outputs": [],
   "source": []
  },
  {
   "cell_type": "markdown",
   "id": "a3947fe9",
   "metadata": {},
   "source": [
    "Do certain product categories have higher profit margins?\n",
    "Calculate and compare the gross margin percentages for different product lines."
   ]
  },
  {
   "cell_type": "code",
   "execution_count": null,
   "id": "9c0154ac",
   "metadata": {},
   "outputs": [],
   "source": []
  },
  {
   "cell_type": "markdown",
   "id": "c22812c6",
   "metadata": {},
   "source": [
    "Is there a correlation between the time of day and sales volume?\n",
    "Investigate whether sales vary significantly during different times of the day."
   ]
  },
  {
   "cell_type": "code",
   "execution_count": null,
   "id": "ee594715",
   "metadata": {},
   "outputs": [],
   "source": []
  },
  {
   "cell_type": "markdown",
   "id": "74cd30b0",
   "metadata": {},
   "source": [
    "How do sales vary on different days of the week?\n",
    "Analyze whether there are specific days that consistently have higher or lower sales."
   ]
  },
  {
   "cell_type": "code",
   "execution_count": null,
   "id": "b016a9c7",
   "metadata": {},
   "outputs": [],
   "source": []
  },
  {
   "cell_type": "markdown",
   "id": "db6c5a25",
   "metadata": {},
   "source": [
    "Are there any outliers in the data, such as unusually high or low sales transactions?\n",
    "Identify and investigate any outliers in sales or other numerical columns."
   ]
  },
  {
   "cell_type": "code",
   "execution_count": null,
   "id": "d0b358a3",
   "metadata": {},
   "outputs": [],
   "source": []
  },
  {
   "cell_type": "markdown",
   "id": "7b31c2b3",
   "metadata": {},
   "source": [
    "Is there a relationship between customer ratings and total spending?\n",
    "Examine whether customers who spend more tend to give higher ratings."
   ]
  },
  {
   "cell_type": "code",
   "execution_count": null,
   "id": "19c22b09",
   "metadata": {},
   "outputs": [],
   "source": []
  },
  {
   "cell_type": "markdown",
   "id": "16a902bd",
   "metadata": {},
   "source": [
    "What is the average gross income for each branch?\n",
    "Calculate and compare the average gross income generated by each branch."
   ]
  },
  {
   "cell_type": "code",
   "execution_count": null,
   "id": "81debd04",
   "metadata": {},
   "outputs": [],
   "source": []
  },
  {
   "cell_type": "markdown",
   "id": "5b6a1154",
   "metadata": {},
   "source": [
    "Feedback"
   ]
  },
  {
   "cell_type": "markdown",
   "id": "3fd34572",
   "metadata": {},
   "source": [
    "Conclusion"
   ]
  }
 ],
 "metadata": {
  "kernelspec": {
   "display_name": "Python 3 (ipykernel)",
   "language": "python",
   "name": "python3"
  },
  "language_info": {
   "codemirror_mode": {
    "name": "ipython",
    "version": 3
   },
   "file_extension": ".py",
   "mimetype": "text/x-python",
   "name": "python",
   "nbconvert_exporter": "python",
   "pygments_lexer": "ipython3",
   "version": "3.11.3"
  }
 },
 "nbformat": 4,
 "nbformat_minor": 5
}
