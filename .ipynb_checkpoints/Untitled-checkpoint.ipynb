{
 "cells": [
  {
   "cell_type": "markdown",
   "id": "410875d9",
   "metadata": {},
   "source": [
    "Introduction"
   ]
  },
  {
   "cell_type": "markdown",
   "id": "2cedb29e",
   "metadata": {},
   "source": [
    "Data Description"
   ]
  },
  {
   "cell_type": "markdown",
   "id": "8a7c557a",
   "metadata": {},
   "source": [
    "Data Cleaning\n",
    "-Missing values\n",
    "-Checking Duplicates\n",
    "-Data Format"
   ]
  },
  {
   "cell_type": "markdown",
   "id": "29d9a58e",
   "metadata": {},
   "source": [
    "EDA\n"
   ]
  },
  {
   "cell_type": "markdown",
   "id": "dc0d0ff7",
   "metadata": {},
   "source": [
    "Feedback"
   ]
  },
  {
   "cell_type": "markdown",
   "id": "2db68cf0",
   "metadata": {},
   "source": []
  }
 ],
 "metadata": {
  "kernelspec": {
   "display_name": "Python 3 (ipykernel)",
   "language": "python",
   "name": "python3"
  },
  "language_info": {
   "codemirror_mode": {
    "name": "ipython",
    "version": 3
   },
   "file_extension": ".py",
   "mimetype": "text/x-python",
   "name": "python",
   "nbconvert_exporter": "python",
   "pygments_lexer": "ipython3",
   "version": "3.9.13"
  }
 },
 "nbformat": 4,
 "nbformat_minor": 5
}
